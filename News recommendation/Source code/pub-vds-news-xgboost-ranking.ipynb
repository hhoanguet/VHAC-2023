{
 "cells": [
  {
   "cell_type": "code",
   "execution_count": 1,
   "id": "dfc3b349",
   "metadata": {
    "_cell_guid": "b1076dfc-b9ad-4769-8c92-a6c4dae69d19",
    "_uuid": "8f2839f25d086af736a60e9eeb907d3b93b6e0e5",
    "execution": {
     "iopub.execute_input": "2023-10-13T00:26:17.407847Z",
     "iopub.status.busy": "2023-10-13T00:26:17.407383Z",
     "iopub.status.idle": "2023-10-13T00:26:22.661511Z",
     "shell.execute_reply": "2023-10-13T00:26:22.660474Z"
    },
    "papermill": {
     "duration": 5.267845,
     "end_time": "2023-10-13T00:26:22.664564",
     "exception": false,
     "start_time": "2023-10-13T00:26:17.396719",
     "status": "completed"
    },
    "tags": []
   },
   "outputs": [
    {
     "name": "stderr",
     "output_type": "stream",
     "text": [
      "/opt/conda/lib/python3.10/site-packages/scipy/__init__.py:146: UserWarning: A NumPy version >=1.16.5 and <1.23.0 is required for this version of SciPy (detected version 1.23.5\n",
      "  warnings.warn(f\"A NumPy version >={np_minversion} and <{np_maxversion}\"\n"
     ]
    }
   ],
   "source": [
    "import pandas as pd\n",
    "import numpy as np\n",
    "from pathlib import Path\n",
    "import pickle\n",
    "import matplotlib.pyplot as plt\n",
    "import seaborn as sns\n",
    "import torch\n",
    "import random\n",
    "import os \n",
    "import gc\n",
    "\n",
    "sns.set_theme()\n",
    "pd.set_option('display.max_rows', 200)\n",
    "\n",
    "import warnings\n",
    "warnings.filterwarnings('ignore')"
   ]
  },
  {
   "cell_type": "code",
   "execution_count": 2,
   "id": "0f03d5fb",
   "metadata": {
    "execution": {
     "iopub.execute_input": "2023-10-13T00:26:22.699912Z",
     "iopub.status.busy": "2023-10-13T00:26:22.699318Z",
     "iopub.status.idle": "2023-10-13T00:26:22.704975Z",
     "shell.execute_reply": "2023-10-13T00:26:22.704139Z"
    },
    "papermill": {
     "duration": 0.026976,
     "end_time": "2023-10-13T00:26:22.708904",
     "exception": false,
     "start_time": "2023-10-13T00:26:22.681928",
     "status": "completed"
    },
    "tags": []
   },
   "outputs": [],
   "source": [
    "SEED = 0\n",
    "def set_seed(seed):\n",
    "    random.seed(seed)\n",
    "    os.environ[\"PYTHONHASHSEED\"] = str(seed)\n",
    "    np.random.seed(seed)\n",
    "\n",
    "set_seed(SEED)"
   ]
  },
  {
   "cell_type": "code",
   "execution_count": 3,
   "id": "dbc2183d",
   "metadata": {
    "execution": {
     "iopub.execute_input": "2023-10-13T00:26:22.742103Z",
     "iopub.status.busy": "2023-10-13T00:26:22.741785Z",
     "iopub.status.idle": "2023-10-13T00:26:22.745867Z",
     "shell.execute_reply": "2023-10-13T00:26:22.745068Z"
    },
    "papermill": {
     "duration": 0.025022,
     "end_time": "2023-10-13T00:26:22.749785",
     "exception": false,
     "start_time": "2023-10-13T00:26:22.724763",
     "status": "completed"
    },
    "tags": []
   },
   "outputs": [],
   "source": [
    "data_path = Path(\"/kaggle/input/vds-news-recommendation\")"
   ]
  },
  {
   "cell_type": "code",
   "execution_count": 4,
   "id": "93343672",
   "metadata": {
    "execution": {
     "iopub.execute_input": "2023-10-13T00:26:22.782363Z",
     "iopub.status.busy": "2023-10-13T00:26:22.782062Z",
     "iopub.status.idle": "2023-10-13T00:26:35.556521Z",
     "shell.execute_reply": "2023-10-13T00:26:35.555308Z"
    },
    "papermill": {
     "duration": 12.793462,
     "end_time": "2023-10-13T00:26:35.559060",
     "exception": false,
     "start_time": "2023-10-13T00:26:22.765598",
     "status": "completed"
    },
    "tags": []
   },
   "outputs": [],
   "source": [
    "train = pd.read_parquet(data_path/\"train.parquet\")\n",
    "user_profile = pd.read_parquet(data_path/\"user_profile.parquet\")\n",
    "article_info = pd.read_parquet(data_path/\"article_information.parquet\")\n",
    "private_test = pd.read_parquet(data_path/\"private_test.parquet\") "
   ]
  },
  {
   "cell_type": "code",
   "execution_count": 5,
   "id": "74702ebe",
   "metadata": {
    "execution": {
     "iopub.execute_input": "2023-10-13T00:26:35.578690Z",
     "iopub.status.busy": "2023-10-13T00:26:35.578346Z",
     "iopub.status.idle": "2023-10-13T00:26:35.588909Z",
     "shell.execute_reply": "2023-10-13T00:26:35.587960Z"
    },
    "papermill": {
     "duration": 0.023273,
     "end_time": "2023-10-13T00:26:35.591127",
     "exception": false,
     "start_time": "2023-10-13T00:26:35.567854",
     "status": "completed"
    },
    "tags": []
   },
   "outputs": [],
   "source": [
    "# test = train[train['event_time'].dt.strftime('%Y-%m-%d') == '2022-04-11']\n",
    "# train = train.drop(test.index)\n",
    "\n",
    "test = private_test\n",
    "test['label'] = -1"
   ]
  },
  {
   "cell_type": "code",
   "execution_count": 6,
   "id": "e4f55c9e",
   "metadata": {
    "execution": {
     "iopub.execute_input": "2023-10-13T00:26:35.610591Z",
     "iopub.status.busy": "2023-10-13T00:26:35.610268Z",
     "iopub.status.idle": "2023-10-13T00:26:38.540608Z",
     "shell.execute_reply": "2023-10-13T00:26:38.539520Z"
    },
    "papermill": {
     "duration": 2.943615,
     "end_time": "2023-10-13T00:26:38.543136",
     "exception": false,
     "start_time": "2023-10-13T00:26:35.599521",
     "status": "completed"
    },
    "tags": []
   },
   "outputs": [
    {
     "name": "stdout",
     "output_type": "stream",
     "text": [
      "num interactions in train: 10120940\n",
      "time range: from 2022-04-05 23:50:04 to 2022-04-11 23:59:59\n",
      "num users: 88933\n",
      "num items: 67107\n"
     ]
    },
    {
     "data": {
      "text/html": [
       "<div>\n",
       "<style scoped>\n",
       "    .dataframe tbody tr th:only-of-type {\n",
       "        vertical-align: middle;\n",
       "    }\n",
       "\n",
       "    .dataframe tbody tr th {\n",
       "        vertical-align: top;\n",
       "    }\n",
       "\n",
       "    .dataframe thead th {\n",
       "        text-align: right;\n",
       "    }\n",
       "</style>\n",
       "<table border=\"1\" class=\"dataframe\">\n",
       "  <thead>\n",
       "    <tr style=\"text-align: right;\">\n",
       "      <th></th>\n",
       "      <th>user_id</th>\n",
       "      <th>article_id</th>\n",
       "      <th>event_time</th>\n",
       "      <th>label</th>\n",
       "    </tr>\n",
       "  </thead>\n",
       "  <tbody>\n",
       "    <tr>\n",
       "      <th>0</th>\n",
       "      <td>6e4b2ae012590b002f0552a195d03592</td>\n",
       "      <td>f38294602078b144a54267928e2daa1b</td>\n",
       "      <td>2022-04-06 10:56:51</td>\n",
       "      <td>0</td>\n",
       "    </tr>\n",
       "    <tr>\n",
       "      <th>1</th>\n",
       "      <td>49937761681b52eb2a17fe87133b7f54</td>\n",
       "      <td>d3db6da84a6e4520122aa72839f83d70</td>\n",
       "      <td>2022-04-07 16:57:09</td>\n",
       "      <td>0</td>\n",
       "    </tr>\n",
       "    <tr>\n",
       "      <th>2</th>\n",
       "      <td>86e9d75001cfbe4a94a15a45715a4a90</td>\n",
       "      <td>a53dd8f8d842f275caccd9ce99bde14e</td>\n",
       "      <td>2022-04-11 20:37:58</td>\n",
       "      <td>0</td>\n",
       "    </tr>\n",
       "    <tr>\n",
       "      <th>3</th>\n",
       "      <td>68794b2e9c86a8d21fec24182d476147</td>\n",
       "      <td>6ee66eab1744f56b39e42691e88383e5</td>\n",
       "      <td>2022-04-06 20:48:33</td>\n",
       "      <td>0</td>\n",
       "    </tr>\n",
       "    <tr>\n",
       "      <th>4</th>\n",
       "      <td>44302cee26c3ba35b3c2d3835d73acf3</td>\n",
       "      <td>9723c867ddf55424175c0eb9d5487d52</td>\n",
       "      <td>2022-04-08 16:06:52</td>\n",
       "      <td>0</td>\n",
       "    </tr>\n",
       "  </tbody>\n",
       "</table>\n",
       "</div>"
      ],
      "text/plain": [
       "                            user_id                        article_id  \\\n",
       "0  6e4b2ae012590b002f0552a195d03592  f38294602078b144a54267928e2daa1b   \n",
       "1  49937761681b52eb2a17fe87133b7f54  d3db6da84a6e4520122aa72839f83d70   \n",
       "2  86e9d75001cfbe4a94a15a45715a4a90  a53dd8f8d842f275caccd9ce99bde14e   \n",
       "3  68794b2e9c86a8d21fec24182d476147  6ee66eab1744f56b39e42691e88383e5   \n",
       "4  44302cee26c3ba35b3c2d3835d73acf3  9723c867ddf55424175c0eb9d5487d52   \n",
       "\n",
       "           event_time  label  \n",
       "0 2022-04-06 10:56:51      0  \n",
       "1 2022-04-07 16:57:09      0  \n",
       "2 2022-04-11 20:37:58      0  \n",
       "3 2022-04-06 20:48:33      0  \n",
       "4 2022-04-08 16:06:52      0  "
      ]
     },
     "execution_count": 6,
     "metadata": {},
     "output_type": "execute_result"
    }
   ],
   "source": [
    "print(f\"num interactions in train: {train.shape[0]}\")\n",
    "print(f\"time range: from {train['event_time'].min().__str__()} to {train['event_time'].max().__str__()}\")\n",
    "print(f\"num users: {train['user_id'].nunique()}\")\n",
    "print(f\"num items: {train['article_id'].nunique()}\")\n",
    "train.head()"
   ]
  },
  {
   "cell_type": "code",
   "execution_count": 7,
   "id": "9299620f",
   "metadata": {
    "execution": {
     "iopub.execute_input": "2023-10-13T00:26:38.565929Z",
     "iopub.status.busy": "2023-10-13T00:26:38.565636Z",
     "iopub.status.idle": "2023-10-13T00:26:43.946217Z",
     "shell.execute_reply": "2023-10-13T00:26:43.945075Z"
    },
    "papermill": {
     "duration": 5.395555,
     "end_time": "2023-10-13T00:26:43.948395",
     "exception": false,
     "start_time": "2023-10-13T00:26:38.552840",
     "status": "completed"
    },
    "tags": []
   },
   "outputs": [
    {
     "name": "stdout",
     "output_type": "stream",
     "text": [
      "num interactions in test: 1728018\n",
      "time range: from 2022-04-12 00:00:00 to 2022-04-13 00:09:30\n",
      "num users: 63085\n",
      "num items: 27032\n",
      "------------------------------------------------------------\n",
      "\n",
      "num anonymous users: 0\n",
      "num anonymous items: 0\n",
      "num cold users: 816\n",
      "num cold items: 8063\n",
      "       \n",
      "------------------------------------------------------------\n",
      "\n",
      "num interactions with cold users: 48448\n",
      "num interactions with cold items: 572890\n",
      "num interactions with cold users or cold items: 606262\n",
      "num interactions with cold users and cold items: 15076\n",
      "       \n"
     ]
    }
   ],
   "source": [
    "print(f\"num interactions in test: {test.shape[0]}\")\n",
    "print(f\"time range: from {test['event_time'].min().__str__()} to {test['event_time'].max().__str__()}\")\n",
    "print(f\"num users: {test['user_id'].nunique()}\")\n",
    "print(f\"num items: {test['article_id'].nunique()}\")\n",
    "test.head()\n",
    "\n",
    "print('-'*60)\n",
    "num_ano_users = test[~test['user_id'].isin(user_profile['user_id'])]['user_id'].nunique()\n",
    "num_ano_items = test[~test['article_id'].isin(article_info['article_id'])]['article_id'].nunique()\n",
    "num_cold_users = test[~test['user_id'].isin(train['user_id'])]['user_id'].nunique()\n",
    "num_cold_items = test[~test['article_id'].isin(train['article_id'])]['article_id'].nunique()\n",
    "print(f\"\"\"\n",
    "num anonymous users: {num_ano_users}\n",
    "num anonymous items: {num_ano_items}\n",
    "num cold users: {num_cold_users}\n",
    "num cold items: {num_cold_items}\n",
    "       \"\"\")\n",
    "\n",
    "print('-'*60)\n",
    "ite_cold_users = test[~test['user_id'].isin(train['user_id'])]\n",
    "ite_cold_items = test[~test['article_id'].isin(train['article_id'])]\n",
    "ite_cold_user_item = ite_cold_users[~ite_cold_users['article_id'].isin(train['article_id'])]\n",
    "ite_cold_user_or_item = len(ite_cold_users) + len(ite_cold_items) - len(ite_cold_user_item)\n",
    "print(f\"\"\"\n",
    "num interactions with cold users: {len(ite_cold_users)}\n",
    "num interactions with cold items: {len(ite_cold_items)}\n",
    "num interactions with cold users or cold items: {ite_cold_user_or_item}\n",
    "num interactions with cold users and cold items: {len(ite_cold_user_item)}\n",
    "       \"\"\")"
   ]
  },
  {
   "cell_type": "code",
   "execution_count": 8,
   "id": "227bef86",
   "metadata": {
    "execution": {
     "iopub.execute_input": "2023-10-13T00:26:43.968495Z",
     "iopub.status.busy": "2023-10-13T00:26:43.968183Z",
     "iopub.status.idle": "2023-10-13T00:26:43.978837Z",
     "shell.execute_reply": "2023-10-13T00:26:43.977755Z"
    },
    "papermill": {
     "duration": 0.023603,
     "end_time": "2023-10-13T00:26:43.981434",
     "exception": false,
     "start_time": "2023-10-13T00:26:43.957831",
     "status": "completed"
    },
    "tags": []
   },
   "outputs": [
    {
     "name": "stdout",
     "output_type": "stream",
     "text": [
      "(89762, 4)\n"
     ]
    },
    {
     "data": {
      "text/html": [
       "<div>\n",
       "<style scoped>\n",
       "    .dataframe tbody tr th:only-of-type {\n",
       "        vertical-align: middle;\n",
       "    }\n",
       "\n",
       "    .dataframe tbody tr th {\n",
       "        vertical-align: top;\n",
       "    }\n",
       "\n",
       "    .dataframe thead th {\n",
       "        text-align: right;\n",
       "    }\n",
       "</style>\n",
       "<table border=\"1\" class=\"dataframe\">\n",
       "  <thead>\n",
       "    <tr style=\"text-align: right;\">\n",
       "      <th></th>\n",
       "      <th>user_id</th>\n",
       "      <th>gender</th>\n",
       "      <th>age</th>\n",
       "      <th>os_name</th>\n",
       "    </tr>\n",
       "  </thead>\n",
       "  <tbody>\n",
       "    <tr>\n",
       "      <th>0</th>\n",
       "      <td>28501fb31cb1999658ce374fccca6812</td>\n",
       "      <td>Male</td>\n",
       "      <td>45-54</td>\n",
       "      <td>windows</td>\n",
       "    </tr>\n",
       "    <tr>\n",
       "      <th>1</th>\n",
       "      <td>2366fe0ce31b1f9e0fd38243afe45d90</td>\n",
       "      <td>Female</td>\n",
       "      <td>55-64</td>\n",
       "      <td>windows</td>\n",
       "    </tr>\n",
       "    <tr>\n",
       "      <th>2</th>\n",
       "      <td>7a113f19617277f1e7f9348d29123dd7</td>\n",
       "      <td>Male</td>\n",
       "      <td>&lt;18</td>\n",
       "      <td>windows</td>\n",
       "    </tr>\n",
       "    <tr>\n",
       "      <th>3</th>\n",
       "      <td>51dad112607b09338ceb9585a9d5f42b</td>\n",
       "      <td>Female</td>\n",
       "      <td>55-64</td>\n",
       "      <td>windows</td>\n",
       "    </tr>\n",
       "    <tr>\n",
       "      <th>4</th>\n",
       "      <td>3944c237ce91544babbbafccd127a1eb</td>\n",
       "      <td>Male</td>\n",
       "      <td>55-64</td>\n",
       "      <td>windows</td>\n",
       "    </tr>\n",
       "  </tbody>\n",
       "</table>\n",
       "</div>"
      ],
      "text/plain": [
       "                            user_id  gender    age  os_name\n",
       "0  28501fb31cb1999658ce374fccca6812    Male  45-54  windows\n",
       "1  2366fe0ce31b1f9e0fd38243afe45d90  Female  55-64  windows\n",
       "2  7a113f19617277f1e7f9348d29123dd7    Male    <18  windows\n",
       "3  51dad112607b09338ceb9585a9d5f42b  Female  55-64  windows\n",
       "4  3944c237ce91544babbbafccd127a1eb    Male  55-64  windows"
      ]
     },
     "execution_count": 8,
     "metadata": {},
     "output_type": "execute_result"
    }
   ],
   "source": [
    "print(user_profile.shape)\n",
    "user_profile.head()"
   ]
  },
  {
   "cell_type": "code",
   "execution_count": 9,
   "id": "a788a8b9",
   "metadata": {
    "execution": {
     "iopub.execute_input": "2023-10-13T00:26:44.001339Z",
     "iopub.status.busy": "2023-10-13T00:26:44.000518Z",
     "iopub.status.idle": "2023-10-13T00:26:44.393886Z",
     "shell.execute_reply": "2023-10-13T00:26:44.392948Z"
    },
    "papermill": {
     "duration": 0.405327,
     "end_time": "2023-10-13T00:26:44.396125",
     "exception": false,
     "start_time": "2023-10-13T00:26:43.990798",
     "status": "completed"
    },
    "tags": []
   },
   "outputs": [
    {
     "data": {
      "image/png": "[encoded data removed]",
      "text/plain": [
       "<Figure size 640x480 with 1 Axes>"
      ]
     },
     "metadata": {},
     "output_type": "display_data"
    }
   ],
   "source": [
    "sns.histplot(data=user_profile, x='os_name', stat='probability')\n",
    "# plt.xticks(rotation='vertical')\n",
    "plt.show()"
   ]
  },
  {
   "cell_type": "code",
   "execution_count": 10,
   "id": "4c10fe15",
   "metadata": {
    "execution": {
     "iopub.execute_input": "2023-10-13T00:26:44.429839Z",
     "iopub.status.busy": "2023-10-13T00:26:44.429545Z",
     "iopub.status.idle": "2023-10-13T00:26:44.443116Z",
     "shell.execute_reply": "2023-10-13T00:26:44.442158Z"
    },
    "papermill": {
     "duration": 0.035836,
     "end_time": "2023-10-13T00:26:44.444823",
     "exception": false,
     "start_time": "2023-10-13T00:26:44.408987",
     "status": "completed"
    },
    "tags": []
   },
   "outputs": [
    {
     "name": "stdout",
     "output_type": "stream",
     "text": [
      "(84066, 5)\n",
      " time range: from 2022-04-03 00:00:00 to 2022-04-13 23:59:13\n"
     ]
    },
    {
     "data": {
      "text/html": [
       "<div>\n",
       "<style scoped>\n",
       "    .dataframe tbody tr th:only-of-type {\n",
       "        vertical-align: middle;\n",
       "    }\n",
       "\n",
       "    .dataframe tbody tr th {\n",
       "        vertical-align: top;\n",
       "    }\n",
       "\n",
       "    .dataframe thead th {\n",
       "        text-align: right;\n",
       "    }\n",
       "</style>\n",
       "<table border=\"1\" class=\"dataframe\">\n",
       "  <thead>\n",
       "    <tr style=\"text-align: right;\">\n",
       "      <th></th>\n",
       "      <th>article_id</th>\n",
       "      <th>published_time</th>\n",
       "      <th>title</th>\n",
       "      <th>domain</th>\n",
       "      <th>category</th>\n",
       "    </tr>\n",
       "  </thead>\n",
       "  <tbody>\n",
       "    <tr>\n",
       "      <th>0</th>\n",
       "      <td>8c4c166c92421fbccee4c9275dad11b7</td>\n",
       "      <td>2022-04-13 10:47:19</td>\n",
       "      <td>Kỳ Duyên chuẩn “chị đại” khi làm giám khảo, ph...</td>\n",
       "      <td>m.vietgiaitri.com</td>\n",
       "      <td>Giải trí</td>\n",
       "    </tr>\n",
       "    <tr>\n",
       "      <th>1</th>\n",
       "      <td>53bc3a9b769782b8ab11b3871e222be0</td>\n",
       "      <td>2022-04-05 15:41:53</td>\n",
       "      <td>Thêm ảnh Lệ Quyên và Hà Hồ “mỗi người mỗi việc...</td>\n",
       "      <td>vietgiaitri.com</td>\n",
       "      <td>None</td>\n",
       "    </tr>\n",
       "    <tr>\n",
       "      <th>2</th>\n",
       "      <td>c178534931e45d00ec4044e897bdb8cf</td>\n",
       "      <td>2022-04-12 09:04:00</td>\n",
       "      <td>Cam Lâm (Khánh Hòa) cảnh báo: Phân lô bán nền ...</td>\n",
       "      <td>doanhnghiepvn.vn</td>\n",
       "      <td>Bất động sản</td>\n",
       "    </tr>\n",
       "    <tr>\n",
       "      <th>3</th>\n",
       "      <td>76f98c648d161d26c240cd35c315450d</td>\n",
       "      <td>2022-04-07 15:33:00</td>\n",
       "      <td>KHÔNG THỂ TIN NỔI: Poster MV mới của Thiều Bảo...</td>\n",
       "      <td>tiin.vn</td>\n",
       "      <td>Giải trí</td>\n",
       "    </tr>\n",
       "    <tr>\n",
       "      <th>4</th>\n",
       "      <td>aeb84e04405bb60fc8fd8caa40d0b875</td>\n",
       "      <td>2022-04-10 04:14:48</td>\n",
       "      <td>Bán vé xem trận giao hữu giữa đội tuyển U23 Vi...</td>\n",
       "      <td>m.tuoitre.vn</td>\n",
       "      <td>Thể thao</td>\n",
       "    </tr>\n",
       "  </tbody>\n",
       "</table>\n",
       "</div>"
      ],
      "text/plain": [
       "                         article_id      published_time  \\\n",
       "0  8c4c166c92421fbccee4c9275dad11b7 2022-04-13 10:47:19   \n",
       "1  53bc3a9b769782b8ab11b3871e222be0 2022-04-05 15:41:53   \n",
       "2  c178534931e45d00ec4044e897bdb8cf 2022-04-12 09:04:00   \n",
       "3  76f98c648d161d26c240cd35c315450d 2022-04-07 15:33:00   \n",
       "4  aeb84e04405bb60fc8fd8caa40d0b875 2022-04-10 04:14:48   \n",
       "\n",
       "                                               title             domain  \\\n",
       "0  Kỳ Duyên chuẩn “chị đại” khi làm giám khảo, ph...  m.vietgiaitri.com   \n",
       "1  Thêm ảnh Lệ Quyên và Hà Hồ “mỗi người mỗi việc...    vietgiaitri.com   \n",
       "2  Cam Lâm (Khánh Hòa) cảnh báo: Phân lô bán nền ...   doanhnghiepvn.vn   \n",
       "3  KHÔNG THỂ TIN NỔI: Poster MV mới của Thiều Bảo...            tiin.vn   \n",
       "4  Bán vé xem trận giao hữu giữa đội tuyển U23 Vi...       m.tuoitre.vn   \n",
       "\n",
       "       category  \n",
       "0      Giải trí  \n",
       "1          None  \n",
       "2  Bất động sản  \n",
       "3      Giải trí  \n",
       "4      Thể thao  "
      ]
     },
     "execution_count": 10,
     "metadata": {},
     "output_type": "execute_result"
    }
   ],
   "source": [
    "print(article_info.shape)\n",
    "print(f\" time range: from {article_info['published_time'].min().__str__()} to\"\n",
    "      f\" {article_info['published_time'].max().__str__()}\")\n",
    "article_info.head()"
   ]
  },
  {
   "cell_type": "code",
   "execution_count": 11,
   "id": "398e1a34",
   "metadata": {
    "execution": {
     "iopub.execute_input": "2023-10-13T00:26:44.464208Z",
     "iopub.status.busy": "2023-10-13T00:26:44.463938Z",
     "iopub.status.idle": "2023-10-13T00:26:44.990663Z",
     "shell.execute_reply": "2023-10-13T00:26:44.989736Z"
    },
    "papermill": {
     "duration": 0.538763,
     "end_time": "2023-10-13T00:26:44.992695",
     "exception": false,
     "start_time": "2023-10-13T00:26:44.453932",
     "status": "completed"
    },
    "tags": []
   },
   "outputs": [
    {
     "data": {
      "image/png": "[encoded data removed]",
      "text/plain": [
       "<Figure size 640x480 with 1 Axes>"
      ]
     },
     "metadata": {},
     "output_type": "display_data"
    }
   ],
   "source": [
    "sns.histplot(data=article_info, x='category', stat='probability')\n",
    "plt.xticks(rotation='vertical')\n",
    "plt.show()"
   ]
  },
  {
   "cell_type": "code",
   "execution_count": 12,
   "id": "8c039f4c",
   "metadata": {
    "execution": {
     "iopub.execute_input": "2023-10-13T00:26:45.015940Z",
     "iopub.status.busy": "2023-10-13T00:26:45.014299Z",
     "iopub.status.idle": "2023-10-13T00:26:58.468945Z",
     "shell.execute_reply": "2023-10-13T00:26:58.467908Z"
    },
    "papermill": {
     "duration": 13.468555,
     "end_time": "2023-10-13T00:26:58.471382",
     "exception": false,
     "start_time": "2023-10-13T00:26:45.002827",
     "status": "completed"
    },
    "tags": []
   },
   "outputs": [],
   "source": [
    "train = train.merge(user_profile, on='user_id', how='left')\n",
    "train = train.merge(article_info, on='article_id', how='left')\n",
    "\n",
    "test = test.merge(user_profile, on='user_id', how='left')\n",
    "test = test.merge(article_info, on='article_id', how='left')\n",
    "\n",
    "train = train.drop(columns=['age', 'os_name'])\n",
    "test = test.drop(columns=['age', 'os_name'])"
   ]
  },
  {
   "cell_type": "code",
   "execution_count": 13,
   "id": "5792003f",
   "metadata": {
    "execution": {
     "iopub.execute_input": "2023-10-13T00:26:58.493774Z",
     "iopub.status.busy": "2023-10-13T00:26:58.493470Z",
     "iopub.status.idle": "2023-10-13T00:26:58.511292Z",
     "shell.execute_reply": "2023-10-13T00:26:58.510179Z"
    },
    "papermill": {
     "duration": 0.031238,
     "end_time": "2023-10-13T00:26:58.513561",
     "exception": false,
     "start_time": "2023-10-13T00:26:58.482323",
     "status": "completed"
    },
    "tags": []
   },
   "outputs": [
    {
     "data": {
      "text/html": [
       "<div>\n",
       "<style scoped>\n",
       "    .dataframe tbody tr th:only-of-type {\n",
       "        vertical-align: middle;\n",
       "    }\n",
       "\n",
       "    .dataframe tbody tr th {\n",
       "        vertical-align: top;\n",
       "    }\n",
       "\n",
       "    .dataframe thead th {\n",
       "        text-align: right;\n",
       "    }\n",
       "</style>\n",
       "<table border=\"1\" class=\"dataframe\">\n",
       "  <thead>\n",
       "    <tr style=\"text-align: right;\">\n",
       "      <th></th>\n",
       "      <th>user_id</th>\n",
       "      <th>article_id</th>\n",
       "      <th>event_time</th>\n",
       "      <th>label</th>\n",
       "      <th>gender</th>\n",
       "      <th>published_time</th>\n",
       "      <th>title</th>\n",
       "      <th>domain</th>\n",
       "      <th>category</th>\n",
       "    </tr>\n",
       "  </thead>\n",
       "  <tbody>\n",
       "    <tr>\n",
       "      <th>0</th>\n",
       "      <td>f1262ea84920d021b6941e31846a9e72</td>\n",
       "      <td>c99e2fc6c3df1b4ce664daecb8701ae7</td>\n",
       "      <td>2022-04-12 19:11:13</td>\n",
       "      <td>-1</td>\n",
       "      <td>Male</td>\n",
       "      <td>2022-04-12 15:28:44</td>\n",
       "      <td>Ông Nguyễn Hồng Điệp: 'Lạm phát đã len lỏi vào...</td>\n",
       "      <td>cafef.vn</td>\n",
       "      <td>Kinh tế</td>\n",
       "    </tr>\n",
       "    <tr>\n",
       "      <th>1</th>\n",
       "      <td>f6970cb58c6924483756c34ce8165f4f</td>\n",
       "      <td>452d248b792694d169ed969d8ccb7a6b</td>\n",
       "      <td>2022-04-12 08:34:03</td>\n",
       "      <td>-1</td>\n",
       "      <td>Male</td>\n",
       "      <td>2022-04-05 07:12:00</td>\n",
       "      <td>Đúng 0h ngày 3 3 Âm 4 con giáp chính thức hết ...</td>\n",
       "      <td>kienthuc.net.vn</td>\n",
       "      <td>Đời sống</td>\n",
       "    </tr>\n",
       "    <tr>\n",
       "      <th>2</th>\n",
       "      <td>b420264c46da84e1ea39d114ad4616c2</td>\n",
       "      <td>3b69b60332cbf519a1c93054051d1ffd</td>\n",
       "      <td>2022-04-12 07:59:49</td>\n",
       "      <td>-1</td>\n",
       "      <td>Male</td>\n",
       "      <td>2022-04-10 09:00:46</td>\n",
       "      <td>PowerPoint 2019 (Phần 13): Thụt lề và giãn dòng</td>\n",
       "      <td>quantrimang.com</td>\n",
       "      <td>Công nghệ</td>\n",
       "    </tr>\n",
       "    <tr>\n",
       "      <th>3</th>\n",
       "      <td>bb8b942b0ec647ebcfd9717894ef0773</td>\n",
       "      <td>8318b17e984c590f762851af65b2c0ef</td>\n",
       "      <td>2022-04-12 14:43:03</td>\n",
       "      <td>-1</td>\n",
       "      <td>Male</td>\n",
       "      <td>2022-04-12 12:02:20</td>\n",
       "      <td>Top 10 game chiến đấu đối kháng hay nhất dành ...</td>\n",
       "      <td>vietgiaitri.com</td>\n",
       "      <td>Game</td>\n",
       "    </tr>\n",
       "    <tr>\n",
       "      <th>4</th>\n",
       "      <td>d714e2335a4b391b99c300adbb6b1c32</td>\n",
       "      <td>5f1773f9b5d038a03190b707b06f6844</td>\n",
       "      <td>2022-04-12 14:14:31</td>\n",
       "      <td>-1</td>\n",
       "      <td>Male</td>\n",
       "      <td>2022-04-12 11:24:25</td>\n",
       "      <td>Biến thể XE là gì, nguy hiểm ra sao, những nướ...</td>\n",
       "      <td>2dep.vn</td>\n",
       "      <td>Đời sống</td>\n",
       "    </tr>\n",
       "    <tr>\n",
       "      <th>...</th>\n",
       "      <td>...</td>\n",
       "      <td>...</td>\n",
       "      <td>...</td>\n",
       "      <td>...</td>\n",
       "      <td>...</td>\n",
       "      <td>...</td>\n",
       "      <td>...</td>\n",
       "      <td>...</td>\n",
       "      <td>...</td>\n",
       "    </tr>\n",
       "    <tr>\n",
       "      <th>1728013</th>\n",
       "      <td>cded737f6051e4cde5907721bfc2ce2c</td>\n",
       "      <td>786a85f59f2d363d37afc48660bb8570</td>\n",
       "      <td>2022-04-12 05:52:02</td>\n",
       "      <td>-1</td>\n",
       "      <td>Male</td>\n",
       "      <td>2022-04-11 10:01:38</td>\n",
       "      <td>Việt Nam có loài cá miệng rộng, bắt được 1 con...</td>\n",
       "      <td>24h.com.vn</td>\n",
       "      <td>Khoa học</td>\n",
       "    </tr>\n",
       "    <tr>\n",
       "      <th>1728014</th>\n",
       "      <td>0d9f149443d0e4d9b85b67d645a6fc0d</td>\n",
       "      <td>e95421b73ea43b88816c4b921e2a8a7d</td>\n",
       "      <td>2022-04-12 22:40:27</td>\n",
       "      <td>-1</td>\n",
       "      <td>Male</td>\n",
       "      <td>2022-04-11 10:53:00</td>\n",
       "      <td>Quảng Ngãi: Đầu tư 43,5 tỷ để phát triển, chế ...</td>\n",
       "      <td>etime.danviet.vn</td>\n",
       "      <td>Kinh tế</td>\n",
       "    </tr>\n",
       "    <tr>\n",
       "      <th>1728015</th>\n",
       "      <td>30881fed85b60fe775986ba1ae4e6154</td>\n",
       "      <td>efc47ad149799241daaa6662de7b6b10</td>\n",
       "      <td>2022-04-12 11:21:54</td>\n",
       "      <td>-1</td>\n",
       "      <td>Female</td>\n",
       "      <td>2022-04-09 19:10:00</td>\n",
       "      <td>Những phương pháp điều trị viêm đại tràng mang...</td>\n",
       "      <td>congluan.vn</td>\n",
       "      <td>Đời sống</td>\n",
       "    </tr>\n",
       "    <tr>\n",
       "      <th>1728016</th>\n",
       "      <td>635dc30c83210e9e514a73327644b5db</td>\n",
       "      <td>6a4afac611135a1218dc14b089e03705</td>\n",
       "      <td>2022-04-12 14:40:50</td>\n",
       "      <td>-1</td>\n",
       "      <td>Male</td>\n",
       "      <td>2022-04-12 08:26:00</td>\n",
       "      <td>Công trình biểu tượng TPHCM có 'áo mới': Bến t...</td>\n",
       "      <td>toquoc.vn</td>\n",
       "      <td>Bất động sản</td>\n",
       "    </tr>\n",
       "    <tr>\n",
       "      <th>1728017</th>\n",
       "      <td>b4ffdf0e5eea291c396e94dc4cb82f57</td>\n",
       "      <td>2e3513c11d0ac0711c85d0a6187101f8</td>\n",
       "      <td>2022-04-12 14:24:55</td>\n",
       "      <td>-1</td>\n",
       "      <td>Male</td>\n",
       "      <td>2022-04-11 12:36:49</td>\n",
       "      <td>Nasri, Sneijder &amp; những ngôi sao phát phì sau ...</td>\n",
       "      <td>bongdaplus.vn</td>\n",
       "      <td>Thể thao</td>\n",
       "    </tr>\n",
       "  </tbody>\n",
       "</table>\n",
       "<p>1728018 rows × 9 columns</p>\n",
       "</div>"
      ],
      "text/plain": [
       "                                  user_id                        article_id  \\\n",
       "0        f1262ea84920d021b6941e31846a9e72  c99e2fc6c3df1b4ce664daecb8701ae7   \n",
       "1        f6970cb58c6924483756c34ce8165f4f  452d248b792694d169ed969d8ccb7a6b   \n",
       "2        b420264c46da84e1ea39d114ad4616c2  3b69b60332cbf519a1c93054051d1ffd   \n",
       "3        bb8b942b0ec647ebcfd9717894ef0773  8318b17e984c590f762851af65b2c0ef   \n",
       "4        d714e2335a4b391b99c300adbb6b1c32  5f1773f9b5d038a03190b707b06f6844   \n",
       "...                                   ...                               ...   \n",
       "1728013  cded737f6051e4cde5907721bfc2ce2c  786a85f59f2d363d37afc48660bb8570   \n",
       "1728014  0d9f149443d0e4d9b85b67d645a6fc0d  e95421b73ea43b88816c4b921e2a8a7d   \n",
       "1728015  30881fed85b60fe775986ba1ae4e6154  efc47ad149799241daaa6662de7b6b10   \n",
       "1728016  635dc30c83210e9e514a73327644b5db  6a4afac611135a1218dc14b089e03705   \n",
       "1728017  b4ffdf0e5eea291c396e94dc4cb82f57  2e3513c11d0ac0711c85d0a6187101f8   \n",
       "\n",
       "                 event_time  label  gender      published_time  \\\n",
       "0       2022-04-12 19:11:13     -1    Male 2022-04-12 15:28:44   \n",
       "1       2022-04-12 08:34:03     -1    Male 2022-04-05 07:12:00   \n",
       "2       2022-04-12 07:59:49     -1    Male 2022-04-10 09:00:46   \n",
       "3       2022-04-12 14:43:03     -1    Male 2022-04-12 12:02:20   \n",
       "4       2022-04-12 14:14:31     -1    Male 2022-04-12 11:24:25   \n",
       "...                     ...    ...     ...                 ...   \n",
       "1728013 2022-04-12 05:52:02     -1    Male 2022-04-11 10:01:38   \n",
       "1728014 2022-04-12 22:40:27     -1    Male 2022-04-11 10:53:00   \n",
       "1728015 2022-04-12 11:21:54     -1  Female 2022-04-09 19:10:00   \n",
       "1728016 2022-04-12 14:40:50     -1    Male 2022-04-12 08:26:00   \n",
       "1728017 2022-04-12 14:24:55     -1    Male 2022-04-11 12:36:49   \n",
       "\n",
       "                                                     title            domain  \\\n",
       "0        Ông Nguyễn Hồng Điệp: 'Lạm phát đã len lỏi vào...          cafef.vn   \n",
       "1        Đúng 0h ngày 3 3 Âm 4 con giáp chính thức hết ...   kienthuc.net.vn   \n",
       "2          PowerPoint 2019 (Phần 13): Thụt lề và giãn dòng   quantrimang.com   \n",
       "3        Top 10 game chiến đấu đối kháng hay nhất dành ...   vietgiaitri.com   \n",
       "4        Biến thể XE là gì, nguy hiểm ra sao, những nướ...           2dep.vn   \n",
       "...                                                    ...               ...   \n",
       "1728013  Việt Nam có loài cá miệng rộng, bắt được 1 con...        24h.com.vn   \n",
       "1728014  Quảng Ngãi: Đầu tư 43,5 tỷ để phát triển, chế ...  etime.danviet.vn   \n",
       "1728015  Những phương pháp điều trị viêm đại tràng mang...       congluan.vn   \n",
       "1728016  Công trình biểu tượng TPHCM có 'áo mới': Bến t...         toquoc.vn   \n",
       "1728017  Nasri, Sneijder & những ngôi sao phát phì sau ...     bongdaplus.vn   \n",
       "\n",
       "             category  \n",
       "0             Kinh tế  \n",
       "1            Đời sống  \n",
       "2           Công nghệ  \n",
       "3                Game  \n",
       "4            Đời sống  \n",
       "...               ...  \n",
       "1728013      Khoa học  \n",
       "1728014       Kinh tế  \n",
       "1728015      Đời sống  \n",
       "1728016  Bất động sản  \n",
       "1728017      Thể thao  \n",
       "\n",
       "[1728018 rows x 9 columns]"
      ]
     },
     "execution_count": 13,
     "metadata": {},
     "output_type": "execute_result"
    }
   ],
   "source": [
    "test"
   ]
  },
  {
   "cell_type": "code",
   "execution_count": 14,
   "id": "0649d38e",
   "metadata": {
    "execution": {
     "iopub.execute_input": "2023-10-13T00:26:58.538490Z",
     "iopub.status.busy": "2023-10-13T00:26:58.537599Z",
     "iopub.status.idle": "2023-10-13T00:27:06.683447Z",
     "shell.execute_reply": "2023-10-13T00:27:06.682475Z"
    },
    "papermill": {
     "duration": 8.160255,
     "end_time": "2023-10-13T00:27:06.685891",
     "exception": false,
     "start_time": "2023-10-13T00:26:58.525636",
     "status": "completed"
    },
    "tags": []
   },
   "outputs": [],
   "source": [
    "# impute category \n",
    "def infer_category(df):\n",
    "    article_null_filled = pd.read_json('/kaggle/input/vds-news-embeddings/category.json', orient ='index').reset_index()\n",
    "    article_null_filled.columns=['article_id', 'category_infer']\n",
    "    cate_infer = dict(zip(article_null_filled['article_id'].values, article_null_filled['category_infer'].values))\n",
    "    df['category_infer'] = df['category']\n",
    "    infer_indices = df[df['category_infer'].isna()].index.values\n",
    "    df.loc[infer_indices, 'category_infer'] = df.loc[infer_indices, 'article_id'].map(lambda s : cate_infer[s])\n",
    "    return df['category_infer'].values\n",
    "train['category_infer'] = infer_category(train[['article_id', 'category']])\n",
    "test['category_infer'] = infer_category(test[['article_id', 'category']])\n",
    "\n",
    "train = train.drop(columns=['category'])\n",
    "test = test.drop(columns=['category'])"
   ]
  },
  {
   "cell_type": "code",
   "execution_count": 15,
   "id": "a74f066c",
   "metadata": {
    "execution": {
     "iopub.execute_input": "2023-10-13T00:27:06.709750Z",
     "iopub.status.busy": "2023-10-13T00:27:06.709459Z",
     "iopub.status.idle": "2023-10-13T00:27:10.437686Z",
     "shell.execute_reply": "2023-10-13T00:27:10.436664Z"
    },
    "papermill": {
     "duration": 3.742247,
     "end_time": "2023-10-13T00:27:10.439991",
     "exception": false,
     "start_time": "2023-10-13T00:27:06.697744",
     "status": "completed"
    },
    "tags": []
   },
   "outputs": [],
   "source": [
    "# transform domain\n",
    "train['domain'] = train['domain'].map(lambda x: x[2:] if x[:2] == 'm.' else x)\n",
    "test['domain'] = test['domain'].map(lambda x: x[2:] if x[:2] == 'm.' else x)"
   ]
  },
  {
   "cell_type": "code",
   "execution_count": 16,
   "id": "6734196f",
   "metadata": {
    "execution": {
     "iopub.execute_input": "2023-10-13T00:27:10.463664Z",
     "iopub.status.busy": "2023-10-13T00:27:10.463309Z",
     "iopub.status.idle": "2023-10-13T00:27:37.229938Z",
     "shell.execute_reply": "2023-10-13T00:27:37.228829Z"
    },
    "papermill": {
     "duration": 26.780869,
     "end_time": "2023-10-13T00:27:37.232287",
     "exception": false,
     "start_time": "2023-10-13T00:27:10.451418",
     "status": "completed"
    },
    "tags": []
   },
   "outputs": [],
   "source": [
    "train['event_date'] = train['event_time'].dt.strftime('%Y-%m-%d')\n",
    "test['event_date'] = test['event_time'].dt.strftime('%Y-%m-%d')\n",
    "train_stats = train.groupby('event_date').agg({\n",
    "    'user_id' : 'nunique',\n",
    "    'article_id' : 'nunique',\n",
    "    'domain': 'nunique'\n",
    "})\n",
    "\n",
    "test_stats = test.groupby('event_date').agg({\n",
    "    'user_id' : 'nunique',\n",
    "    'article_id' : 'nunique',\n",
    "    'domain': 'nunique'\n",
    "})\n"
   ]
  },
  {
   "cell_type": "code",
   "execution_count": 17,
   "id": "06800941",
   "metadata": {
    "execution": {
     "iopub.execute_input": "2023-10-13T00:27:37.255769Z",
     "iopub.status.busy": "2023-10-13T00:27:37.255443Z",
     "iopub.status.idle": "2023-10-13T00:27:37.264561Z",
     "shell.execute_reply": "2023-10-13T00:27:37.263449Z"
    },
    "papermill": {
     "duration": 0.023033,
     "end_time": "2023-10-13T00:27:37.266639",
     "exception": false,
     "start_time": "2023-10-13T00:27:37.243606",
     "status": "completed"
    },
    "tags": []
   },
   "outputs": [
    {
     "data": {
      "text/html": [
       "<div>\n",
       "<style scoped>\n",
       "    .dataframe tbody tr th:only-of-type {\n",
       "        vertical-align: middle;\n",
       "    }\n",
       "\n",
       "    .dataframe tbody tr th {\n",
       "        vertical-align: top;\n",
       "    }\n",
       "\n",
       "    .dataframe thead th {\n",
       "        text-align: right;\n",
       "    }\n",
       "</style>\n",
       "<table border=\"1\" class=\"dataframe\">\n",
       "  <thead>\n",
       "    <tr style=\"text-align: right;\">\n",
       "      <th></th>\n",
       "      <th>user_id</th>\n",
       "      <th>article_id</th>\n",
       "      <th>domain</th>\n",
       "    </tr>\n",
       "    <tr>\n",
       "      <th>event_date</th>\n",
       "      <th></th>\n",
       "      <th></th>\n",
       "      <th></th>\n",
       "    </tr>\n",
       "  </thead>\n",
       "  <tbody>\n",
       "    <tr>\n",
       "      <th>2022-04-05</th>\n",
       "      <td>208</td>\n",
       "      <td>498</td>\n",
       "      <td>110</td>\n",
       "    </tr>\n",
       "    <tr>\n",
       "      <th>2022-04-06</th>\n",
       "      <td>64813</td>\n",
       "      <td>31402</td>\n",
       "      <td>149</td>\n",
       "    </tr>\n",
       "    <tr>\n",
       "      <th>2022-04-07</th>\n",
       "      <td>65171</td>\n",
       "      <td>34169</td>\n",
       "      <td>149</td>\n",
       "    </tr>\n",
       "    <tr>\n",
       "      <th>2022-04-08</th>\n",
       "      <td>63225</td>\n",
       "      <td>34579</td>\n",
       "      <td>149</td>\n",
       "    </tr>\n",
       "    <tr>\n",
       "      <th>2022-04-09</th>\n",
       "      <td>45841</td>\n",
       "      <td>32595</td>\n",
       "      <td>149</td>\n",
       "    </tr>\n",
       "    <tr>\n",
       "      <th>2022-04-10</th>\n",
       "      <td>38364</td>\n",
       "      <td>29720</td>\n",
       "      <td>149</td>\n",
       "    </tr>\n",
       "    <tr>\n",
       "      <th>2022-04-11</th>\n",
       "      <td>46100</td>\n",
       "      <td>27348</td>\n",
       "      <td>148</td>\n",
       "    </tr>\n",
       "  </tbody>\n",
       "</table>\n",
       "</div>"
      ],
      "text/plain": [
       "            user_id  article_id  domain\n",
       "event_date                             \n",
       "2022-04-05      208         498     110\n",
       "2022-04-06    64813       31402     149\n",
       "2022-04-07    65171       34169     149\n",
       "2022-04-08    63225       34579     149\n",
       "2022-04-09    45841       32595     149\n",
       "2022-04-10    38364       29720     149\n",
       "2022-04-11    46100       27348     148"
      ]
     },
     "execution_count": 17,
     "metadata": {},
     "output_type": "execute_result"
    }
   ],
   "source": [
    "train_stats"
   ]
  },
  {
   "cell_type": "code",
   "execution_count": 18,
   "id": "837c9759",
   "metadata": {
    "execution": {
     "iopub.execute_input": "2023-10-13T00:27:37.291838Z",
     "iopub.status.busy": "2023-10-13T00:27:37.290904Z",
     "iopub.status.idle": "2023-10-13T00:27:37.300320Z",
     "shell.execute_reply": "2023-10-13T00:27:37.299241Z"
    },
    "papermill": {
     "duration": 0.023818,
     "end_time": "2023-10-13T00:27:37.302821",
     "exception": false,
     "start_time": "2023-10-13T00:27:37.279003",
     "status": "completed"
    },
    "tags": []
   },
   "outputs": [
    {
     "data": {
      "text/html": [
       "<div>\n",
       "<style scoped>\n",
       "    .dataframe tbody tr th:only-of-type {\n",
       "        vertical-align: middle;\n",
       "    }\n",
       "\n",
       "    .dataframe tbody tr th {\n",
       "        vertical-align: top;\n",
       "    }\n",
       "\n",
       "    .dataframe thead th {\n",
       "        text-align: right;\n",
       "    }\n",
       "</style>\n",
       "<table border=\"1\" class=\"dataframe\">\n",
       "  <thead>\n",
       "    <tr style=\"text-align: right;\">\n",
       "      <th></th>\n",
       "      <th>user_id</th>\n",
       "      <th>article_id</th>\n",
       "      <th>domain</th>\n",
       "    </tr>\n",
       "    <tr>\n",
       "      <th>event_date</th>\n",
       "      <th></th>\n",
       "      <th></th>\n",
       "      <th></th>\n",
       "    </tr>\n",
       "  </thead>\n",
       "  <tbody>\n",
       "    <tr>\n",
       "      <th>2022-04-12</th>\n",
       "      <td>63085</td>\n",
       "      <td>27024</td>\n",
       "      <td>146</td>\n",
       "    </tr>\n",
       "    <tr>\n",
       "      <th>2022-04-13</th>\n",
       "      <td>255</td>\n",
       "      <td>541</td>\n",
       "      <td>110</td>\n",
       "    </tr>\n",
       "  </tbody>\n",
       "</table>\n",
       "</div>"
      ],
      "text/plain": [
       "            user_id  article_id  domain\n",
       "event_date                             \n",
       "2022-04-12    63085       27024     146\n",
       "2022-04-13      255         541     110"
      ]
     },
     "execution_count": 18,
     "metadata": {},
     "output_type": "execute_result"
    }
   ],
   "source": [
    "test_stats"
   ]
  },
  {
   "cell_type": "markdown",
   "id": "9797f5c2",
   "metadata": {
    "papermill": {
     "duration": 0.010597,
     "end_time": "2023-10-13T00:27:37.325293",
     "exception": false,
     "start_time": "2023-10-13T00:27:37.314696",
     "status": "completed"
    },
    "tags": []
   },
   "source": [
    "# Create user features"
   ]
  },
  {
   "cell_type": "code",
   "execution_count": 19,
   "id": "de71aa46",
   "metadata": {
    "execution": {
     "iopub.execute_input": "2023-10-13T00:27:37.349152Z",
     "iopub.status.busy": "2023-10-13T00:27:37.348791Z",
     "iopub.status.idle": "2023-10-13T00:27:37.353866Z",
     "shell.execute_reply": "2023-10-13T00:27:37.352852Z"
    },
    "papermill": {
     "duration": 0.019395,
     "end_time": "2023-10-13T00:27:37.355892",
     "exception": false,
     "start_time": "2023-10-13T00:27:37.336497",
     "status": "completed"
    },
    "tags": []
   },
   "outputs": [],
   "source": [
    "def create_user_features(df):\n",
    "    user_features = df.groupby('user_id').agg({\n",
    "        'user_id': 'count'\n",
    "    })\n",
    "    user_features.columns = ['user_impressions']\n",
    "    user_features = user_features.reset_index()\n",
    "    return user_features"
   ]
  },
  {
   "cell_type": "code",
   "execution_count": 20,
   "id": "8463ce09",
   "metadata": {
    "execution": {
     "iopub.execute_input": "2023-10-13T00:27:37.378782Z",
     "iopub.status.busy": "2023-10-13T00:27:37.378521Z",
     "iopub.status.idle": "2023-10-13T00:27:49.841060Z",
     "shell.execute_reply": "2023-10-13T00:27:49.839972Z"
    },
    "papermill": {
     "duration": 12.476474,
     "end_time": "2023-10-13T00:27:49.843007",
     "exception": false,
     "start_time": "2023-10-13T00:27:37.366533",
     "status": "completed"
    },
    "tags": []
   },
   "outputs": [
    {
     "data": {
      "text/plain": [
       "8200"
      ]
     },
     "execution_count": 20,
     "metadata": {},
     "output_type": "execute_result"
    }
   ],
   "source": [
    "user_features = create_user_features(pd.concat([train, test]))\n",
    "train = train.merge(user_features, on=['user_id'], how='left')\n",
    "test = test.merge(user_features, on=['user_id'], how='left')\n",
    "del user_features\n",
    "gc.collect()"
   ]
  },
  {
   "cell_type": "markdown",
   "id": "b391bf58",
   "metadata": {
    "papermill": {
     "duration": 0.010912,
     "end_time": "2023-10-13T00:27:49.867211",
     "exception": false,
     "start_time": "2023-10-13T00:27:49.856299",
     "status": "completed"
    },
    "tags": []
   },
   "source": [
    "# Create item features"
   ]
  },
  {
   "cell_type": "code",
   "execution_count": 21,
   "id": "c671d4b7",
   "metadata": {
    "execution": {
     "iopub.execute_input": "2023-10-13T00:27:49.891238Z",
     "iopub.status.busy": "2023-10-13T00:27:49.890562Z",
     "iopub.status.idle": "2023-10-13T00:27:49.895896Z",
     "shell.execute_reply": "2023-10-13T00:27:49.895070Z"
    },
    "papermill": {
     "duration": 0.019472,
     "end_time": "2023-10-13T00:27:49.897859",
     "exception": false,
     "start_time": "2023-10-13T00:27:49.878387",
     "status": "completed"
    },
    "tags": []
   },
   "outputs": [],
   "source": [
    "def create_item_features(df):\n",
    "    item_features = df.groupby('article_id').agg({\n",
    "        'article_id': 'count'\n",
    "    })\n",
    "    item_features.columns = ['item_impressions']\n",
    "    item_features = item_features.reset_index()\n",
    "    return item_features"
   ]
  },
  {
   "cell_type": "code",
   "execution_count": 22,
   "id": "8ee9273f",
   "metadata": {
    "execution": {
     "iopub.execute_input": "2023-10-13T00:27:49.921334Z",
     "iopub.status.busy": "2023-10-13T00:27:49.920316Z",
     "iopub.status.idle": "2023-10-13T00:28:01.413056Z",
     "shell.execute_reply": "2023-10-13T00:28:01.412033Z"
    },
    "papermill": {
     "duration": 11.506761,
     "end_time": "2023-10-13T00:28:01.415130",
     "exception": false,
     "start_time": "2023-10-13T00:27:49.908369",
     "status": "completed"
    },
    "tags": []
   },
   "outputs": [
    {
     "data": {
      "text/plain": [
       "0"
      ]
     },
     "execution_count": 22,
     "metadata": {},
     "output_type": "execute_result"
    }
   ],
   "source": [
    "item_features = create_item_features(pd.concat([train, test]))\n",
    "train = train.merge(item_features, on=['article_id'], how='left')\n",
    "test = test.merge(item_features, on=['article_id'], how='left')\n",
    "del item_features\n",
    "gc.collect()"
   ]
  },
  {
   "cell_type": "markdown",
   "id": "d0de34ab",
   "metadata": {
    "papermill": {
     "duration": 0.010692,
     "end_time": "2023-10-13T00:28:01.437125",
     "exception": false,
     "start_time": "2023-10-13T00:28:01.426433",
     "status": "completed"
    },
    "tags": []
   },
   "source": [
    "# Create user-item features"
   ]
  },
  {
   "cell_type": "markdown",
   "id": "1ce062e1",
   "metadata": {
    "papermill": {
     "duration": 0.010593,
     "end_time": "2023-10-13T00:28:01.458144",
     "exception": false,
     "start_time": "2023-10-13T00:28:01.447551",
     "status": "completed"
    },
    "tags": []
   },
   "source": [
    "* period of day (morning, afternoon, evening, night) --> YES\n",
    "* item-period impressions --> YES\n",
    "* user-period impressions --> NO\n",
    "* user-cate read ratio previous day --> NO\n",
    "* item time since last impression --> NO\n",
    "* item impressions normalized (by hour) --> YES\n",
    "* replace item impressions by item date impressions --> YES\n",
    "* user-cate impression --> YES\n",
    "* user-cate impression ratio --> YES\n",
    "* user-cate date impress --> NO\n",
    "* user-session based\n",
    "* user-category rank\n",
    "* user-session read ratio"
   ]
  },
  {
   "cell_type": "code",
   "execution_count": 23,
   "id": "71f0d7d1",
   "metadata": {
    "execution": {
     "iopub.execute_input": "2023-10-13T00:28:01.481726Z",
     "iopub.status.busy": "2023-10-13T00:28:01.481414Z",
     "iopub.status.idle": "2023-10-13T00:28:39.669591Z",
     "shell.execute_reply": "2023-10-13T00:28:39.668413Z"
    },
    "papermill": {
     "duration": 38.202669,
     "end_time": "2023-10-13T00:28:39.672067",
     "exception": false,
     "start_time": "2023-10-13T00:28:01.469398",
     "status": "completed"
    },
    "tags": []
   },
   "outputs": [],
   "source": [
    "def create_session(df): # 1 hour gap\n",
    "    tmp = df[['user_id', 'article_id', 'event_time']].copy()\n",
    "    tmp = tmp.sort_values(['user_id','event_time'])\n",
    "    tmp['session'] = tmp.groupby('user_id')['event_time'].diff()\n",
    "    tmp['session'] = (tmp['session'].dt.total_seconds() > 60*60*1).astype('int8').fillna(0)\n",
    "    tmp['session'] = tmp.groupby('user_id')['session'].cumsum()\n",
    "    df = df.merge(tmp, on=['user_id', 'article_id', 'event_time'], how='left')\n",
    "    return df\n",
    "\n",
    "train = create_session(train)\n",
    "test = create_session(test)"
   ]
  },
  {
   "cell_type": "code",
   "execution_count": 24,
   "id": "2cc62398",
   "metadata": {
    "execution": {
     "iopub.execute_input": "2023-10-13T00:28:39.696879Z",
     "iopub.status.busy": "2023-10-13T00:28:39.696262Z",
     "iopub.status.idle": "2023-10-13T00:28:50.269116Z",
     "shell.execute_reply": "2023-10-13T00:28:50.268034Z"
    },
    "papermill": {
     "duration": 10.588046,
     "end_time": "2023-10-13T00:28:50.271607",
     "exception": false,
     "start_time": "2023-10-13T00:28:39.683561",
     "status": "completed"
    },
    "tags": []
   },
   "outputs": [],
   "source": [
    "tmp = pd.concat([train, test])\n",
    "gender_count = tmp.groupby(['gender']).size().to_frame('gender_total').reset_index()\n",
    "gender_cate_impress = tmp.groupby(['gender', 'category_infer']).size().to_frame('gender_cate_impress').reset_index()\n",
    "gender_cate_impress_rate = gender_cate_impress.merge(gender_count, on=['gender'], how='left')\n",
    "gender_cate_impress_rate['gender_cate_impress_ratio'] = gender_cate_impress_rate['gender_cate_impress'] / gender_cate_impress_rate['gender_total'] \n",
    "\n",
    "gender_cate_impress_rate = gender_cate_impress_rate.drop(columns=['gender_total', 'gender_cate_impress'])\n",
    "train = train.merge(gender_cate_impress_rate, on=['gender', 'category_infer'], how='left')\n",
    "test = test.merge(gender_cate_impress_rate, on=['gender', 'category_infer'], how='left')"
   ]
  },
  {
   "cell_type": "code",
   "execution_count": 25,
   "id": "7775fef7",
   "metadata": {
    "execution": {
     "iopub.execute_input": "2023-10-13T00:28:50.296213Z",
     "iopub.status.busy": "2023-10-13T00:28:50.295593Z",
     "iopub.status.idle": "2023-10-13T00:28:50.300464Z",
     "shell.execute_reply": "2023-10-13T00:28:50.299525Z"
    },
    "papermill": {
     "duration": 0.018914,
     "end_time": "2023-10-13T00:28:50.302463",
     "exception": false,
     "start_time": "2023-10-13T00:28:50.283549",
     "status": "completed"
    },
    "tags": []
   },
   "outputs": [],
   "source": [
    "# train[train['user_id'] == '15a1f05908a36725cc63c419f63609af'].sort_values('event_time')"
   ]
  },
  {
   "cell_type": "code",
   "execution_count": 26,
   "id": "5819662f",
   "metadata": {
    "execution": {
     "iopub.execute_input": "2023-10-13T00:28:50.326417Z",
     "iopub.status.busy": "2023-10-13T00:28:50.325568Z",
     "iopub.status.idle": "2023-10-13T00:28:50.330375Z",
     "shell.execute_reply": "2023-10-13T00:28:50.329458Z"
    },
    "papermill": {
     "duration": 0.019332,
     "end_time": "2023-10-13T00:28:50.332548",
     "exception": false,
     "start_time": "2023-10-13T00:28:50.313216",
     "status": "completed"
    },
    "tags": []
   },
   "outputs": [],
   "source": [
    "# test[test['user_id'] == '15a1f05908a36725cc63c419f63609af'].sort_values('event_time')"
   ]
  },
  {
   "cell_type": "code",
   "execution_count": 27,
   "id": "68a441ad",
   "metadata": {
    "execution": {
     "iopub.execute_input": "2023-10-13T00:28:50.356742Z",
     "iopub.status.busy": "2023-10-13T00:28:50.355894Z",
     "iopub.status.idle": "2023-10-13T00:28:52.952920Z",
     "shell.execute_reply": "2023-10-13T00:28:52.951903Z"
    },
    "papermill": {
     "duration": 2.611223,
     "end_time": "2023-10-13T00:28:52.955276",
     "exception": false,
     "start_time": "2023-10-13T00:28:50.344053",
     "status": "completed"
    },
    "tags": []
   },
   "outputs": [],
   "source": [
    "def create_user_item_features(df):\n",
    "    df['timestamp'] = (df['event_time'] - df['published_time']).dt.total_seconds()\n",
    "    df['period'] = pd.cut(df['event_time'].dt.hour,\n",
    "                         bins=[0, 6, 12, 18, 24],\n",
    "                         labels=['night', 'morning', 'afternoon', 'evening'],\n",
    "                         right=False,\n",
    "                         include_lowest=True)\n",
    "    df['event_hour'] = df['event_time'].dt.hour\n",
    "    return df\n",
    "train = create_user_item_features(train)\n",
    "test = create_user_item_features(test)"
   ]
  },
  {
   "cell_type": "code",
   "execution_count": 28,
   "id": "0afb466a",
   "metadata": {
    "execution": {
     "iopub.execute_input": "2023-10-13T00:28:52.979919Z",
     "iopub.status.busy": "2023-10-13T00:28:52.979625Z",
     "iopub.status.idle": "2023-10-13T00:29:34.067020Z",
     "shell.execute_reply": "2023-10-13T00:29:34.066058Z"
    },
    "papermill": {
     "duration": 41.103096,
     "end_time": "2023-10-13T00:29:34.070322",
     "exception": false,
     "start_time": "2023-10-13T00:28:52.967226",
     "status": "completed"
    },
    "tags": []
   },
   "outputs": [],
   "source": [
    "tmp = pd.concat([train, test]).sort_values(['article_id', 'event_time']).drop_duplicates(subset=['article_id'], keep='last')\n",
    "tmp['item_per_hour_impress'] = tmp['item_impressions'] / (tmp['timestamp'] / 60 / 60)\n",
    "\n",
    "train = train.merge(tmp[['article_id', 'item_per_hour_impress']], on=['article_id'], how='left')\n",
    "test = test.merge(tmp[['article_id', 'item_per_hour_impress']], on=['article_id'], how='left')"
   ]
  },
  {
   "cell_type": "code",
   "execution_count": 29,
   "id": "de667d2d",
   "metadata": {
    "execution": {
     "iopub.execute_input": "2023-10-13T00:29:34.118889Z",
     "iopub.status.busy": "2023-10-13T00:29:34.118441Z",
     "iopub.status.idle": "2023-10-13T00:29:51.755041Z",
     "shell.execute_reply": "2023-10-13T00:29:51.754076Z"
    },
    "papermill": {
     "duration": 17.664529,
     "end_time": "2023-10-13T00:29:51.757277",
     "exception": false,
     "start_time": "2023-10-13T00:29:34.092748",
     "status": "completed"
    },
    "tags": []
   },
   "outputs": [],
   "source": [
    "item_period_impress = pd.concat([train, test]).groupby(['article_id', 'event_date', 'period']).size().to_frame('item_period_impress').reset_index()\n",
    "train = train.merge(item_period_impress, on=['article_id', 'event_date', 'period'], how='left')\n",
    "test = test.merge(item_period_impress, on=['article_id', 'event_date', 'period'], how='left')"
   ]
  },
  {
   "cell_type": "code",
   "execution_count": 30,
   "id": "51f42834",
   "metadata": {
    "execution": {
     "iopub.execute_input": "2023-10-13T00:29:51.780506Z",
     "iopub.status.busy": "2023-10-13T00:29:51.780195Z",
     "iopub.status.idle": "2023-10-13T00:30:04.739930Z",
     "shell.execute_reply": "2023-10-13T00:30:04.738764Z"
    },
    "papermill": {
     "duration": 12.974734,
     "end_time": "2023-10-13T00:30:04.743193",
     "exception": false,
     "start_time": "2023-10-13T00:29:51.768459",
     "status": "completed"
    },
    "tags": []
   },
   "outputs": [],
   "source": [
    "item_date_impress = pd.concat([train, test]).groupby(['article_id', 'event_date']).size().to_frame('item_date_impress').reset_index()\n",
    "train = train.merge(item_date_impress, on=['article_id', 'event_date'], how='left')\n",
    "test = test.merge(item_date_impress, on=['article_id', 'event_date'], how='left')"
   ]
  },
  {
   "cell_type": "code",
   "execution_count": 31,
   "id": "939dda28",
   "metadata": {
    "execution": {
     "iopub.execute_input": "2023-10-13T00:30:04.792128Z",
     "iopub.status.busy": "2023-10-13T00:30:04.791699Z",
     "iopub.status.idle": "2023-10-13T00:30:42.479154Z",
     "shell.execute_reply": "2023-10-13T00:30:42.477953Z"
    },
    "papermill": {
     "duration": 37.727828,
     "end_time": "2023-10-13T00:30:42.493132",
     "exception": false,
     "start_time": "2023-10-13T00:30:04.765304",
     "status": "completed"
    },
    "tags": []
   },
   "outputs": [
    {
     "name": "stdout",
     "output_type": "stream",
     "text": [
      "CPU times: user 35.2 s, sys: 2.54 s, total: 37.7 s\n",
      "Wall time: 37.7 s\n"
     ]
    }
   ],
   "source": [
    "%%time\n",
    "# create user reads category ratio col\n",
    "train = train.sort_values(['user_id', 'event_time'])\n",
    "\n",
    "train['label_shift'] = train.groupby(['user_id', 'category_infer'])['label'].shift(fill_value=0)\n",
    "train['cate_impress_count'] = train.groupby(['user_id', 'category_infer'])['label'].cumcount() + 1\n",
    "train['cate_read'] = train.groupby(['user_id', 'category_infer'])['label_shift'].cumsum().astype('float')\n",
    "train['user_cate_read_ratio'] = train['cate_read'] / train['cate_impress_count']\n",
    "train = train.drop(columns=['label_shift', 'cate_impress_count', 'cate_read'])\n",
    "\n",
    "tmp = train.groupby(['user_id', 'category_infer'])['label'].mean().to_frame('user_cate_read_ratio').reset_index()\n",
    "test = test.merge(tmp, on=['user_id', 'category_infer'], how='left').fillna(0)"
   ]
  },
  {
   "cell_type": "code",
   "execution_count": 32,
   "id": "2d0b6731",
   "metadata": {
    "execution": {
     "iopub.execute_input": "2023-10-13T00:30:42.517556Z",
     "iopub.status.busy": "2023-10-13T00:30:42.517239Z",
     "iopub.status.idle": "2023-10-13T00:33:10.631014Z",
     "shell.execute_reply": "2023-10-13T00:33:10.629927Z"
    },
    "papermill": {
     "duration": 148.139913,
     "end_time": "2023-10-13T00:33:10.644720",
     "exception": false,
     "start_time": "2023-10-13T00:30:42.504807",
     "status": "completed"
    },
    "tags": []
   },
   "outputs": [
    {
     "name": "stdout",
     "output_type": "stream",
     "text": [
      "CPU times: user 1min 50s, sys: 37 s, total: 2min 27s\n",
      "Wall time: 2min 28s\n"
     ]
    }
   ],
   "source": [
    "%%time\n",
    "user_cate_impress = pd.concat([train, test]).groupby(['user_id', 'category_infer']).size().to_frame('user_cate_impress').reset_index()\n",
    "train = train.merge(user_cate_impress, on=['user_id', 'category_infer'], how='left')\n",
    "test = test.merge(user_cate_impress, on=['user_id', 'category_infer'], how='left')\n",
    "\n",
    "train['user_cate_impress_ratio'] = train['user_cate_impress'] / train['user_impressions']\n",
    "test['user_cate_impress_ratio'] = test['user_cate_impress'] / test['user_impressions']\n",
    "\n",
    "\n",
    "user_cate_period_impress = pd.concat([train, test]).groupby(['user_id', 'category_infer', 'event_date', 'period']).size().to_frame('user_cate_period_impress').reset_index()\n",
    "train = train.merge(user_cate_period_impress, on=['user_id', 'category_infer', 'event_date', 'period'], how='left')\n",
    "test = test.merge(user_cate_period_impress, on=['user_id', 'category_infer', 'event_date', 'period'], how='left')\n",
    "\n",
    "user_cate_session_impress = pd.concat([train, test]).groupby(['user_id', 'category_infer', 'event_date', 'session']).size().to_frame('user_cate_session_impress').reset_index()\n",
    "train = train.merge(user_cate_session_impress, on=['user_id', 'category_infer', 'event_date', 'session'], how='left')\n",
    "test = test.merge(user_cate_session_impress, on=['user_id', 'category_infer', 'event_date', 'session'], how='left')"
   ]
  },
  {
   "cell_type": "code",
   "execution_count": 33,
   "id": "8b8b0948",
   "metadata": {
    "execution": {
     "iopub.execute_input": "2023-10-13T00:33:10.671861Z",
     "iopub.status.busy": "2023-10-13T00:33:10.670824Z",
     "iopub.status.idle": "2023-10-13T00:33:30.883984Z",
     "shell.execute_reply": "2023-10-13T00:33:30.882885Z"
    },
    "papermill": {
     "duration": 20.227677,
     "end_time": "2023-10-13T00:33:30.886423",
     "exception": false,
     "start_time": "2023-10-13T00:33:10.658746",
     "status": "completed"
    },
    "tags": []
   },
   "outputs": [],
   "source": [
    "user_domain_impress = pd.concat([train, test]).groupby(['user_id', 'domain']).size().to_frame('user_domain_impress').reset_index()\n",
    "train = train.merge(user_domain_impress, on=['user_id', 'domain'], how='left')\n",
    "test = test.merge(user_domain_impress, on=['user_id', 'domain'], how='left')\n",
    "\n",
    "train['user_domain_impress_ratio'] = train['user_domain_impress'] / train['user_impressions']\n",
    "test['user_domain_impress_ratio'] = test['user_domain_impress'] / test['user_impressions']"
   ]
  },
  {
   "cell_type": "code",
   "execution_count": 34,
   "id": "a7f09548",
   "metadata": {
    "execution": {
     "iopub.execute_input": "2023-10-13T00:33:30.911189Z",
     "iopub.status.busy": "2023-10-13T00:33:30.910836Z",
     "iopub.status.idle": "2023-10-13T00:33:30.915146Z",
     "shell.execute_reply": "2023-10-13T00:33:30.914107Z"
    },
    "papermill": {
     "duration": 0.018831,
     "end_time": "2023-10-13T00:33:30.916970",
     "exception": false,
     "start_time": "2023-10-13T00:33:30.898139",
     "status": "completed"
    },
    "tags": []
   },
   "outputs": [],
   "source": [
    "# train[train['user_id'] == '59a3c6254936bf2c5ab70c61096d046b']"
   ]
  },
  {
   "cell_type": "code",
   "execution_count": 35,
   "id": "3f441942",
   "metadata": {
    "execution": {
     "iopub.execute_input": "2023-10-13T00:33:30.940932Z",
     "iopub.status.busy": "2023-10-13T00:33:30.940078Z",
     "iopub.status.idle": "2023-10-13T00:33:30.944475Z",
     "shell.execute_reply": "2023-10-13T00:33:30.943582Z"
    },
    "papermill": {
     "duration": 0.018074,
     "end_time": "2023-10-13T00:33:30.946217",
     "exception": false,
     "start_time": "2023-10-13T00:33:30.928143",
     "status": "completed"
    },
    "tags": []
   },
   "outputs": [],
   "source": [
    "# test[test['user_id'] == '906f12987568408b5be1247a862957fc']"
   ]
  },
  {
   "cell_type": "markdown",
   "id": "fca91bb0",
   "metadata": {
    "papermill": {
     "duration": 0.011216,
     "end_time": "2023-10-13T00:33:30.968663",
     "exception": false,
     "start_time": "2023-10-13T00:33:30.957447",
     "status": "completed"
    },
    "tags": []
   },
   "source": [
    "# Training"
   ]
  },
  {
   "cell_type": "code",
   "execution_count": 36,
   "id": "a1640518",
   "metadata": {
    "execution": {
     "iopub.execute_input": "2023-10-13T00:33:30.994191Z",
     "iopub.status.busy": "2023-10-13T00:33:30.993059Z",
     "iopub.status.idle": "2023-10-13T00:33:52.713332Z",
     "shell.execute_reply": "2023-10-13T00:33:52.712260Z"
    },
    "papermill": {
     "duration": 21.735705,
     "end_time": "2023-10-13T00:33:52.715650",
     "exception": false,
     "start_time": "2023-10-13T00:33:30.979945",
     "status": "completed"
    },
    "tags": []
   },
   "outputs": [],
   "source": [
    "try:\n",
    "    del train_shuff, X_train, X_test, y_train, y_test\n",
    "    gc.collect()\n",
    "except:\n",
    "    pass\n",
    "use_cols = ['domain', 'category_infer', 'timestamp', 'period', 'event_hour',\n",
    "            'item_date_impress', 'item_per_hour_impress', 'item_period_impress', \n",
    "            'user_cate_impress', 'user_cate_impress_ratio', 'user_cate_read_ratio',  \n",
    "            'user_cate_period_impress','user_cate_session_impress',\n",
    "            'gender_cate_impress_ratio', 'user_domain_impress', 'user_domain_impress_ratio',\n",
    "            ]\n",
    "train_shuff = train.sample(frac=1, random_state=SEED)\n",
    "\n",
    "X_train = train_shuff[use_cols]\n",
    "X_test = test[use_cols]\n",
    "\n",
    "y_train = train_shuff['label']\n",
    "y_test = test['label']"
   ]
  },
  {
   "cell_type": "code",
   "execution_count": 37,
   "id": "712f3a8f",
   "metadata": {
    "execution": {
     "iopub.execute_input": "2023-10-13T00:33:52.740820Z",
     "iopub.status.busy": "2023-10-13T00:33:52.740487Z",
     "iopub.status.idle": "2023-10-13T00:34:00.564272Z",
     "shell.execute_reply": "2023-10-13T00:34:00.563183Z"
    },
    "papermill": {
     "duration": 7.838965,
     "end_time": "2023-10-13T00:34:00.566517",
     "exception": false,
     "start_time": "2023-10-13T00:33:52.727552",
     "status": "completed"
    },
    "tags": []
   },
   "outputs": [],
   "source": [
    "from sklearn.preprocessing import LabelEncoder\n",
    "le = LabelEncoder()\n",
    "\n",
    "# Label encoder\n",
    "le_cols = ['domain', 'category_infer', 'period']\n",
    "for col in le_cols:\n",
    "    X_train[col] = le.fit_transform(X_train[col])\n",
    "    X_test[col] = le.transform(X_test[col])    \n",
    "\n",
    "# One-hot encoder\n",
    "oh_cols = []\n",
    "for col in oh_cols:\n",
    "    X_train = pd.concat([X_train, pd.get_dummies(X_train[col])], axis=1).drop(columns=['category_infer'])\n",
    "    X_test = pd.concat([X_test, pd.get_dummies(X_test[col])], axis=1).drop(columns=['category_infer'])                     "
   ]
  },
  {
   "cell_type": "code",
   "execution_count": 38,
   "id": "82878ccc",
   "metadata": {
    "execution": {
     "iopub.execute_input": "2023-10-13T00:34:00.591156Z",
     "iopub.status.busy": "2023-10-13T00:34:00.590838Z",
     "iopub.status.idle": "2023-10-13T00:34:00.607829Z",
     "shell.execute_reply": "2023-10-13T00:34:00.606759Z"
    },
    "papermill": {
     "duration": 0.031094,
     "end_time": "2023-10-13T00:34:00.609884",
     "exception": false,
     "start_time": "2023-10-13T00:34:00.578790",
     "status": "completed"
    },
    "tags": []
   },
   "outputs": [
    {
     "data": {
      "text/html": [
       "<div>\n",
       "<style scoped>\n",
       "    .dataframe tbody tr th:only-of-type {\n",
       "        vertical-align: middle;\n",
       "    }\n",
       "\n",
       "    .dataframe tbody tr th {\n",
       "        vertical-align: top;\n",
       "    }\n",
       "\n",
       "    .dataframe thead th {\n",
       "        text-align: right;\n",
       "    }\n",
       "</style>\n",
       "<table border=\"1\" class=\"dataframe\">\n",
       "  <thead>\n",
       "    <tr style=\"text-align: right;\">\n",
       "      <th></th>\n",
       "      <th>domain</th>\n",
       "      <th>category_infer</th>\n",
       "      <th>timestamp</th>\n",
       "      <th>period</th>\n",
       "      <th>event_hour</th>\n",
       "      <th>item_date_impress</th>\n",
       "      <th>item_per_hour_impress</th>\n",
       "      <th>item_period_impress</th>\n",
       "      <th>user_cate_impress</th>\n",
       "      <th>user_cate_impress_ratio</th>\n",
       "      <th>user_cate_read_ratio</th>\n",
       "      <th>user_cate_period_impress</th>\n",
       "      <th>user_cate_session_impress</th>\n",
       "      <th>gender_cate_impress_ratio</th>\n",
       "      <th>user_domain_impress</th>\n",
       "      <th>user_domain_impress_ratio</th>\n",
       "    </tr>\n",
       "  </thead>\n",
       "  <tbody>\n",
       "    <tr>\n",
       "      <th>7104389</th>\n",
       "      <td>87</td>\n",
       "      <td>7</td>\n",
       "      <td>58608.0</td>\n",
       "      <td>1</td>\n",
       "      <td>22</td>\n",
       "      <td>72</td>\n",
       "      <td>2.253247</td>\n",
       "      <td>16</td>\n",
       "      <td>7</td>\n",
       "      <td>0.063063</td>\n",
       "      <td>0.000000</td>\n",
       "      <td>7</td>\n",
       "      <td>7</td>\n",
       "      <td>0.073908</td>\n",
       "      <td>1</td>\n",
       "      <td>0.009009</td>\n",
       "    </tr>\n",
       "    <tr>\n",
       "      <th>5361274</th>\n",
       "      <td>92</td>\n",
       "      <td>4</td>\n",
       "      <td>9905.0</td>\n",
       "      <td>2</td>\n",
       "      <td>10</td>\n",
       "      <td>176</td>\n",
       "      <td>5.204646</td>\n",
       "      <td>69</td>\n",
       "      <td>10</td>\n",
       "      <td>0.192308</td>\n",
       "      <td>0.750000</td>\n",
       "      <td>4</td>\n",
       "      <td>4</td>\n",
       "      <td>0.128696</td>\n",
       "      <td>1</td>\n",
       "      <td>0.019231</td>\n",
       "    </tr>\n",
       "    <tr>\n",
       "      <th>6472206</th>\n",
       "      <td>135</td>\n",
       "      <td>12</td>\n",
       "      <td>238978.0</td>\n",
       "      <td>0</td>\n",
       "      <td>16</td>\n",
       "      <td>23</td>\n",
       "      <td>1.134193</td>\n",
       "      <td>11</td>\n",
       "      <td>14</td>\n",
       "      <td>0.065728</td>\n",
       "      <td>0.000000</td>\n",
       "      <td>2</td>\n",
       "      <td>1</td>\n",
       "      <td>0.067207</td>\n",
       "      <td>1</td>\n",
       "      <td>0.004695</td>\n",
       "    </tr>\n",
       "    <tr>\n",
       "      <th>8377571</th>\n",
       "      <td>64</td>\n",
       "      <td>4</td>\n",
       "      <td>93113.0</td>\n",
       "      <td>2</td>\n",
       "      <td>9</td>\n",
       "      <td>740</td>\n",
       "      <td>15.741736</td>\n",
       "      <td>364</td>\n",
       "      <td>33</td>\n",
       "      <td>0.155660</td>\n",
       "      <td>0.533333</td>\n",
       "      <td>1</td>\n",
       "      <td>1</td>\n",
       "      <td>0.090188</td>\n",
       "      <td>7</td>\n",
       "      <td>0.033019</td>\n",
       "    </tr>\n",
       "    <tr>\n",
       "      <th>7544830</th>\n",
       "      <td>64</td>\n",
       "      <td>0</td>\n",
       "      <td>24203.0</td>\n",
       "      <td>1</td>\n",
       "      <td>19</td>\n",
       "      <td>58</td>\n",
       "      <td>3.952236</td>\n",
       "      <td>20</td>\n",
       "      <td>30</td>\n",
       "      <td>0.101010</td>\n",
       "      <td>0.000000</td>\n",
       "      <td>20</td>\n",
       "      <td>20</td>\n",
       "      <td>0.062372</td>\n",
       "      <td>11</td>\n",
       "      <td>0.037037</td>\n",
       "    </tr>\n",
       "  </tbody>\n",
       "</table>\n",
       "</div>"
      ],
      "text/plain": [
       "         domain  category_infer  timestamp  period  event_hour  \\\n",
       "7104389      87               7    58608.0       1          22   \n",
       "5361274      92               4     9905.0       2          10   \n",
       "6472206     135              12   238978.0       0          16   \n",
       "8377571      64               4    93113.0       2           9   \n",
       "7544830      64               0    24203.0       1          19   \n",
       "\n",
       "         item_date_impress  item_per_hour_impress  item_period_impress  \\\n",
       "7104389                 72               2.253247                   16   \n",
       "5361274                176               5.204646                   69   \n",
       "6472206                 23               1.134193                   11   \n",
       "8377571                740              15.741736                  364   \n",
       "7544830                 58               3.952236                   20   \n",
       "\n",
       "         user_cate_impress  user_cate_impress_ratio  user_cate_read_ratio  \\\n",
       "7104389                  7                 0.063063              0.000000   \n",
       "5361274                 10                 0.192308              0.750000   \n",
       "6472206                 14                 0.065728              0.000000   \n",
       "8377571                 33                 0.155660              0.533333   \n",
       "7544830                 30                 0.101010              0.000000   \n",
       "\n",
       "         user_cate_period_impress  user_cate_session_impress  \\\n",
       "7104389                         7                          7   \n",
       "5361274                         4                          4   \n",
       "6472206                         2                          1   \n",
       "8377571                         1                          1   \n",
       "7544830                        20                         20   \n",
       "\n",
       "         gender_cate_impress_ratio  user_domain_impress  \\\n",
       "7104389                   0.073908                    1   \n",
       "5361274                   0.128696                    1   \n",
       "6472206                   0.067207                    1   \n",
       "8377571                   0.090188                    7   \n",
       "7544830                   0.062372                   11   \n",
       "\n",
       "         user_domain_impress_ratio  \n",
       "7104389                   0.009009  \n",
       "5361274                   0.019231  \n",
       "6472206                   0.004695  \n",
       "8377571                   0.033019  \n",
       "7544830                   0.037037  "
      ]
     },
     "execution_count": 38,
     "metadata": {},
     "output_type": "execute_result"
    }
   ],
   "source": [
    "X_train.head()"
   ]
  },
  {
   "cell_type": "code",
   "execution_count": 39,
   "id": "0f0e3c1c",
   "metadata": {
    "execution": {
     "iopub.execute_input": "2023-10-13T00:34:00.636636Z",
     "iopub.status.busy": "2023-10-13T00:34:00.635567Z",
     "iopub.status.idle": "2023-10-13T00:34:00.651756Z",
     "shell.execute_reply": "2023-10-13T00:34:00.650571Z"
    },
    "papermill": {
     "duration": 0.031294,
     "end_time": "2023-10-13T00:34:00.653963",
     "exception": false,
     "start_time": "2023-10-13T00:34:00.622669",
     "status": "completed"
    },
    "tags": []
   },
   "outputs": [
    {
     "data": {
      "text/html": [
       "<div>\n",
       "<style scoped>\n",
       "    .dataframe tbody tr th:only-of-type {\n",
       "        vertical-align: middle;\n",
       "    }\n",
       "\n",
       "    .dataframe tbody tr th {\n",
       "        vertical-align: top;\n",
       "    }\n",
       "\n",
       "    .dataframe thead th {\n",
       "        text-align: right;\n",
       "    }\n",
       "</style>\n",
       "<table border=\"1\" class=\"dataframe\">\n",
       "  <thead>\n",
       "    <tr style=\"text-align: right;\">\n",
       "      <th></th>\n",
       "      <th>domain</th>\n",
       "      <th>category_infer</th>\n",
       "      <th>timestamp</th>\n",
       "      <th>period</th>\n",
       "      <th>event_hour</th>\n",
       "      <th>item_date_impress</th>\n",
       "      <th>item_per_hour_impress</th>\n",
       "      <th>item_period_impress</th>\n",
       "      <th>user_cate_impress</th>\n",
       "      <th>user_cate_impress_ratio</th>\n",
       "      <th>user_cate_read_ratio</th>\n",
       "      <th>user_cate_period_impress</th>\n",
       "      <th>user_cate_session_impress</th>\n",
       "      <th>gender_cate_impress_ratio</th>\n",
       "      <th>user_domain_impress</th>\n",
       "      <th>user_domain_impress_ratio</th>\n",
       "    </tr>\n",
       "  </thead>\n",
       "  <tbody>\n",
       "    <tr>\n",
       "      <th>0</th>\n",
       "      <td>28</td>\n",
       "      <td>6</td>\n",
       "      <td>13349.0</td>\n",
       "      <td>1</td>\n",
       "      <td>19</td>\n",
       "      <td>22</td>\n",
       "      <td>2.703718</td>\n",
       "      <td>12</td>\n",
       "      <td>28</td>\n",
       "      <td>0.171779</td>\n",
       "      <td>0.807692</td>\n",
       "      <td>2</td>\n",
       "      <td>2</td>\n",
       "      <td>0.065357</td>\n",
       "      <td>9</td>\n",
       "      <td>0.055215</td>\n",
       "    </tr>\n",
       "    <tr>\n",
       "      <th>1</th>\n",
       "      <td>64</td>\n",
       "      <td>13</td>\n",
       "      <td>609723.0</td>\n",
       "      <td>2</td>\n",
       "      <td>8</td>\n",
       "      <td>27</td>\n",
       "      <td>0.776201</td>\n",
       "      <td>15</td>\n",
       "      <td>92</td>\n",
       "      <td>0.228288</td>\n",
       "      <td>0.851064</td>\n",
       "      <td>22</td>\n",
       "      <td>22</td>\n",
       "      <td>0.099239</td>\n",
       "      <td>24</td>\n",
       "      <td>0.059553</td>\n",
       "    </tr>\n",
       "    <tr>\n",
       "      <th>2</th>\n",
       "      <td>86</td>\n",
       "      <td>1</td>\n",
       "      <td>169143.0</td>\n",
       "      <td>2</td>\n",
       "      <td>7</td>\n",
       "      <td>149</td>\n",
       "      <td>5.007065</td>\n",
       "      <td>47</td>\n",
       "      <td>10</td>\n",
       "      <td>0.054945</td>\n",
       "      <td>0.000000</td>\n",
       "      <td>3</td>\n",
       "      <td>2</td>\n",
       "      <td>0.061825</td>\n",
       "      <td>2</td>\n",
       "      <td>0.010989</td>\n",
       "    </tr>\n",
       "    <tr>\n",
       "      <th>3</th>\n",
       "      <td>128</td>\n",
       "      <td>2</td>\n",
       "      <td>9643.0</td>\n",
       "      <td>0</td>\n",
       "      <td>14</td>\n",
       "      <td>460</td>\n",
       "      <td>38.754066</td>\n",
       "      <td>287</td>\n",
       "      <td>10</td>\n",
       "      <td>0.101010</td>\n",
       "      <td>0.000000</td>\n",
       "      <td>2</td>\n",
       "      <td>2</td>\n",
       "      <td>0.062009</td>\n",
       "      <td>9</td>\n",
       "      <td>0.090909</td>\n",
       "    </tr>\n",
       "    <tr>\n",
       "      <th>4</th>\n",
       "      <td>3</td>\n",
       "      <td>13</td>\n",
       "      <td>10206.0</td>\n",
       "      <td>0</td>\n",
       "      <td>14</td>\n",
       "      <td>24</td>\n",
       "      <td>1.943976</td>\n",
       "      <td>14</td>\n",
       "      <td>100</td>\n",
       "      <td>0.213675</td>\n",
       "      <td>0.709677</td>\n",
       "      <td>9</td>\n",
       "      <td>8</td>\n",
       "      <td>0.099239</td>\n",
       "      <td>1</td>\n",
       "      <td>0.002137</td>\n",
       "    </tr>\n",
       "  </tbody>\n",
       "</table>\n",
       "</div>"
      ],
      "text/plain": [
       "   domain  category_infer  timestamp  period  event_hour  item_date_impress  \\\n",
       "0      28               6    13349.0       1          19                 22   \n",
       "1      64              13   609723.0       2           8                 27   \n",
       "2      86               1   169143.0       2           7                149   \n",
       "3     128               2     9643.0       0          14                460   \n",
       "4       3              13    10206.0       0          14                 24   \n",
       "\n",
       "   item_per_hour_impress  item_period_impress  user_cate_impress  \\\n",
       "0               2.703718                   12                 28   \n",
       "1               0.776201                   15                 92   \n",
       "2               5.007065                   47                 10   \n",
       "3              38.754066                  287                 10   \n",
       "4               1.943976                   14                100   \n",
       "\n",
       "   user_cate_impress_ratio  user_cate_read_ratio  user_cate_period_impress  \\\n",
       "0                 0.171779              0.807692                         2   \n",
       "1                 0.228288              0.851064                        22   \n",
       "2                 0.054945              0.000000                         3   \n",
       "3                 0.101010              0.000000                         2   \n",
       "4                 0.213675              0.709677                         9   \n",
       "\n",
       "   user_cate_session_impress  gender_cate_impress_ratio  user_domain_impress  \\\n",
       "0                          2                   0.065357                    9   \n",
       "1                         22                   0.099239                   24   \n",
       "2                          2                   0.061825                    2   \n",
       "3                          2                   0.062009                    9   \n",
       "4                          8                   0.099239                    1   \n",
       "\n",
       "   user_domain_impress_ratio  \n",
       "0                   0.055215  \n",
       "1                   0.059553  \n",
       "2                   0.010989  \n",
       "3                   0.090909  \n",
       "4                   0.002137  "
      ]
     },
     "execution_count": 39,
     "metadata": {},
     "output_type": "execute_result"
    }
   ],
   "source": [
    "X_test.head()"
   ]
  },
  {
   "cell_type": "code",
   "execution_count": 40,
   "id": "25379084",
   "metadata": {
    "execution": {
     "iopub.execute_input": "2023-10-13T00:34:00.680129Z",
     "iopub.status.busy": "2023-10-13T00:34:00.679275Z",
     "iopub.status.idle": "2023-10-13T00:35:18.155196Z",
     "shell.execute_reply": "2023-10-13T00:35:18.154115Z"
    },
    "papermill": {
     "duration": 77.502775,
     "end_time": "2023-10-13T00:35:18.169485",
     "exception": false,
     "start_time": "2023-10-13T00:34:00.666710",
     "status": "completed"
    },
    "tags": []
   },
   "outputs": [
    {
     "data": {
      "text/html": [
       "<style>#sk-container-id-1 {color: black;background-color: white;}#sk-container-id-1 pre{padding: 0;}#sk-container-id-1 div.sk-toggleable {background-color: white;}#sk-container-id-1 label.sk-toggleable__label {cursor: pointer;display: block;width: 100%;margin-bottom: 0;padding: 0.3em;box-sizing: border-box;text-align: center;}#sk-container-id-1 label.sk-toggleable__label-arrow:before {content: \"▸\";float: left;margin-right: 0.25em;color: #696969;}#sk-container-id-1 label.sk-toggleable__label-arrow:hover:before {color: black;}#sk-container-id-1 div.sk-estimator:hover label.sk-toggleable__label-arrow:before {color: black;}#sk-container-id-1 div.sk-toggleable__content {max-height: 0;max-width: 0;overflow: hidden;text-align: left;background-color: #f0f8ff;}#sk-container-id-1 div.sk-toggleable__content pre {margin: 0.2em;color: black;border-radius: 0.25em;background-color: #f0f8ff;}#sk-container-id-1 input.sk-toggleable__control:checked~div.sk-toggleable__content {max-height: 200px;max-width: 100%;overflow: auto;}#sk-container-id-1 input.sk-toggleable__control:checked~label.sk-toggleable__label-arrow:before {content: \"▾\";}#sk-container-id-1 div.sk-estimator input.sk-toggleable__control:checked~label.sk-toggleable__label {background-color: #d4ebff;}#sk-container-id-1 div.sk-label input.sk-toggleable__control:checked~label.sk-toggleable__label {background-color: #d4ebff;}#sk-container-id-1 input.sk-hidden--visually {border: 0;clip: rect(1px 1px 1px 1px);clip: rect(1px, 1px, 1px, 1px);height: 1px;margin: -1px;overflow: hidden;padding: 0;position: absolute;width: 1px;}#sk-container-id-1 div.sk-estimator {font-family: monospace;background-color: #f0f8ff;border: 1px dotted black;border-radius: 0.25em;box-sizing: border-box;margin-bottom: 0.5em;}#sk-container-id-1 div.sk-estimator:hover {background-color: #d4ebff;}#sk-container-id-1 div.sk-parallel-item::after {content: \"\";width: 100%;border-bottom: 1px solid gray;flex-grow: 1;}#sk-container-id-1 div.sk-label:hover label.sk-toggleable__label {background-color: #d4ebff;}#sk-container-id-1 div.sk-serial::before {content: \"\";position: absolute;border-left: 1px solid gray;box-sizing: border-box;top: 0;bottom: 0;left: 50%;z-index: 0;}#sk-container-id-1 div.sk-serial {display: flex;flex-direction: column;align-items: center;background-color: white;padding-right: 0.2em;padding-left: 0.2em;position: relative;}#sk-container-id-1 div.sk-item {position: relative;z-index: 1;}#sk-container-id-1 div.sk-parallel {display: flex;align-items: stretch;justify-content: center;background-color: white;position: relative;}#sk-container-id-1 div.sk-item::before, #sk-container-id-1 div.sk-parallel-item::before {content: \"\";position: absolute;border-left: 1px solid gray;box-sizing: border-box;top: 0;bottom: 0;left: 50%;z-index: -1;}#sk-container-id-1 div.sk-parallel-item {display: flex;flex-direction: column;z-index: 1;position: relative;background-color: white;}#sk-container-id-1 div.sk-parallel-item:first-child::after {align-self: flex-end;width: 50%;}#sk-container-id-1 div.sk-parallel-item:last-child::after {align-self: flex-start;width: 50%;}#sk-container-id-1 div.sk-parallel-item:only-child::after {width: 0;}#sk-container-id-1 div.sk-dashed-wrapped {border: 1px dashed gray;margin: 0 0.4em 0.5em 0.4em;box-sizing: border-box;padding-bottom: 0.4em;background-color: white;}#sk-container-id-1 div.sk-label label {font-family: monospace;font-weight: bold;display: inline-block;line-height: 1.2em;}#sk-container-id-1 div.sk-label-container {text-align: center;}#sk-container-id-1 div.sk-container {/* jupyter's `normalize.less` sets `[hidden] { display: none; }` but bootstrap.min.css set `[hidden] { display: none !important; }` so we also need the `!important` here to be able to override the default hidden behavior on the sphinx rendered scikit-learn.org. See: https://github.com/scikit-learn/scikit-learn/issues/21755 */display: inline-block !important;position: relative;}#sk-container-id-1 div.sk-text-repr-fallback {display: none;}</style><div id=\"sk-container-id-1\" class=\"sk-top-container\"><div class=\"sk-text-repr-fallback\"><pre>XGBClassifier(alpha=0.012214121398278847, base_score=None, booster=None,\n",
       "              callbacks=None, colsample_bylevel=None, colsample_bynode=None,\n",
       "              colsample_bytree=0.5, early_stopping_rounds=None,\n",
       "              enable_categorical=False, eval_metric=None, feature_types=None,\n",
       "              gamma=None, gpu_id=None, grow_policy=None, importance_type=None,\n",
       "              interaction_constraints=None, lambda=0.0010314167451412415,\n",
       "              learning_rate=0.1, max_bin=None, max_cat_threshold=None,\n",
       "              max_cat_to_onehot=None, max_delta_step=None, max_depth=9,\n",
       "              max_leaves=None, min_child_weight=70, missing=nan,\n",
       "              monotone_constraints=None, n_estimators=620, n_jobs=-1,\n",
       "              num_parallel_tree=None, ...)</pre><b>In a Jupyter environment, please rerun this cell to show the HTML representation or trust the notebook. <br />On GitHub, the HTML representation is unable to render, please try loading this page with nbviewer.org.</b></div><div class=\"sk-container\" hidden><div class=\"sk-item\"><div class=\"sk-estimator sk-toggleable\"><input class=\"sk-toggleable__control sk-hidden--visually\" id=\"sk-estimator-id-1\" type=\"checkbox\" checked><label for=\"sk-estimator-id-1\" class=\"sk-toggleable__label sk-toggleable__label-arrow\">XGBClassifier</label><div class=\"sk-toggleable__content\"><pre>XGBClassifier(alpha=0.012214121398278847, base_score=None, booster=None,\n",
       "              callbacks=None, colsample_bylevel=None, colsample_bynode=None,\n",
       "              colsample_bytree=0.5, early_stopping_rounds=None,\n",
       "              enable_categorical=False, eval_metric=None, feature_types=None,\n",
       "              gamma=None, gpu_id=None, grow_policy=None, importance_type=None,\n",
       "              interaction_constraints=None, lambda=0.0010314167451412415,\n",
       "              learning_rate=0.1, max_bin=None, max_cat_threshold=None,\n",
       "              max_cat_to_onehot=None, max_delta_step=None, max_depth=9,\n",
       "              max_leaves=None, min_child_weight=70, missing=nan,\n",
       "              monotone_constraints=None, n_estimators=620, n_jobs=-1,\n",
       "              num_parallel_tree=None, ...)</pre></div></div></div></div></div>"
      ],
      "text/plain": [
       "XGBClassifier(alpha=0.012214121398278847, base_score=None, booster=None,\n",
       "              callbacks=None, colsample_bylevel=None, colsample_bynode=None,\n",
       "              colsample_bytree=0.5, early_stopping_rounds=None,\n",
       "              enable_categorical=False, eval_metric=None, feature_types=None,\n",
       "              gamma=None, gpu_id=None, grow_policy=None, importance_type=None,\n",
       "              interaction_constraints=None, lambda=0.0010314167451412415,\n",
       "              learning_rate=0.1, max_bin=None, max_cat_threshold=None,\n",
       "              max_cat_to_onehot=None, max_delta_step=None, max_depth=9,\n",
       "              max_leaves=None, min_child_weight=70, missing=nan,\n",
       "              monotone_constraints=None, n_estimators=620, n_jobs=-1,\n",
       "              num_parallel_tree=None, ...)"
      ]
     },
     "execution_count": 40,
     "metadata": {},
     "output_type": "execute_result"
    }
   ],
   "source": [
    "from xgboost import XGBClassifier\n",
    "from lightgbm import LGBMClassifier\n",
    "scale_pos_weight = (y_train==0).sum() / (y_train==1).sum()\n",
    "xgb_params = {\n",
    "    'lambda': 0.0010314167451412415,\n",
    "    'alpha': 0.012214121398278847,\n",
    "    'colsample_bytree': 0.5,\n",
    "    'subsample': 0.9,\n",
    "    'learning_rate': 0.1,\n",
    "    'n_estimators': 620,\n",
    "    'max_depth': 9,\n",
    "    'random_state': 11,\n",
    "    'min_child_weight': 70,\n",
    "#     'eval_metric': 'auc',\n",
    "    'scale_pos_weight': scale_pos_weight,\n",
    "    'tree_method': 'gpu_hist',\n",
    "    'n_jobs': -1,\n",
    "}\n",
    "model = XGBClassifier(**xgb_params)\n",
    "# model.fit(X_train, y_train, eval_set=[(X_test, y_test)], early_stopping_rounds=100, verbose=50) --> for local validation\n",
    "model.fit(X_train, y_train, verbose=50) # --> for private test submission"
   ]
  },
  {
   "cell_type": "markdown",
   "id": "9160aed6",
   "metadata": {
    "papermill": {
     "duration": 0.011674,
     "end_time": "2023-10-13T00:35:18.192742",
     "exception": false,
     "start_time": "2023-10-13T00:35:18.181068",
     "status": "completed"
    },
    "tags": []
   },
   "source": [
    "# Inference"
   ]
  },
  {
   "cell_type": "code",
   "execution_count": 41,
   "id": "d74ffd4e",
   "metadata": {
    "execution": {
     "iopub.execute_input": "2023-10-13T00:35:18.220283Z",
     "iopub.status.busy": "2023-10-13T00:35:18.219547Z",
     "iopub.status.idle": "2023-10-13T00:36:09.605953Z",
     "shell.execute_reply": "2023-10-13T00:36:09.604739Z"
    },
    "papermill": {
     "duration": 51.402503,
     "end_time": "2023-10-13T00:36:09.608509",
     "exception": false,
     "start_time": "2023-10-13T00:35:18.206006",
     "status": "completed"
    },
    "tags": []
   },
   "outputs": [],
   "source": [
    "preds = model.predict_proba(X_test)[:, 1]"
   ]
  },
  {
   "cell_type": "code",
   "execution_count": 42,
   "id": "a8be7b5d",
   "metadata": {
    "execution": {
     "iopub.execute_input": "2023-10-13T00:36:09.634500Z",
     "iopub.status.busy": "2023-10-13T00:36:09.634131Z",
     "iopub.status.idle": "2023-10-13T00:36:09.641168Z",
     "shell.execute_reply": "2023-10-13T00:36:09.640096Z"
    },
    "papermill": {
     "duration": 0.022301,
     "end_time": "2023-10-13T00:36:09.643253",
     "exception": false,
     "start_time": "2023-10-13T00:36:09.620952",
     "status": "completed"
    },
    "tags": []
   },
   "outputs": [
    {
     "data": {
      "text/plain": [
       "array([0.9986008 , 0.9993761 , 0.00877457, ..., 0.01469368, 0.15553807,\n",
       "       0.16669089], dtype=float32)"
      ]
     },
     "execution_count": 42,
     "metadata": {},
     "output_type": "execute_result"
    }
   ],
   "source": [
    "preds"
   ]
  },
  {
   "cell_type": "code",
   "execution_count": 43,
   "id": "27dede87",
   "metadata": {
    "execution": {
     "iopub.execute_input": "2023-10-13T00:36:09.669002Z",
     "iopub.status.busy": "2023-10-13T00:36:09.668324Z",
     "iopub.status.idle": "2023-10-13T00:36:18.209197Z",
     "shell.execute_reply": "2023-10-13T00:36:18.208140Z"
    },
    "papermill": {
     "duration": 8.555798,
     "end_time": "2023-10-13T00:36:18.211516",
     "exception": false,
     "start_time": "2023-10-13T00:36:09.655718",
     "status": "completed"
    },
    "tags": []
   },
   "outputs": [],
   "source": [
    "sub = pd.DataFrame({\n",
    "    'pred' : preds,\n",
    "    'label': y_test\n",
    "})\n",
    "compression_opts = dict(method='zip', archive_name='results.csv')\n",
    "# sub.to_csv('xgb_valid.csv', index=False)\n",
    "sub.to_csv('xgb_test.csv', index=False)\n",
    "sub[['pred']].to_csv('results.zip', header=False, index=False, compression=compression_opts)"
   ]
  },
  {
   "cell_type": "code",
   "execution_count": 44,
   "id": "aa60d9b3",
   "metadata": {
    "execution": {
     "iopub.execute_input": "2023-10-13T00:36:18.237340Z",
     "iopub.status.busy": "2023-10-13T00:36:18.236975Z",
     "iopub.status.idle": "2023-10-13T00:36:18.251061Z",
     "shell.execute_reply": "2023-10-13T00:36:18.250108Z"
    },
    "papermill": {
     "duration": 0.028997,
     "end_time": "2023-10-13T00:36:18.253007",
     "exception": false,
     "start_time": "2023-10-13T00:36:18.224010",
     "status": "completed"
    },
    "tags": []
   },
   "outputs": [
    {
     "data": {
      "text/html": [
       "<div>\n",
       "<style scoped>\n",
       "    .dataframe tbody tr th:only-of-type {\n",
       "        vertical-align: middle;\n",
       "    }\n",
       "\n",
       "    .dataframe tbody tr th {\n",
       "        vertical-align: top;\n",
       "    }\n",
       "\n",
       "    .dataframe thead th {\n",
       "        text-align: right;\n",
       "    }\n",
       "</style>\n",
       "<table border=\"1\" class=\"dataframe\">\n",
       "  <thead>\n",
       "    <tr style=\"text-align: right;\">\n",
       "      <th></th>\n",
       "      <th>pred</th>\n",
       "    </tr>\n",
       "  </thead>\n",
       "  <tbody>\n",
       "    <tr>\n",
       "      <th>0</th>\n",
       "      <td>0.998601</td>\n",
       "    </tr>\n",
       "    <tr>\n",
       "      <th>1</th>\n",
       "      <td>0.999376</td>\n",
       "    </tr>\n",
       "    <tr>\n",
       "      <th>2</th>\n",
       "      <td>0.008775</td>\n",
       "    </tr>\n",
       "    <tr>\n",
       "      <th>3</th>\n",
       "      <td>0.071629</td>\n",
       "    </tr>\n",
       "    <tr>\n",
       "      <th>4</th>\n",
       "      <td>0.541142</td>\n",
       "    </tr>\n",
       "    <tr>\n",
       "      <th>...</th>\n",
       "      <td>...</td>\n",
       "    </tr>\n",
       "    <tr>\n",
       "      <th>1728013</th>\n",
       "      <td>0.969256</td>\n",
       "    </tr>\n",
       "    <tr>\n",
       "      <th>1728014</th>\n",
       "      <td>0.010082</td>\n",
       "    </tr>\n",
       "    <tr>\n",
       "      <th>1728015</th>\n",
       "      <td>0.014694</td>\n",
       "    </tr>\n",
       "    <tr>\n",
       "      <th>1728016</th>\n",
       "      <td>0.155538</td>\n",
       "    </tr>\n",
       "    <tr>\n",
       "      <th>1728017</th>\n",
       "      <td>0.166691</td>\n",
       "    </tr>\n",
       "  </tbody>\n",
       "</table>\n",
       "<p>1728018 rows × 1 columns</p>\n",
       "</div>"
      ],
      "text/plain": [
       "             pred\n",
       "0        0.998601\n",
       "1        0.999376\n",
       "2        0.008775\n",
       "3        0.071629\n",
       "4        0.541142\n",
       "...           ...\n",
       "1728013  0.969256\n",
       "1728014  0.010082\n",
       "1728015  0.014694\n",
       "1728016  0.155538\n",
       "1728017  0.166691\n",
       "\n",
       "[1728018 rows x 1 columns]"
      ]
     },
     "execution_count": 44,
     "metadata": {},
     "output_type": "execute_result"
    }
   ],
   "source": [
    "sub[['pred']]"
   ]
  },
  {
   "cell_type": "code",
   "execution_count": 45,
   "id": "fb511912",
   "metadata": {
    "execution": {
     "iopub.execute_input": "2023-10-13T00:36:18.278399Z",
     "iopub.status.busy": "2023-10-13T00:36:18.277671Z",
     "iopub.status.idle": "2023-10-13T00:36:18.634571Z",
     "shell.execute_reply": "2023-10-13T00:36:18.633496Z"
    },
    "papermill": {
     "duration": 0.371274,
     "end_time": "2023-10-13T00:36:18.636613",
     "exception": false,
     "start_time": "2023-10-13T00:36:18.265339",
     "status": "completed"
    },
    "tags": []
   },
   "outputs": [
    {
     "data": {
      "image/png": "[encoded data removed]",
      "text/plain": [
       "<Figure size 640x480 with 1 Axes>"
      ]
     },
     "metadata": {},
     "output_type": "display_data"
    }
   ],
   "source": [
    "import matplotlib.pyplot as plt\n",
    "plt.hist(sub['pred'], bins=10)\n",
    "plt.title('Histogram of preds',size=20)\n",
    "plt.show()"
   ]
  },
  {
   "cell_type": "code",
   "execution_count": null,
   "id": "99612ee2",
   "metadata": {
    "papermill": {
     "duration": 0.01209,
     "end_time": "2023-10-13T00:36:18.661324",
     "exception": false,
     "start_time": "2023-10-13T00:36:18.649234",
     "status": "completed"
    },
    "tags": []
   },
   "outputs": [],
   "source": []
  }
 ],
 "metadata": {
  "kernelspec": {
   "display_name": "Python 3",
   "language": "python",
   "name": "python3"
  },
  "language_info": {
   "codemirror_mode": {
    "name": "ipython",
    "version": 3
   },
   "file_extension": ".py",
   "mimetype": "text/x-python",
   "name": "python",
   "nbconvert_exporter": "python",
   "pygments_lexer": "ipython3",
   "version": "3.10.12"
  },
  "papermill": {
   "default_parameters": {},
   "duration": 613.452691,
   "end_time": "2023-10-13T00:36:21.595575",
   "environment_variables": {},
   "exception": null,
   "input_path": "__notebook__.ipynb",
   "output_path": "__notebook__.ipynb",
   "parameters": {},
   "start_time": "2023-10-13T00:26:08.142884",
   "version": "2.4.0"
  }
 },
 "nbformat": 4,
 "nbformat_minor": 5
}
