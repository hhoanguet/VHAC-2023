{
 "cells": [
  {
   "cell_type": "code",
   "execution_count": 1,
   "id": "0bae3312",
   "metadata": {
    "execution": {
     "iopub.execute_input": "2023-10-13T06:45:16.905804Z",
     "iopub.status.busy": "2023-10-13T06:45:16.905259Z",
     "iopub.status.idle": "2023-10-13T06:45:28.649710Z",
     "shell.execute_reply": "2023-10-13T06:45:28.648037Z"
    },
    "papermill": {
     "duration": 11.757942,
     "end_time": "2023-10-13T06:45:28.652391",
     "exception": false,
     "start_time": "2023-10-13T06:45:16.894449",
     "status": "completed"
    },
    "tags": []
   },
   "outputs": [],
   "source": [
    "!pip install -q tensorflow-recommenders"
   ]
  },
  {
   "cell_type": "code",
   "execution_count": 2,
   "id": "b12c4189",
   "metadata": {
    "_cell_guid": "b1076dfc-b9ad-4769-8c92-a6c4dae69d19",
    "_uuid": "8f2839f25d086af736a60e9eeb907d3b93b6e0e5",
    "execution": {
     "iopub.execute_input": "2023-10-13T06:45:28.672903Z",
     "iopub.status.busy": "2023-10-13T06:45:28.672488Z",
     "iopub.status.idle": "2023-10-13T06:45:44.497759Z",
     "shell.execute_reply": "2023-10-13T06:45:44.496825Z"
    },
    "papermill": {
     "duration": 15.839179,
     "end_time": "2023-10-13T06:45:44.500526",
     "exception": false,
     "start_time": "2023-10-13T06:45:28.661347",
     "status": "completed"
    },
    "tags": []
   },
   "outputs": [],
   "source": [
    "import os\n",
    "import pprint\n",
    "import tempfile\n",
    "from pathlib import Path\n",
    "from typing import Dict, Text\n",
    "import pandas as pd\n",
    "import numpy as np\n",
    "import torch \n",
    "import random\n",
    "import time\n",
    "import pickle\n",
    "import tensorflow as tf\n",
    "import tensorflow_datasets as tfds\n",
    "import tensorflow_recommenders as tfrs\n",
    "import gc\n",
    "\n",
    "import warnings\n",
    "warnings.filterwarnings('ignore')\n",
    "\n",
    "pd.set_option('display.max_rows', 500)"
   ]
  },
  {
   "cell_type": "code",
   "execution_count": 3,
   "id": "e6ad45f3",
   "metadata": {
    "execution": {
     "iopub.execute_input": "2023-10-13T06:45:44.519146Z",
     "iopub.status.busy": "2023-10-13T06:45:44.518499Z",
     "iopub.status.idle": "2023-10-13T06:45:44.529522Z",
     "shell.execute_reply": "2023-10-13T06:45:44.528320Z"
    },
    "papermill": {
     "duration": 0.022725,
     "end_time": "2023-10-13T06:45:44.531708",
     "exception": false,
     "start_time": "2023-10-13T06:45:44.508983",
     "status": "completed"
    },
    "tags": []
   },
   "outputs": [],
   "source": [
    "def set_seed(seed):\n",
    "    random.seed(seed)\n",
    "    os.environ[\"PYTHONHASHSEED\"] = str(seed)\n",
    "    np.random.seed(seed)\n",
    "    tf.random.set_seed(seed)\n",
    "    torch.manual_seed(seed)\n",
    "    if torch.cuda.is_available():\n",
    "        torch.cuda.manual_seed_all(seed)\n",
    "        torch.backends.cudnn.deterministic = True\n",
    "\n",
    "set_seed(0)"
   ]
  },
  {
   "cell_type": "code",
   "execution_count": 4,
   "id": "5d472d00",
   "metadata": {
    "execution": {
     "iopub.execute_input": "2023-10-13T06:45:44.550765Z",
     "iopub.status.busy": "2023-10-13T06:45:44.550399Z",
     "iopub.status.idle": "2023-10-13T06:46:00.023706Z",
     "shell.execute_reply": "2023-10-13T06:46:00.022488Z"
    },
    "papermill": {
     "duration": 15.486009,
     "end_time": "2023-10-13T06:46:00.026175",
     "exception": false,
     "start_time": "2023-10-13T06:45:44.540166",
     "status": "completed"
    },
    "tags": []
   },
   "outputs": [],
   "source": [
    "data_path = Path(\"/kaggle/input/vds-news-recommendation\")\n",
    "train = pd.read_parquet(data_path/\"train.parquet\")\n",
    "user_profile = pd.read_parquet(data_path/\"user_profile.parquet\")\n",
    "article_info = pd.read_parquet(data_path/\"article_information.parquet\")\n",
    "# public_test = pd.read_parquet(data_path/\"public_test.parquet\")\n",
    "private_test = pd.read_parquet(data_path/\"private_test.parquet\")"
   ]
  },
  {
   "cell_type": "code",
   "execution_count": 5,
   "id": "7e9ce120",
   "metadata": {
    "execution": {
     "iopub.execute_input": "2023-10-13T06:46:00.052449Z",
     "iopub.status.busy": "2023-10-13T06:46:00.052114Z",
     "iopub.status.idle": "2023-10-13T06:46:00.061194Z",
     "shell.execute_reply": "2023-10-13T06:46:00.060137Z"
    },
    "papermill": {
     "duration": 0.021629,
     "end_time": "2023-10-13T06:46:00.063897",
     "exception": false,
     "start_time": "2023-10-13T06:46:00.042268",
     "status": "completed"
    },
    "tags": []
   },
   "outputs": [],
   "source": [
    "# test = train[train['event_time'].dt.strftime('%Y-%m-%d') == '2022-04-11']\n",
    "# train = train.drop(test.index)\n",
    "\n",
    "test = private_test\n",
    "test['label'] = -1"
   ]
  },
  {
   "cell_type": "code",
   "execution_count": 6,
   "id": "2b3b7f79",
   "metadata": {
    "execution": {
     "iopub.execute_input": "2023-10-13T06:46:00.082966Z",
     "iopub.status.busy": "2023-10-13T06:46:00.082594Z",
     "iopub.status.idle": "2023-10-13T06:46:00.098716Z",
     "shell.execute_reply": "2023-10-13T06:46:00.097565Z"
    },
    "papermill": {
     "duration": 0.0285,
     "end_time": "2023-10-13T06:46:00.101071",
     "exception": false,
     "start_time": "2023-10-13T06:46:00.072571",
     "status": "completed"
    },
    "tags": []
   },
   "outputs": [
    {
     "name": "stdout",
     "output_type": "stream",
     "text": [
      "(89762, 4)\n"
     ]
    },
    {
     "data": {
      "text/html": [
       "<div>\n",
       "<style scoped>\n",
       "    .dataframe tbody tr th:only-of-type {\n",
       "        vertical-align: middle;\n",
       "    }\n",
       "\n",
       "    .dataframe tbody tr th {\n",
       "        vertical-align: top;\n",
       "    }\n",
       "\n",
       "    .dataframe thead th {\n",
       "        text-align: right;\n",
       "    }\n",
       "</style>\n",
       "<table border=\"1\" class=\"dataframe\">\n",
       "  <thead>\n",
       "    <tr style=\"text-align: right;\">\n",
       "      <th></th>\n",
       "      <th>user_id</th>\n",
       "      <th>gender</th>\n",
       "      <th>age</th>\n",
       "      <th>os_name</th>\n",
       "    </tr>\n",
       "  </thead>\n",
       "  <tbody>\n",
       "    <tr>\n",
       "      <th>0</th>\n",
       "      <td>28501fb31cb1999658ce374fccca6812</td>\n",
       "      <td>Male</td>\n",
       "      <td>45-54</td>\n",
       "      <td>windows</td>\n",
       "    </tr>\n",
       "    <tr>\n",
       "      <th>1</th>\n",
       "      <td>2366fe0ce31b1f9e0fd38243afe45d90</td>\n",
       "      <td>Female</td>\n",
       "      <td>55-64</td>\n",
       "      <td>windows</td>\n",
       "    </tr>\n",
       "    <tr>\n",
       "      <th>2</th>\n",
       "      <td>7a113f19617277f1e7f9348d29123dd7</td>\n",
       "      <td>Male</td>\n",
       "      <td>&lt;18</td>\n",
       "      <td>windows</td>\n",
       "    </tr>\n",
       "    <tr>\n",
       "      <th>3</th>\n",
       "      <td>51dad112607b09338ceb9585a9d5f42b</td>\n",
       "      <td>Female</td>\n",
       "      <td>55-64</td>\n",
       "      <td>windows</td>\n",
       "    </tr>\n",
       "    <tr>\n",
       "      <th>4</th>\n",
       "      <td>3944c237ce91544babbbafccd127a1eb</td>\n",
       "      <td>Male</td>\n",
       "      <td>55-64</td>\n",
       "      <td>windows</td>\n",
       "    </tr>\n",
       "  </tbody>\n",
       "</table>\n",
       "</div>"
      ],
      "text/plain": [
       "                            user_id  gender    age  os_name\n",
       "0  28501fb31cb1999658ce374fccca6812    Male  45-54  windows\n",
       "1  2366fe0ce31b1f9e0fd38243afe45d90  Female  55-64  windows\n",
       "2  7a113f19617277f1e7f9348d29123dd7    Male    <18  windows\n",
       "3  51dad112607b09338ceb9585a9d5f42b  Female  55-64  windows\n",
       "4  3944c237ce91544babbbafccd127a1eb    Male  55-64  windows"
      ]
     },
     "execution_count": 6,
     "metadata": {},
     "output_type": "execute_result"
    }
   ],
   "source": [
    "print(user_profile.shape)\n",
    "user_profile.head()"
   ]
  },
  {
   "cell_type": "code",
   "execution_count": 7,
   "id": "a2763e25",
   "metadata": {
    "execution": {
     "iopub.execute_input": "2023-10-13T06:46:00.119923Z",
     "iopub.status.busy": "2023-10-13T06:46:00.119523Z",
     "iopub.status.idle": "2023-10-13T06:46:00.132575Z",
     "shell.execute_reply": "2023-10-13T06:46:00.131914Z"
    },
    "papermill": {
     "duration": 0.024858,
     "end_time": "2023-10-13T06:46:00.134570",
     "exception": false,
     "start_time": "2023-10-13T06:46:00.109712",
     "status": "completed"
    },
    "tags": []
   },
   "outputs": [
    {
     "name": "stdout",
     "output_type": "stream",
     "text": [
      "(84066, 5)\n",
      " time range: from 2022-04-03 00:00:00 to 2022-04-13 23:59:13\n"
     ]
    },
    {
     "data": {
      "text/html": [
       "<div>\n",
       "<style scoped>\n",
       "    .dataframe tbody tr th:only-of-type {\n",
       "        vertical-align: middle;\n",
       "    }\n",
       "\n",
       "    .dataframe tbody tr th {\n",
       "        vertical-align: top;\n",
       "    }\n",
       "\n",
       "    .dataframe thead th {\n",
       "        text-align: right;\n",
       "    }\n",
       "</style>\n",
       "<table border=\"1\" class=\"dataframe\">\n",
       "  <thead>\n",
       "    <tr style=\"text-align: right;\">\n",
       "      <th></th>\n",
       "      <th>article_id</th>\n",
       "      <th>published_time</th>\n",
       "      <th>title</th>\n",
       "      <th>domain</th>\n",
       "      <th>category</th>\n",
       "    </tr>\n",
       "  </thead>\n",
       "  <tbody>\n",
       "    <tr>\n",
       "      <th>0</th>\n",
       "      <td>8c4c166c92421fbccee4c9275dad11b7</td>\n",
       "      <td>2022-04-13 10:47:19</td>\n",
       "      <td>Kỳ Duyên chuẩn “chị đại” khi làm giám khảo, ph...</td>\n",
       "      <td>m.vietgiaitri.com</td>\n",
       "      <td>Giải trí</td>\n",
       "    </tr>\n",
       "    <tr>\n",
       "      <th>1</th>\n",
       "      <td>53bc3a9b769782b8ab11b3871e222be0</td>\n",
       "      <td>2022-04-05 15:41:53</td>\n",
       "      <td>Thêm ảnh Lệ Quyên và Hà Hồ “mỗi người mỗi việc...</td>\n",
       "      <td>vietgiaitri.com</td>\n",
       "      <td>None</td>\n",
       "    </tr>\n",
       "    <tr>\n",
       "      <th>2</th>\n",
       "      <td>c178534931e45d00ec4044e897bdb8cf</td>\n",
       "      <td>2022-04-12 09:04:00</td>\n",
       "      <td>Cam Lâm (Khánh Hòa) cảnh báo: Phân lô bán nền ...</td>\n",
       "      <td>doanhnghiepvn.vn</td>\n",
       "      <td>Bất động sản</td>\n",
       "    </tr>\n",
       "    <tr>\n",
       "      <th>3</th>\n",
       "      <td>76f98c648d161d26c240cd35c315450d</td>\n",
       "      <td>2022-04-07 15:33:00</td>\n",
       "      <td>KHÔNG THỂ TIN NỔI: Poster MV mới của Thiều Bảo...</td>\n",
       "      <td>tiin.vn</td>\n",
       "      <td>Giải trí</td>\n",
       "    </tr>\n",
       "    <tr>\n",
       "      <th>4</th>\n",
       "      <td>aeb84e04405bb60fc8fd8caa40d0b875</td>\n",
       "      <td>2022-04-10 04:14:48</td>\n",
       "      <td>Bán vé xem trận giao hữu giữa đội tuyển U23 Vi...</td>\n",
       "      <td>m.tuoitre.vn</td>\n",
       "      <td>Thể thao</td>\n",
       "    </tr>\n",
       "  </tbody>\n",
       "</table>\n",
       "</div>"
      ],
      "text/plain": [
       "                         article_id      published_time  \\\n",
       "0  8c4c166c92421fbccee4c9275dad11b7 2022-04-13 10:47:19   \n",
       "1  53bc3a9b769782b8ab11b3871e222be0 2022-04-05 15:41:53   \n",
       "2  c178534931e45d00ec4044e897bdb8cf 2022-04-12 09:04:00   \n",
       "3  76f98c648d161d26c240cd35c315450d 2022-04-07 15:33:00   \n",
       "4  aeb84e04405bb60fc8fd8caa40d0b875 2022-04-10 04:14:48   \n",
       "\n",
       "                                               title             domain  \\\n",
       "0  Kỳ Duyên chuẩn “chị đại” khi làm giám khảo, ph...  m.vietgiaitri.com   \n",
       "1  Thêm ảnh Lệ Quyên và Hà Hồ “mỗi người mỗi việc...    vietgiaitri.com   \n",
       "2  Cam Lâm (Khánh Hòa) cảnh báo: Phân lô bán nền ...   doanhnghiepvn.vn   \n",
       "3  KHÔNG THỂ TIN NỔI: Poster MV mới của Thiều Bảo...            tiin.vn   \n",
       "4  Bán vé xem trận giao hữu giữa đội tuyển U23 Vi...       m.tuoitre.vn   \n",
       "\n",
       "       category  \n",
       "0      Giải trí  \n",
       "1          None  \n",
       "2  Bất động sản  \n",
       "3      Giải trí  \n",
       "4      Thể thao  "
      ]
     },
     "execution_count": 7,
     "metadata": {},
     "output_type": "execute_result"
    }
   ],
   "source": [
    "print(article_info.shape)\n",
    "print(f\" time range: from {article_info['published_time'].min().__str__()} to\"\n",
    "      f\" {article_info['published_time'].max().__str__()}\")\n",
    "article_info.head()"
   ]
  },
  {
   "cell_type": "code",
   "execution_count": 8,
   "id": "ca94de9a",
   "metadata": {
    "execution": {
     "iopub.execute_input": "2023-10-13T06:46:00.157992Z",
     "iopub.status.busy": "2023-10-13T06:46:00.157576Z",
     "iopub.status.idle": "2023-10-13T06:46:00.170045Z",
     "shell.execute_reply": "2023-10-13T06:46:00.168907Z"
    },
    "papermill": {
     "duration": 0.025252,
     "end_time": "2023-10-13T06:46:00.172222",
     "exception": false,
     "start_time": "2023-10-13T06:46:00.146970",
     "status": "completed"
    },
    "tags": []
   },
   "outputs": [
    {
     "data": {
      "text/plain": [
       "array(['Giải trí', None, 'Bất động sản', 'Thể thao', 'Xe', 'Tin thế giới',\n",
       "       'Pháp luật', 'Giáo dục', 'Đời sống', 'Xã hội', 'Kinh tế',\n",
       "       'Công nghệ', 'Văn hóa', 'Game', 'Khoa học'], dtype=object)"
      ]
     },
     "execution_count": 8,
     "metadata": {},
     "output_type": "execute_result"
    }
   ],
   "source": [
    "article_info['category'].unique()"
   ]
  },
  {
   "cell_type": "code",
   "execution_count": 9,
   "id": "bd12ea7a",
   "metadata": {
    "execution": {
     "iopub.execute_input": "2023-10-13T06:46:00.192581Z",
     "iopub.status.busy": "2023-10-13T06:46:00.192192Z",
     "iopub.status.idle": "2023-10-13T06:46:12.058933Z",
     "shell.execute_reply": "2023-10-13T06:46:12.057661Z"
    },
    "papermill": {
     "duration": 11.879365,
     "end_time": "2023-10-13T06:46:12.061312",
     "exception": false,
     "start_time": "2023-10-13T06:46:00.181947",
     "status": "completed"
    },
    "tags": []
   },
   "outputs": [],
   "source": [
    "train = train.merge(user_profile, on='user_id', how='left')\n",
    "train = train.merge(article_info, on='article_id', how='left')\n",
    "\n",
    "test = test.merge(user_profile, on='user_id', how='left')\n",
    "test = test.merge(article_info, on='article_id', how='left')"
   ]
  },
  {
   "cell_type": "code",
   "execution_count": 10,
   "id": "e1e0e00c",
   "metadata": {
    "execution": {
     "iopub.execute_input": "2023-10-13T06:46:12.081482Z",
     "iopub.status.busy": "2023-10-13T06:46:12.081048Z",
     "iopub.status.idle": "2023-10-13T06:46:12.096416Z",
     "shell.execute_reply": "2023-10-13T06:46:12.095169Z"
    },
    "papermill": {
     "duration": 0.027783,
     "end_time": "2023-10-13T06:46:12.098394",
     "exception": false,
     "start_time": "2023-10-13T06:46:12.070611",
     "status": "completed"
    },
    "tags": []
   },
   "outputs": [
    {
     "data": {
      "text/html": [
       "<div>\n",
       "<style scoped>\n",
       "    .dataframe tbody tr th:only-of-type {\n",
       "        vertical-align: middle;\n",
       "    }\n",
       "\n",
       "    .dataframe tbody tr th {\n",
       "        vertical-align: top;\n",
       "    }\n",
       "\n",
       "    .dataframe thead th {\n",
       "        text-align: right;\n",
       "    }\n",
       "</style>\n",
       "<table border=\"1\" class=\"dataframe\">\n",
       "  <thead>\n",
       "    <tr style=\"text-align: right;\">\n",
       "      <th></th>\n",
       "      <th>user_id</th>\n",
       "      <th>article_id</th>\n",
       "      <th>event_time</th>\n",
       "      <th>label</th>\n",
       "      <th>gender</th>\n",
       "      <th>age</th>\n",
       "      <th>os_name</th>\n",
       "      <th>published_time</th>\n",
       "      <th>title</th>\n",
       "      <th>domain</th>\n",
       "      <th>category</th>\n",
       "    </tr>\n",
       "  </thead>\n",
       "  <tbody>\n",
       "    <tr>\n",
       "      <th>0</th>\n",
       "      <td>6e4b2ae012590b002f0552a195d03592</td>\n",
       "      <td>f38294602078b144a54267928e2daa1b</td>\n",
       "      <td>2022-04-06 10:56:51</td>\n",
       "      <td>0</td>\n",
       "      <td>Male</td>\n",
       "      <td>55-64</td>\n",
       "      <td>windows</td>\n",
       "      <td>2022-04-05 10:12:00</td>\n",
       "      <td>Về miền di tích cuối dãy Trường Sơn (Bình Phước)</td>\n",
       "      <td>tintuc.vn</td>\n",
       "      <td>Văn hóa</td>\n",
       "    </tr>\n",
       "    <tr>\n",
       "      <th>1</th>\n",
       "      <td>49937761681b52eb2a17fe87133b7f54</td>\n",
       "      <td>d3db6da84a6e4520122aa72839f83d70</td>\n",
       "      <td>2022-04-07 16:57:09</td>\n",
       "      <td>0</td>\n",
       "      <td>Male</td>\n",
       "      <td>55-64</td>\n",
       "      <td>windows</td>\n",
       "      <td>2022-04-06 06:35:29</td>\n",
       "      <td>Lấy cảm hứng từ gấu Bắc Cực để tạo ra chiếc lề...</td>\n",
       "      <td>m.infonet.vietnamnet.vn</td>\n",
       "      <td>Khoa học</td>\n",
       "    </tr>\n",
       "    <tr>\n",
       "      <th>2</th>\n",
       "      <td>86e9d75001cfbe4a94a15a45715a4a90</td>\n",
       "      <td>a53dd8f8d842f275caccd9ce99bde14e</td>\n",
       "      <td>2022-04-11 20:37:58</td>\n",
       "      <td>0</td>\n",
       "      <td>Male</td>\n",
       "      <td>35-44</td>\n",
       "      <td>windows</td>\n",
       "      <td>2022-04-10 16:10:53</td>\n",
       "      <td>Ếch thoát chết thần kỳ dù bị rắn cắn chân</td>\n",
       "      <td>vietbao.vn</td>\n",
       "      <td>Khoa học</td>\n",
       "    </tr>\n",
       "    <tr>\n",
       "      <th>3</th>\n",
       "      <td>68794b2e9c86a8d21fec24182d476147</td>\n",
       "      <td>6ee66eab1744f56b39e42691e88383e5</td>\n",
       "      <td>2022-04-06 20:48:33</td>\n",
       "      <td>0</td>\n",
       "      <td>Female</td>\n",
       "      <td>25-34</td>\n",
       "      <td>windows</td>\n",
       "      <td>2022-04-06 10:38:03</td>\n",
       "      <td>'Chán' làm điên đảo thị trường tiền số, Elon M...</td>\n",
       "      <td>cafef.vn</td>\n",
       "      <td>Công nghệ</td>\n",
       "    </tr>\n",
       "    <tr>\n",
       "      <th>4</th>\n",
       "      <td>44302cee26c3ba35b3c2d3835d73acf3</td>\n",
       "      <td>9723c867ddf55424175c0eb9d5487d52</td>\n",
       "      <td>2022-04-08 16:06:52</td>\n",
       "      <td>0</td>\n",
       "      <td>Male</td>\n",
       "      <td>55-64</td>\n",
       "      <td>windows</td>\n",
       "      <td>2022-04-08 10:00:00</td>\n",
       "      <td>Mẹ vịt liều lĩnh \"đột nhập\" khoa sản và hạ sin...</td>\n",
       "      <td>yan.vn</td>\n",
       "      <td>Đời sống</td>\n",
       "    </tr>\n",
       "  </tbody>\n",
       "</table>\n",
       "</div>"
      ],
      "text/plain": [
       "                            user_id                        article_id  \\\n",
       "0  6e4b2ae012590b002f0552a195d03592  f38294602078b144a54267928e2daa1b   \n",
       "1  49937761681b52eb2a17fe87133b7f54  d3db6da84a6e4520122aa72839f83d70   \n",
       "2  86e9d75001cfbe4a94a15a45715a4a90  a53dd8f8d842f275caccd9ce99bde14e   \n",
       "3  68794b2e9c86a8d21fec24182d476147  6ee66eab1744f56b39e42691e88383e5   \n",
       "4  44302cee26c3ba35b3c2d3835d73acf3  9723c867ddf55424175c0eb9d5487d52   \n",
       "\n",
       "           event_time  label  gender    age  os_name      published_time  \\\n",
       "0 2022-04-06 10:56:51      0    Male  55-64  windows 2022-04-05 10:12:00   \n",
       "1 2022-04-07 16:57:09      0    Male  55-64  windows 2022-04-06 06:35:29   \n",
       "2 2022-04-11 20:37:58      0    Male  35-44  windows 2022-04-10 16:10:53   \n",
       "3 2022-04-06 20:48:33      0  Female  25-34  windows 2022-04-06 10:38:03   \n",
       "4 2022-04-08 16:06:52      0    Male  55-64  windows 2022-04-08 10:00:00   \n",
       "\n",
       "                                               title                   domain  \\\n",
       "0   Về miền di tích cuối dãy Trường Sơn (Bình Phước)                tintuc.vn   \n",
       "1  Lấy cảm hứng từ gấu Bắc Cực để tạo ra chiếc lề...  m.infonet.vietnamnet.vn   \n",
       "2          Ếch thoát chết thần kỳ dù bị rắn cắn chân               vietbao.vn   \n",
       "3  'Chán' làm điên đảo thị trường tiền số, Elon M...                 cafef.vn   \n",
       "4  Mẹ vịt liều lĩnh \"đột nhập\" khoa sản và hạ sin...                   yan.vn   \n",
       "\n",
       "    category  \n",
       "0    Văn hóa  \n",
       "1   Khoa học  \n",
       "2   Khoa học  \n",
       "3  Công nghệ  \n",
       "4   Đời sống  "
      ]
     },
     "execution_count": 10,
     "metadata": {},
     "output_type": "execute_result"
    }
   ],
   "source": [
    "train.head()"
   ]
  },
  {
   "cell_type": "code",
   "execution_count": 11,
   "id": "25f643d0",
   "metadata": {
    "execution": {
     "iopub.execute_input": "2023-10-13T06:46:12.119224Z",
     "iopub.status.busy": "2023-10-13T06:46:12.118829Z",
     "iopub.status.idle": "2023-10-13T06:46:15.369725Z",
     "shell.execute_reply": "2023-10-13T06:46:15.368613Z"
    },
    "papermill": {
     "duration": 3.264248,
     "end_time": "2023-10-13T06:46:15.372038",
     "exception": false,
     "start_time": "2023-10-13T06:46:12.107790",
     "status": "completed"
    },
    "tags": []
   },
   "outputs": [],
   "source": [
    "# impute category\n",
    "def infer_category(df):\n",
    "    article_null_filled = pd.read_json('/kaggle/input/vds-news-embeddings/category.json', orient ='index').reset_index()\n",
    "    article_null_filled.columns=['article_id', 'category_infer']\n",
    "    cate_infer = dict(zip(article_null_filled['article_id'].values, article_null_filled['category_infer'].values))\n",
    "    df['category_infer'] = df['category']\n",
    "    infer_indices = df[df['category_infer'].isna()].index.values\n",
    "    df.loc[infer_indices, 'category_infer'] = df.loc[infer_indices, 'article_id'].map(lambda s : cate_infer[s])\n",
    "    return df['category_infer'].values\n",
    "\n",
    "train['category_infer'] = infer_category(train[['article_id', 'category']])\n",
    "test['category_infer'] = infer_category(test[['article_id', 'category']])\n",
    "\n",
    "train = train.drop(columns=['category'])\n",
    "test = test.drop(columns=['category'])"
   ]
  },
  {
   "cell_type": "code",
   "execution_count": 12,
   "id": "94267242",
   "metadata": {
    "execution": {
     "iopub.execute_input": "2023-10-13T06:46:15.392780Z",
     "iopub.status.busy": "2023-10-13T06:46:15.392195Z",
     "iopub.status.idle": "2023-10-13T06:46:18.467667Z",
     "shell.execute_reply": "2023-10-13T06:46:18.466404Z"
    },
    "papermill": {
     "duration": 3.088724,
     "end_time": "2023-10-13T06:46:18.470251",
     "exception": false,
     "start_time": "2023-10-13T06:46:15.381527",
     "status": "completed"
    },
    "tags": []
   },
   "outputs": [],
   "source": [
    "# transform domain\n",
    "train['domain'] = train['domain'].map(lambda x: x[2:] if x[:2] == 'm.' else x)\n",
    "test['domain'] = test['domain'].map(lambda x: x[2:] if x[:2] == 'm.' else x)"
   ]
  },
  {
   "cell_type": "markdown",
   "id": "a4fca754",
   "metadata": {
    "papermill": {
     "duration": 0.009119,
     "end_time": "2023-10-13T06:46:18.488794",
     "exception": false,
     "start_time": "2023-10-13T06:46:18.479675",
     "status": "completed"
    },
    "tags": []
   },
   "source": [
    "# Create user features"
   ]
  },
  {
   "cell_type": "code",
   "execution_count": 13,
   "id": "8e5f540b",
   "metadata": {
    "execution": {
     "iopub.execute_input": "2023-10-13T06:46:18.569979Z",
     "iopub.status.busy": "2023-10-13T06:46:18.569591Z",
     "iopub.status.idle": "2023-10-13T06:46:19.663000Z",
     "shell.execute_reply": "2023-10-13T06:46:19.661979Z"
    },
    "papermill": {
     "duration": 1.106808,
     "end_time": "2023-10-13T06:46:19.665571",
     "exception": false,
     "start_time": "2023-10-13T06:46:18.558763",
     "status": "completed"
    },
    "tags": []
   },
   "outputs": [],
   "source": [
    "from sklearn.preprocessing import StandardScaler\n",
    "scaler = StandardScaler()"
   ]
  },
  {
   "cell_type": "code",
   "execution_count": 14,
   "id": "cb3f823b",
   "metadata": {
    "execution": {
     "iopub.execute_input": "2023-10-13T06:46:19.686420Z",
     "iopub.status.busy": "2023-10-13T06:46:19.686031Z",
     "iopub.status.idle": "2023-10-13T06:46:19.691240Z",
     "shell.execute_reply": "2023-10-13T06:46:19.690134Z"
    },
    "papermill": {
     "duration": 0.017938,
     "end_time": "2023-10-13T06:46:19.693396",
     "exception": false,
     "start_time": "2023-10-13T06:46:19.675458",
     "status": "completed"
    },
    "tags": []
   },
   "outputs": [],
   "source": [
    "def create_user_features(df):\n",
    "    user_features = df.groupby('user_id').agg({\n",
    "        'user_id': 'count'\n",
    "    })\n",
    "    user_features.columns = ['user_impressions']\n",
    "    user_features = user_features.reset_index()\n",
    "    user_features['user_impressions_norm'] = scaler.fit_transform(np.array(user_features['user_impressions']).reshape(-1, 1))\n",
    "    return user_features"
   ]
  },
  {
   "cell_type": "code",
   "execution_count": 15,
   "id": "e494e34e",
   "metadata": {
    "execution": {
     "iopub.execute_input": "2023-10-13T06:46:19.714232Z",
     "iopub.status.busy": "2023-10-13T06:46:19.713493Z",
     "iopub.status.idle": "2023-10-13T06:46:32.544245Z",
     "shell.execute_reply": "2023-10-13T06:46:32.543079Z"
    },
    "papermill": {
     "duration": 12.84343,
     "end_time": "2023-10-13T06:46:32.546327",
     "exception": false,
     "start_time": "2023-10-13T06:46:19.702897",
     "status": "completed"
    },
    "tags": []
   },
   "outputs": [
    {
     "data": {
      "text/plain": [
       "0"
      ]
     },
     "execution_count": 15,
     "metadata": {},
     "output_type": "execute_result"
    }
   ],
   "source": [
    "user_features = create_user_features(pd.concat([train, test]))\n",
    "train = train.merge(user_features, on=['user_id'], how='left')\n",
    "test = test.merge(user_features, on=['user_id'], how='left')\n",
    "\n",
    "del user_features\n",
    "gc.collect()"
   ]
  },
  {
   "cell_type": "markdown",
   "id": "1d597172",
   "metadata": {
    "papermill": {
     "duration": 0.009321,
     "end_time": "2023-10-13T06:46:32.565773",
     "exception": false,
     "start_time": "2023-10-13T06:46:32.556452",
     "status": "completed"
    },
    "tags": []
   },
   "source": [
    "# Create item features"
   ]
  },
  {
   "cell_type": "code",
   "execution_count": 16,
   "id": "ae150c69",
   "metadata": {
    "execution": {
     "iopub.execute_input": "2023-10-13T06:46:32.586460Z",
     "iopub.status.busy": "2023-10-13T06:46:32.586068Z",
     "iopub.status.idle": "2023-10-13T06:46:32.591673Z",
     "shell.execute_reply": "2023-10-13T06:46:32.590664Z"
    },
    "papermill": {
     "duration": 0.018143,
     "end_time": "2023-10-13T06:46:32.593561",
     "exception": false,
     "start_time": "2023-10-13T06:46:32.575418",
     "status": "completed"
    },
    "tags": []
   },
   "outputs": [],
   "source": [
    "def create_item_features(df):\n",
    "    item_features = df.groupby('article_id').agg({\n",
    "        'article_id': 'count'\n",
    "    })\n",
    "    item_features.columns = ['item_impressions']\n",
    "    item_features = item_features.reset_index()\n",
    "    item_features['item_impressions_norm'] = scaler.fit_transform(np.array(item_features['item_impressions']).reshape(-1, 1))\n",
    "    return item_features"
   ]
  },
  {
   "cell_type": "code",
   "execution_count": 17,
   "id": "76e85399",
   "metadata": {
    "execution": {
     "iopub.execute_input": "2023-10-13T06:46:32.614347Z",
     "iopub.status.busy": "2023-10-13T06:46:32.613966Z",
     "iopub.status.idle": "2023-10-13T06:46:44.186749Z",
     "shell.execute_reply": "2023-10-13T06:46:44.185516Z"
    },
    "papermill": {
     "duration": 11.585751,
     "end_time": "2023-10-13T06:46:44.188888",
     "exception": false,
     "start_time": "2023-10-13T06:46:32.603137",
     "status": "completed"
    },
    "tags": []
   },
   "outputs": [
    {
     "data": {
      "text/plain": [
       "0"
      ]
     },
     "execution_count": 17,
     "metadata": {},
     "output_type": "execute_result"
    }
   ],
   "source": [
    "item_features = create_item_features(pd.concat([train, test]))\n",
    "train = train.merge(item_features, on=['article_id'], how='left')\n",
    "test = test.merge(item_features, on=['article_id'], how='left')\n",
    "\n",
    "del item_features\n",
    "gc.collect()"
   ]
  },
  {
   "cell_type": "code",
   "execution_count": 18,
   "id": "bf8bab81",
   "metadata": {
    "execution": {
     "iopub.execute_input": "2023-10-13T06:46:44.210059Z",
     "iopub.status.busy": "2023-10-13T06:46:44.209386Z",
     "iopub.status.idle": "2023-10-13T06:46:45.895720Z",
     "shell.execute_reply": "2023-10-13T06:46:45.894516Z"
    },
    "papermill": {
     "duration": 1.700213,
     "end_time": "2023-10-13T06:46:45.898936",
     "exception": false,
     "start_time": "2023-10-13T06:46:44.198723",
     "status": "completed"
    },
    "tags": []
   },
   "outputs": [],
   "source": [
    "EMBEDDING_DIM = 512\n",
    "item_title_embeddings = np.load('/kaggle/input/vds-news-embeddings/item_embeddings_512dims.npy')\n",
    "unique_article_ids = article_info['article_id'].values\n",
    "embedding_matrix = np.zeros((len(item_title_embeddings) + 1, EMBEDDING_DIM))\n",
    "embedding_matrix[1:] = item_title_embeddings"
   ]
  },
  {
   "cell_type": "markdown",
   "id": "8024282f",
   "metadata": {
    "papermill": {
     "duration": 0.009608,
     "end_time": "2023-10-13T06:46:45.924836",
     "exception": false,
     "start_time": "2023-10-13T06:46:45.915228",
     "status": "completed"
    },
    "tags": []
   },
   "source": [
    "# Create interaction features"
   ]
  },
  {
   "cell_type": "code",
   "execution_count": 19,
   "id": "24c1bc47",
   "metadata": {
    "execution": {
     "iopub.execute_input": "2023-10-13T06:46:45.946185Z",
     "iopub.status.busy": "2023-10-13T06:46:45.945830Z",
     "iopub.status.idle": "2023-10-13T06:47:00.208920Z",
     "shell.execute_reply": "2023-10-13T06:47:00.208023Z"
    },
    "papermill": {
     "duration": 14.276733,
     "end_time": "2023-10-13T06:47:00.211357",
     "exception": false,
     "start_time": "2023-10-13T06:46:45.934624",
     "status": "completed"
    },
    "tags": []
   },
   "outputs": [],
   "source": [
    "def create_user_item_features(df):\n",
    "    df['timestamp'] = (df['event_time'] - df['published_time']).dt.total_seconds()\n",
    "    df['event_date'] = df['event_time'].dt.strftime('%Y-%m-%d')\n",
    "    df['period'] = pd.cut(df['event_time'].dt.hour,\n",
    "                         bins=[0, 6, 12, 18, 24],\n",
    "                         labels=['night', 'morning', 'afternoon', 'evening'],\n",
    "                         right=False,\n",
    "                         include_lowest=True)\n",
    "    df['period'] = df['period'].astype(str)\n",
    "    return df\n",
    "train = create_user_item_features(train)\n",
    "test = create_user_item_features(test)"
   ]
  },
  {
   "cell_type": "code",
   "execution_count": 20,
   "id": "e1a5f2bc",
   "metadata": {
    "execution": {
     "iopub.execute_input": "2023-10-13T06:47:00.233397Z",
     "iopub.status.busy": "2023-10-13T06:47:00.232961Z",
     "iopub.status.idle": "2023-10-13T06:47:17.300343Z",
     "shell.execute_reply": "2023-10-13T06:47:17.299471Z"
    },
    "papermill": {
     "duration": 17.082253,
     "end_time": "2023-10-13T06:47:17.303471",
     "exception": false,
     "start_time": "2023-10-13T06:47:00.221218",
     "status": "completed"
    },
    "tags": []
   },
   "outputs": [
    {
     "data": {
      "text/plain": [
       "80"
      ]
     },
     "execution_count": 20,
     "metadata": {},
     "output_type": "execute_result"
    }
   ],
   "source": [
    "item_date_impress = pd.concat([train, test]).groupby(['article_id', 'event_date']).size().to_frame('item_date_impress').reset_index()\n",
    "item_date_impress['item_date_impress'] = scaler.fit_transform(np.array(item_date_impress['item_date_impress']).reshape(-1, 1)) # norm\n",
    "\n",
    "train = train.merge(item_date_impress, on=['article_id', 'event_date'], how='left')\n",
    "test = test.merge(item_date_impress, on=['article_id', 'event_date'], how='left')\n",
    "\n",
    "del item_date_impress\n",
    "gc.collect()"
   ]
  },
  {
   "cell_type": "code",
   "execution_count": 21,
   "id": "d1b18cb7",
   "metadata": {
    "execution": {
     "iopub.execute_input": "2023-10-13T06:47:17.328800Z",
     "iopub.status.busy": "2023-10-13T06:47:17.328446Z",
     "iopub.status.idle": "2023-10-13T06:47:37.165397Z",
     "shell.execute_reply": "2023-10-13T06:47:37.164183Z"
    },
    "papermill": {
     "duration": 19.850528,
     "end_time": "2023-10-13T06:47:37.168033",
     "exception": false,
     "start_time": "2023-10-13T06:47:17.317505",
     "status": "completed"
    },
    "tags": []
   },
   "outputs": [
    {
     "data": {
      "text/plain": [
       "0"
      ]
     },
     "execution_count": 21,
     "metadata": {},
     "output_type": "execute_result"
    }
   ],
   "source": [
    "item_period_impress = pd.concat([train, test]).groupby(['article_id', 'event_date', 'period']).size().to_frame('item_period_impress').reset_index()\n",
    "item_period_impress['item_period_impress'] = scaler.fit_transform(np.array(item_period_impress['item_period_impress']).reshape(-1, 1))\n",
    "\n",
    "train = train.merge(item_period_impress, on=['article_id', 'event_date', 'period'], how='left')\n",
    "test = test.merge(item_period_impress, on=['article_id', 'event_date', 'period'], how='left')\n",
    "\n",
    "del item_period_impress\n",
    "gc.collect()"
   ]
  },
  {
   "cell_type": "code",
   "execution_count": 22,
   "id": "5ef3f8e3",
   "metadata": {
    "execution": {
     "iopub.execute_input": "2023-10-13T06:47:37.191537Z",
     "iopub.status.busy": "2023-10-13T06:47:37.191169Z",
     "iopub.status.idle": "2023-10-13T06:48:24.837267Z",
     "shell.execute_reply": "2023-10-13T06:48:24.836005Z"
    },
    "papermill": {
     "duration": 47.660627,
     "end_time": "2023-10-13T06:48:24.839977",
     "exception": false,
     "start_time": "2023-10-13T06:47:37.179350",
     "status": "completed"
    },
    "tags": []
   },
   "outputs": [],
   "source": [
    "tmp = pd.concat([train, test]).sort_values(['article_id', 'event_time']).drop_duplicates(subset=['article_id'], keep='last')\n",
    "tmp['item_per_hour_impress'] = tmp['item_impressions'] / (tmp['timestamp'] / 60 / 60)\n",
    "tmp['item_per_hour_impress'] = scaler.fit_transform(np.array(tmp['item_per_hour_impress']).reshape(-1, 1))\n",
    "\n",
    "train = train.merge(tmp[['article_id', 'item_per_hour_impress']], on=['article_id'], how='left')\n",
    "test = test.merge(tmp[['article_id', 'item_per_hour_impress']], on=['article_id'], how='left')"
   ]
  },
  {
   "cell_type": "code",
   "execution_count": 23,
   "id": "1814ea0b",
   "metadata": {
    "execution": {
     "iopub.execute_input": "2023-10-13T06:48:24.863123Z",
     "iopub.status.busy": "2023-10-13T06:48:24.862749Z",
     "iopub.status.idle": "2023-10-13T06:49:14.566053Z",
     "shell.execute_reply": "2023-10-13T06:49:14.565262Z"
    },
    "papermill": {
     "duration": 49.718357,
     "end_time": "2023-10-13T06:49:14.568729",
     "exception": false,
     "start_time": "2023-10-13T06:48:24.850372",
     "status": "completed"
    },
    "tags": []
   },
   "outputs": [],
   "source": [
    "# create user reads category ratio col\n",
    "train = train.sort_values(['user_id', 'event_time'])\n",
    "\n",
    "train['label_shift'] = train.groupby(['user_id', 'category_infer'])['label'].shift(fill_value=0)\n",
    "train['cate_impress_count'] = train.groupby(['user_id', 'category_infer'])['label'].cumcount() + 1\n",
    "train['cate_read'] = train.groupby(['user_id', 'category_infer'])['label_shift'].cumsum().astype('float')\n",
    "train['user_cate_read_ratio'] = train['cate_read'] / train['cate_impress_count']\n",
    "train = train.drop(columns=['label_shift', 'cate_impress_count', 'cate_read'])\n",
    "\n",
    "tmp = train.groupby(['user_id', 'category_infer'])['label'].mean().to_frame('user_cate_read_ratio').reset_index()\n",
    "test = test.merge(tmp, on=['user_id', 'category_infer'], how='left').fillna(0)"
   ]
  },
  {
   "cell_type": "code",
   "execution_count": 24,
   "id": "7146b135",
   "metadata": {
    "execution": {
     "iopub.execute_input": "2023-10-13T06:49:14.590444Z",
     "iopub.status.busy": "2023-10-13T06:49:14.589653Z",
     "iopub.status.idle": "2023-10-13T06:49:29.629111Z",
     "shell.execute_reply": "2023-10-13T06:49:29.627993Z"
    },
    "papermill": {
     "duration": 15.052648,
     "end_time": "2023-10-13T06:49:29.631376",
     "exception": false,
     "start_time": "2023-10-13T06:49:14.578728",
     "status": "completed"
    },
    "tags": []
   },
   "outputs": [
    {
     "data": {
      "text/plain": [
       "35"
      ]
     },
     "execution_count": 24,
     "metadata": {},
     "output_type": "execute_result"
    }
   ],
   "source": [
    "user_cate_impress = pd.concat([train, test]).groupby(['user_id', 'category_infer']).size().to_frame('user_cate_impress').reset_index()\n",
    "user_cate_impress['user_cate_impress_norm'] = scaler.fit_transform(np.array(user_cate_impress['user_cate_impress']).reshape(-1, 1))\n",
    "train = train.merge(user_cate_impress, on=['user_id', 'category_infer'], how='left')\n",
    "test = test.merge(user_cate_impress, on=['user_id', 'category_infer'], how='left')\n",
    "\n",
    "train['user_cate_impress_ratio'] = train['user_cate_impress'] / train['user_impressions']\n",
    "test['user_cate_impress_ratio'] = test['user_cate_impress'] / test['user_impressions']\n",
    "\n",
    "del user_cate_impress\n",
    "gc.collect()"
   ]
  },
  {
   "cell_type": "code",
   "execution_count": 25,
   "id": "a85ba50e",
   "metadata": {
    "execution": {
     "iopub.execute_input": "2023-10-13T06:49:29.653650Z",
     "iopub.status.busy": "2023-10-13T06:49:29.652650Z",
     "iopub.status.idle": "2023-10-13T06:49:29.659973Z",
     "shell.execute_reply": "2023-10-13T06:49:29.658871Z"
    },
    "papermill": {
     "duration": 0.020388,
     "end_time": "2023-10-13T06:49:29.661995",
     "exception": false,
     "start_time": "2023-10-13T06:49:29.641607",
     "status": "completed"
    },
    "tags": []
   },
   "outputs": [
    {
     "data": {
      "text/plain": [
       "Index(['user_id', 'article_id', 'event_time', 'label', 'gender', 'age',\n",
       "       'os_name', 'published_time', 'title', 'domain', 'category_infer',\n",
       "       'user_impressions', 'user_impressions_norm', 'item_impressions',\n",
       "       'item_impressions_norm', 'timestamp', 'event_date', 'period',\n",
       "       'item_date_impress', 'item_period_impress', 'item_per_hour_impress',\n",
       "       'user_cate_read_ratio', 'user_cate_impress', 'user_cate_impress_norm',\n",
       "       'user_cate_impress_ratio'],\n",
       "      dtype='object')"
      ]
     },
     "execution_count": 25,
     "metadata": {},
     "output_type": "execute_result"
    }
   ],
   "source": [
    "test.columns"
   ]
  },
  {
   "cell_type": "code",
   "execution_count": 26,
   "id": "60fb645d",
   "metadata": {
    "execution": {
     "iopub.execute_input": "2023-10-13T06:49:29.683803Z",
     "iopub.status.busy": "2023-10-13T06:49:29.683073Z",
     "iopub.status.idle": "2023-10-13T06:49:41.868951Z",
     "shell.execute_reply": "2023-10-13T06:49:41.867960Z"
    },
    "papermill": {
     "duration": 12.199312,
     "end_time": "2023-10-13T06:49:41.871361",
     "exception": false,
     "start_time": "2023-10-13T06:49:29.672049",
     "status": "completed"
    },
    "tags": []
   },
   "outputs": [
    {
     "data": {
      "text/plain": [
       "(89749, 75170, 150, 14, 4)"
      ]
     },
     "execution_count": 26,
     "metadata": {},
     "output_type": "execute_result"
    }
   ],
   "source": [
    "df = pd.concat([\n",
    "    train[['user_id', 'article_id', 'domain', 'category_infer', 'period']], \n",
    "    test[['user_id', 'article_id', 'domain', 'category_infer', 'period']],\n",
    "])\n",
    "unique_user_ids = df['user_id'].unique()\n",
    "unique_item_ids = df['article_id'].unique()\n",
    "unique_domains = df['domain'].unique()\n",
    "unique_categories = df['category_infer'].unique()\n",
    "unique_periods = df['period'].unique()\n",
    "\n",
    "len(unique_user_ids), len(unique_item_ids), len(unique_domains), len(unique_categories), len(unique_periods)"
   ]
  },
  {
   "cell_type": "markdown",
   "id": "ce0aa330",
   "metadata": {
    "papermill": {
     "duration": 0.009802,
     "end_time": "2023-10-13T06:49:41.891338",
     "exception": false,
     "start_time": "2023-10-13T06:49:41.881536",
     "status": "completed"
    },
    "tags": []
   },
   "source": [
    "# Create tf Dataset"
   ]
  },
  {
   "cell_type": "code",
   "execution_count": 27,
   "id": "c47df47a",
   "metadata": {
    "execution": {
     "iopub.execute_input": "2023-10-13T06:49:41.913126Z",
     "iopub.status.busy": "2023-10-13T06:49:41.912765Z",
     "iopub.status.idle": "2023-10-13T06:49:53.665168Z",
     "shell.execute_reply": "2023-10-13T06:49:53.663831Z"
    },
    "papermill": {
     "duration": 11.766057,
     "end_time": "2023-10-13T06:49:53.667469",
     "exception": false,
     "start_time": "2023-10-13T06:49:41.901412",
     "status": "completed"
    },
    "tags": []
   },
   "outputs": [
    {
     "name": "stdout",
     "output_type": "stream",
     "text": [
      "WARNING: AutoGraph could not transform <function create_custom_ds.<locals>.<lambda> at 0x7cd96777f910> and will run it as-is.\n",
      "Cause: could not parse the source code of <function create_custom_ds.<locals>.<lambda> at 0x7cd96777f910>: no matching AST found among candidates:\n",
      "\n",
      "To silence this warning, decorate the function with @tf.autograph.experimental.do_not_convert\n",
      "WARNING: AutoGraph could not transform <function create_custom_ds.<locals>.<lambda> at 0x7cd934ed7370> and will run it as-is.\n",
      "Cause: could not parse the source code of <function create_custom_ds.<locals>.<lambda> at 0x7cd934ed7370>: no matching AST found among candidates:\n",
      "\n",
      "To silence this warning, decorate the function with @tf.autograph.experimental.do_not_convert\n",
      "CPU times: user 8.92 s, sys: 2.79 s, total: 11.7 s\n",
      "Wall time: 11.7 s\n"
     ]
    }
   ],
   "source": [
    "%%time\n",
    "def create_custom_ds(df, ds_type='train'):\n",
    "    use_cols = ['user_id', 'user_cate_read_ratio', 'period', 'user_impressions_norm',\n",
    "                'article_id', 'domain', 'category_infer', 'item_period_impress', 'item_date_impress',\n",
    "                'timestamp', 'item_per_hour_impress',\n",
    "                'user_cate_impress_norm', 'user_cate_impress_ratio', \n",
    "                'label']\n",
    "    if ds_type == 'test':\n",
    "        use_cols = use_cols[:-1]\n",
    "    ds = tf.data.Dataset.from_tensor_slices(dict(df[use_cols]))\n",
    "    ds = ds.map(lambda x: {\n",
    "        col : x[col] for col in use_cols\n",
    "    })\n",
    "    return ds\n",
    "\n",
    "train_ds = create_custom_ds(train)\n",
    "test_ds = create_custom_ds(test)"
   ]
  },
  {
   "cell_type": "code",
   "execution_count": 28,
   "id": "e5024ac0",
   "metadata": {
    "execution": {
     "iopub.execute_input": "2023-10-13T06:49:53.689918Z",
     "iopub.status.busy": "2023-10-13T06:49:53.689470Z",
     "iopub.status.idle": "2023-10-13T06:49:53.743483Z",
     "shell.execute_reply": "2023-10-13T06:49:53.742350Z"
    },
    "papermill": {
     "duration": 0.067975,
     "end_time": "2023-10-13T06:49:53.745943",
     "exception": false,
     "start_time": "2023-10-13T06:49:53.677968",
     "status": "completed"
    },
    "tags": []
   },
   "outputs": [],
   "source": [
    "cached_train = train_ds.shuffle(len(train_ds)).batch(8192).cache()\n",
    "cached_test = test_ds.batch(8192).cache()"
   ]
  },
  {
   "cell_type": "code",
   "execution_count": 29,
   "id": "bc82239b",
   "metadata": {
    "execution": {
     "iopub.execute_input": "2023-10-13T06:49:53.768017Z",
     "iopub.status.busy": "2023-10-13T06:49:53.767688Z",
     "iopub.status.idle": "2023-10-13T06:49:54.073790Z",
     "shell.execute_reply": "2023-10-13T06:49:54.072618Z"
    },
    "papermill": {
     "duration": 0.320238,
     "end_time": "2023-10-13T06:49:54.076606",
     "exception": false,
     "start_time": "2023-10-13T06:49:53.756368",
     "status": "completed"
    },
    "tags": []
   },
   "outputs": [],
   "source": [
    "timestamps = pd.concat([train['timestamp'], test['timestamp']])\n",
    "max_timestamp = timestamps.max()\n",
    "min_timestamp = timestamps.min()\n",
    "mean_timestamp = timestamps.mean()\n",
    "var_timestamp = timestamps.var()\n",
    "timestamp_buckets = np.linspace(min_timestamp, max_timestamp, num=1000)"
   ]
  },
  {
   "cell_type": "code",
   "execution_count": 30,
   "id": "41272f11",
   "metadata": {
    "execution": {
     "iopub.execute_input": "2023-10-13T06:49:54.107665Z",
     "iopub.status.busy": "2023-10-13T06:49:54.107317Z",
     "iopub.status.idle": "2023-10-13T06:49:54.117830Z",
     "shell.execute_reply": "2023-10-13T06:49:54.116693Z"
    },
    "papermill": {
     "duration": 0.032598,
     "end_time": "2023-10-13T06:49:54.120417",
     "exception": false,
     "start_time": "2023-10-13T06:49:54.087819",
     "status": "completed"
    },
    "tags": []
   },
   "outputs": [],
   "source": [
    "EMBEDDING_DIMENSION = 32\n",
    "class UserModel(tf.keras.Model):\n",
    "    def __init__(self, use_user_features):\n",
    "        super().__init__()\n",
    "        self._use_user_features=use_user_features\n",
    "        \n",
    "        self.user_embedding = tf.keras.Sequential([\n",
    "          tf.keras.layers.StringLookup(vocabulary=unique_user_ids, mask_token=None),\n",
    "          tf.keras.layers.Embedding(len(unique_user_ids) + 1, EMBEDDING_DIMENSION)\n",
    "        ])\n",
    "        \n",
    "        self.timestamp_embedding = tf.keras.Sequential([\n",
    "            tf.keras.layers.Discretization(timestamp_buckets.tolist()),\n",
    "            tf.keras.layers.Embedding(len(timestamp_buckets) + 1, EMBEDDING_DIMENSION)])\n",
    "\n",
    "        self.normalized_timestamp = tf.keras.layers.Normalization(axis=None, mean=mean_timestamp, variance=var_timestamp)\n",
    "        \n",
    "            \n",
    "    def call(self, inputs):\n",
    "        if not self._use_user_features:\n",
    "            return tf.concat([\n",
    "            self.user_embedding(inputs[\"user_id\"]),\n",
    "            self.timestamp_embedding(inputs[\"timestamp\"]),\n",
    "            tf.reshape(self.normalized_timestamp(inputs[\"timestamp\"]), (-1, 1)),\n",
    "            tf.reshape(inputs[\"user_impressions_norm\"], (-1, 1)),\n",
    "            tf.reshape(inputs[\"user_cate_read_ratio\"], (-1, 1)),\n",
    "            ], axis=1)\n",
    "        \n",
    "        return tf.concat([\n",
    "            self.user_embedding(inputs[\"user_id\"]),\n",
    "            self.timestamp_embedding(inputs[\"timestamp\"]),\n",
    "            tf.reshape(self.normalized_timestamp(inputs[\"timestamp\"]), (-1, 1)),\n",
    "            tf.reshape(inputs[\"user_impressions_norm\"], (-1, 1)),\n",
    "            tf.reshape(inputs[\"user_cate_impress_norm\"], (-1, 1)),\n",
    "            tf.reshape(inputs[\"user_cate_impress_ratio\"], (-1, 1)),\n",
    "            tf.reshape(inputs[\"user_cate_read_ratio\"], (-1, 1)),\n",
    "            ], axis=1)"
   ]
  },
  {
   "cell_type": "code",
   "execution_count": 31,
   "id": "9fbcaa7b",
   "metadata": {
    "execution": {
     "iopub.execute_input": "2023-10-13T06:49:54.152628Z",
     "iopub.status.busy": "2023-10-13T06:49:54.151455Z",
     "iopub.status.idle": "2023-10-13T06:49:56.618407Z",
     "shell.execute_reply": "2023-10-13T06:49:56.617170Z"
    },
    "papermill": {
     "duration": 2.481677,
     "end_time": "2023-10-13T06:49:56.620545",
     "exception": false,
     "start_time": "2023-10-13T06:49:54.138868",
     "status": "completed"
    },
    "tags": []
   },
   "outputs": [
    {
     "name": "stdout",
     "output_type": "stream",
     "text": [
      "User embedding dimensions: (2, 69)\n",
      "Computed representations: \n",
      " [-0.03162839 -0.00492693 -0.0448239   0.02952503  0.04271699]\n"
     ]
    }
   ],
   "source": [
    "# sanity test\n",
    "for row in train_ds.batch(2).take(1):\n",
    "    user_embedding = UserModel(use_user_features=True)(row)\n",
    "    print(f\"User embedding dimensions: {user_embedding.shape}\")\n",
    "    print(f\"Computed representations: \\n {user_embedding[0, :5]}\")"
   ]
  },
  {
   "cell_type": "code",
   "execution_count": 32,
   "id": "1b98d728",
   "metadata": {
    "execution": {
     "iopub.execute_input": "2023-10-13T06:49:56.643746Z",
     "iopub.status.busy": "2023-10-13T06:49:56.642948Z",
     "iopub.status.idle": "2023-10-13T06:49:56.654122Z",
     "shell.execute_reply": "2023-10-13T06:49:56.653387Z"
    },
    "papermill": {
     "duration": 0.025505,
     "end_time": "2023-10-13T06:49:56.656454",
     "exception": false,
     "start_time": "2023-10-13T06:49:56.630949",
     "status": "completed"
    },
    "tags": []
   },
   "outputs": [],
   "source": [
    "class ItemModel(tf.keras.Model):\n",
    "    def __init__(self, use_item_features):\n",
    "        super().__init__()\n",
    "        self._use_item_features = use_item_features\n",
    "        \n",
    "        self.item_embedding = tf.keras.Sequential([\n",
    "            tf.keras.layers.StringLookup(vocabulary=unique_item_ids, mask_token=None),\n",
    "            tf.keras.layers.Embedding(len(unique_item_ids) + 1, EMBEDDING_DIMENSION)\n",
    "        ])\n",
    "        \n",
    "        self.domain_embedding = tf.keras.Sequential([\n",
    "            tf.keras.layers.StringLookup(vocabulary=unique_domains, mask_token=None),\n",
    "            tf.keras.layers.Embedding(len(unique_domains) + 1, EMBEDDING_DIMENSION)\n",
    "        ])\n",
    "        \n",
    "        self.category_embedding = tf.keras.Sequential([\n",
    "            tf.keras.layers.StringLookup(vocabulary=unique_categories, mask_token=None, output_mode='one_hot')\n",
    "        ])\n",
    "        \n",
    "        self.event_period_embedding = tf.keras.Sequential([\n",
    "            tf.keras.layers.StringLookup(vocabulary=unique_periods, mask_token=None, output_mode='one_hot')\n",
    "        ])\n",
    "        \n",
    "        self.title_text_embedding = tf.keras.Sequential([\n",
    "            tf.keras.layers.StringLookup(vocabulary=unique_article_ids, mask_token=None),\n",
    "            tf.keras.layers.Embedding(len(item_title_embeddings) + 1, EMBEDDING_DIM,\n",
    "                                      weights=[embedding_matrix],  # Use your custom embeddings here\n",
    "                                      trainable=False)\n",
    "        ])\n",
    "\n",
    "    def call(self, inputs):\n",
    "        if not self._use_item_features:\n",
    "            return tf.concat([\n",
    "                self.item_embedding(inputs['article_id']),\n",
    "                self.domain_embedding(inputs['domain']),\n",
    "                self.category_embedding(inputs['category_infer']),\n",
    "                tf.reshape(inputs[\"item_impressions_norm\"], (-1, 1)),\n",
    "                tf.reshape(inputs[\"item_period_impress\"], (-1, 1)),\n",
    "            ], axis=1)\n",
    "        \n",
    "        \n",
    "        return tf.concat([\n",
    "            self.item_embedding(inputs['article_id']),\n",
    "            self.title_text_embedding(inputs['article_id']),\n",
    "            self.domain_embedding(inputs['domain']),\n",
    "            self.category_embedding(inputs['category_infer']),\n",
    "            self.event_period_embedding(inputs['period']),\n",
    "            tf.reshape(inputs[\"item_date_impress\"], (-1, 1)),\n",
    "            tf.reshape(inputs[\"item_period_impress\"], (-1, 1)),\n",
    "            tf.reshape(inputs[\"item_per_hour_impress\"], (-1, 1)),\n",
    "            ], axis=1)"
   ]
  },
  {
   "cell_type": "code",
   "execution_count": 33,
   "id": "bc5438c8",
   "metadata": {
    "execution": {
     "iopub.execute_input": "2023-10-13T06:49:56.680150Z",
     "iopub.status.busy": "2023-10-13T06:49:56.679048Z",
     "iopub.status.idle": "2023-10-13T06:49:59.546021Z",
     "shell.execute_reply": "2023-10-13T06:49:59.544888Z"
    },
    "papermill": {
     "duration": 2.881266,
     "end_time": "2023-10-13T06:49:59.548170",
     "exception": false,
     "start_time": "2023-10-13T06:49:56.666904",
     "status": "completed"
    },
    "tags": []
   },
   "outputs": [
    {
     "name": "stdout",
     "output_type": "stream",
     "text": [
      "Item embedding dimensions: (2, 599)\n",
      "Computed representations: \n",
      " [ 0.01130533  0.02313748 -0.00944318 -0.004542    0.02105704]\n"
     ]
    }
   ],
   "source": [
    "# sanity test\n",
    "for row in train_ds.batch(2).take(1):\n",
    "    item_embedding = ItemModel(use_item_features=True)(row)\n",
    "    print(f\"Item embedding dimensions: {item_embedding.shape}\")\n",
    "    print(f\"Computed representations: \\n {item_embedding[0, :5]}\")"
   ]
  },
  {
   "cell_type": "code",
   "execution_count": 34,
   "id": "68a23875",
   "metadata": {
    "execution": {
     "iopub.execute_input": "2023-10-13T06:49:59.571148Z",
     "iopub.status.busy": "2023-10-13T06:49:59.570568Z",
     "iopub.status.idle": "2023-10-13T06:49:59.580489Z",
     "shell.execute_reply": "2023-10-13T06:49:59.579522Z"
    },
    "papermill": {
     "duration": 0.024048,
     "end_time": "2023-10-13T06:49:59.582685",
     "exception": false,
     "start_time": "2023-10-13T06:49:59.558637",
     "status": "completed"
    },
    "tags": []
   },
   "outputs": [],
   "source": [
    "class RankingModel(tfrs.models.Model):\n",
    "    def __init__(self, use_user_features, use_item_features):\n",
    "        super().__init__()\n",
    "        self.user_model = UserModel(use_user_features)\n",
    "        self.item_model = ItemModel(use_item_features)\n",
    "        self.rating_model = tf.keras.Sequential([\n",
    "          tf.keras.layers.Dense(1024, activation=\"relu\"),\n",
    "          tf.keras.layers.Dense(256, activation=\"relu\"),\n",
    "          tf.keras.layers.Dense(64, activation=\"relu\"),\n",
    "          tf.keras.layers.Dense(1, activation=\"sigmoid\")\n",
    "        ])\n",
    "        self.task: tf.keras.layers.Layer = tfrs.tasks.Ranking(\n",
    "          loss = tf.keras.losses.BinaryCrossentropy(from_logits=False),\n",
    "          metrics=[tf.keras.metrics.AUC()]\n",
    "        )\n",
    "            \n",
    "    def call(self, inputs) -> tf.Tensor:\n",
    "        user_embedding = self.user_model({\n",
    "            \"user_id\": inputs[\"user_id\"],\n",
    "            \"timestamp\": inputs[\"timestamp\"],\n",
    "            \"user_impressions_norm\": inputs[\"user_impressions_norm\"],\n",
    "            \"user_cate_read_ratio\" : inputs[\"user_cate_read_ratio\"],\n",
    "            \"user_cate_impress_norm\": inputs[\"user_cate_impress_norm\"],\n",
    "            \"user_cate_impress_ratio\": inputs[\"user_cate_impress_ratio\"],\n",
    "        })\n",
    "        \n",
    "        item_embedding = self.item_model({\n",
    "            \"article_id\": inputs[\"article_id\"],\n",
    "            \"domain\" : inputs[\"domain\"],\n",
    "            \"category_infer\": inputs[\"category_infer\"],\n",
    "            \"period\" : inputs[\"period\"],\n",
    "            \"item_period_impress\": inputs[\"item_period_impress\"],\n",
    "            \"item_date_impress\": inputs[\"item_date_impress\"],\n",
    "            \"item_per_hour_impress\": inputs[\"item_per_hour_impress\"],\n",
    "        })\n",
    "        \n",
    "        return self.rating_model(tf.concat([user_embedding, item_embedding], axis=1))\n",
    "    \n",
    "    def compute_loss(self, features, training=False):\n",
    "        labels = features.pop(\"label\")\n",
    "        rating_predictions = self(features)\n",
    "        return self.task(labels=labels, predictions=rating_predictions)"
   ]
  },
  {
   "cell_type": "code",
   "execution_count": 35,
   "id": "8d6f7572",
   "metadata": {
    "execution": {
     "iopub.execute_input": "2023-10-13T06:49:59.606071Z",
     "iopub.status.busy": "2023-10-13T06:49:59.605679Z",
     "iopub.status.idle": "2023-10-13T06:49:59.892385Z",
     "shell.execute_reply": "2023-10-13T06:49:59.891052Z"
    },
    "papermill": {
     "duration": 0.301188,
     "end_time": "2023-10-13T06:49:59.894854",
     "exception": false,
     "start_time": "2023-10-13T06:49:59.593666",
     "status": "completed"
    },
    "tags": []
   },
   "outputs": [
    {
     "name": "stdout",
     "output_type": "stream",
     "text": [
      "CPU times: user 277 ms, sys: 19.6 ms, total: 297 ms\n",
      "Wall time: 281 ms\n"
     ]
    }
   ],
   "source": [
    "%%time\n",
    "model = RankingModel(use_user_features=True, use_item_features=True)"
   ]
  },
  {
   "cell_type": "code",
   "execution_count": 36,
   "id": "df28ac6c",
   "metadata": {
    "execution": {
     "iopub.execute_input": "2023-10-13T06:49:59.916992Z",
     "iopub.status.busy": "2023-10-13T06:49:59.916646Z",
     "iopub.status.idle": "2023-10-13T07:02:50.421749Z",
     "shell.execute_reply": "2023-10-13T07:02:50.419586Z"
    },
    "papermill": {
     "duration": 770.519836,
     "end_time": "2023-10-13T07:02:50.425046",
     "exception": false,
     "start_time": "2023-10-13T06:49:59.905210",
     "status": "completed"
    },
    "tags": []
   },
   "outputs": [
    {
     "name": "stdout",
     "output_type": "stream",
     "text": [
      "1236/1236 [==============================] - 762s 521ms/step - auc: 0.9901 - loss: 0.1010 - regularization_loss: 0.0000e+00 - total_loss: 0.1010\n"
     ]
    },
    {
     "data": {
      "text/plain": [
       "<keras.callbacks.History at 0x7cd82ae86fb0>"
      ]
     },
     "execution_count": 36,
     "metadata": {},
     "output_type": "execute_result"
    }
   ],
   "source": [
    "model.compile(optimizer='adam')\n",
    "# model.fit(cached_train, epochs=1, validation_data=cached_test, batch_size=128, shuffle=True) --> for local validation\n",
    "model.fit(cached_train, epochs=1, batch_size=128, shuffle=True) # for private test submission"
   ]
  },
  {
   "cell_type": "markdown",
   "id": "73aa5a22",
   "metadata": {
    "papermill": {
     "duration": 0.078574,
     "end_time": "2023-10-13T07:02:50.582410",
     "exception": false,
     "start_time": "2023-10-13T07:02:50.503836",
     "status": "completed"
    },
    "tags": []
   },
   "source": [
    "# Create submission"
   ]
  },
  {
   "cell_type": "code",
   "execution_count": 37,
   "id": "ef38563a",
   "metadata": {
    "execution": {
     "iopub.execute_input": "2023-10-13T07:02:50.737250Z",
     "iopub.status.busy": "2023-10-13T07:02:50.736339Z",
     "iopub.status.idle": "2023-10-13T07:03:50.922376Z",
     "shell.execute_reply": "2023-10-13T07:03:50.921291Z"
    },
    "papermill": {
     "duration": 60.266435,
     "end_time": "2023-10-13T07:03:50.924629",
     "exception": false,
     "start_time": "2023-10-13T07:02:50.658194",
     "status": "completed"
    },
    "tags": []
   },
   "outputs": [
    {
     "name": "stdout",
     "output_type": "stream",
     "text": [
      "211/211 [==============================] - 60s 281ms/step\n"
     ]
    }
   ],
   "source": [
    "preds = model.predict(cached_test)"
   ]
  },
  {
   "cell_type": "code",
   "execution_count": 38,
   "id": "c29ae341",
   "metadata": {
    "execution": {
     "iopub.execute_input": "2023-10-13T07:03:51.103008Z",
     "iopub.status.busy": "2023-10-13T07:03:51.102372Z",
     "iopub.status.idle": "2023-10-13T07:04:00.015927Z",
     "shell.execute_reply": "2023-10-13T07:04:00.014848Z"
    },
    "papermill": {
     "duration": 9.005799,
     "end_time": "2023-10-13T07:04:00.018326",
     "exception": false,
     "start_time": "2023-10-13T07:03:51.012527",
     "status": "completed"
    },
    "tags": []
   },
   "outputs": [],
   "source": [
    "sub = pd.DataFrame({\n",
    "    'pred' : np.squeeze(preds, axis=1),\n",
    "    'label': test['label']\n",
    "})\n",
    "compression_opts = dict(method='zip', archive_name='results.csv')  \n",
    "sub.to_csv('two_tower_test.csv', index=False)\n",
    "sub[['pred']].to_csv('results.zip', header=False, index=False, compression=compression_opts)"
   ]
  },
  {
   "cell_type": "code",
   "execution_count": 39,
   "id": "400b95db",
   "metadata": {
    "execution": {
     "iopub.execute_input": "2023-10-13T07:04:00.196144Z",
     "iopub.status.busy": "2023-10-13T07:04:00.195780Z",
     "iopub.status.idle": "2023-10-13T07:04:00.207691Z",
     "shell.execute_reply": "2023-10-13T07:04:00.206997Z"
    },
    "papermill": {
     "duration": 0.103677,
     "end_time": "2023-10-13T07:04:00.209888",
     "exception": false,
     "start_time": "2023-10-13T07:04:00.106211",
     "status": "completed"
    },
    "tags": []
   },
   "outputs": [
    {
     "data": {
      "text/html": [
       "<div>\n",
       "<style scoped>\n",
       "    .dataframe tbody tr th:only-of-type {\n",
       "        vertical-align: middle;\n",
       "    }\n",
       "\n",
       "    .dataframe tbody tr th {\n",
       "        vertical-align: top;\n",
       "    }\n",
       "\n",
       "    .dataframe thead th {\n",
       "        text-align: right;\n",
       "    }\n",
       "</style>\n",
       "<table border=\"1\" class=\"dataframe\">\n",
       "  <thead>\n",
       "    <tr style=\"text-align: right;\">\n",
       "      <th></th>\n",
       "      <th>pred</th>\n",
       "      <th>label</th>\n",
       "    </tr>\n",
       "  </thead>\n",
       "  <tbody>\n",
       "    <tr>\n",
       "      <th>0</th>\n",
       "      <td>0.964575</td>\n",
       "      <td>-1</td>\n",
       "    </tr>\n",
       "    <tr>\n",
       "      <th>1</th>\n",
       "      <td>0.999998</td>\n",
       "      <td>-1</td>\n",
       "    </tr>\n",
       "    <tr>\n",
       "      <th>2</th>\n",
       "      <td>0.000471</td>\n",
       "      <td>-1</td>\n",
       "    </tr>\n",
       "    <tr>\n",
       "      <th>3</th>\n",
       "      <td>0.056739</td>\n",
       "      <td>-1</td>\n",
       "    </tr>\n",
       "    <tr>\n",
       "      <th>4</th>\n",
       "      <td>0.895213</td>\n",
       "      <td>-1</td>\n",
       "    </tr>\n",
       "    <tr>\n",
       "      <th>...</th>\n",
       "      <td>...</td>\n",
       "      <td>...</td>\n",
       "    </tr>\n",
       "    <tr>\n",
       "      <th>1728013</th>\n",
       "      <td>0.919966</td>\n",
       "      <td>-1</td>\n",
       "    </tr>\n",
       "    <tr>\n",
       "      <th>1728014</th>\n",
       "      <td>0.000209</td>\n",
       "      <td>-1</td>\n",
       "    </tr>\n",
       "    <tr>\n",
       "      <th>1728015</th>\n",
       "      <td>0.001585</td>\n",
       "      <td>-1</td>\n",
       "    </tr>\n",
       "    <tr>\n",
       "      <th>1728016</th>\n",
       "      <td>0.049419</td>\n",
       "      <td>-1</td>\n",
       "    </tr>\n",
       "    <tr>\n",
       "      <th>1728017</th>\n",
       "      <td>0.052933</td>\n",
       "      <td>-1</td>\n",
       "    </tr>\n",
       "  </tbody>\n",
       "</table>\n",
       "<p>1728018 rows × 2 columns</p>\n",
       "</div>"
      ],
      "text/plain": [
       "             pred  label\n",
       "0        0.964575     -1\n",
       "1        0.999998     -1\n",
       "2        0.000471     -1\n",
       "3        0.056739     -1\n",
       "4        0.895213     -1\n",
       "...           ...    ...\n",
       "1728013  0.919966     -1\n",
       "1728014  0.000209     -1\n",
       "1728015  0.001585     -1\n",
       "1728016  0.049419     -1\n",
       "1728017  0.052933     -1\n",
       "\n",
       "[1728018 rows x 2 columns]"
      ]
     },
     "execution_count": 39,
     "metadata": {},
     "output_type": "execute_result"
    }
   ],
   "source": [
    "sub"
   ]
  },
  {
   "cell_type": "code",
   "execution_count": 40,
   "id": "e2a199dd",
   "metadata": {
    "execution": {
     "iopub.execute_input": "2023-10-13T07:04:00.387871Z",
     "iopub.status.busy": "2023-10-13T07:04:00.387110Z",
     "iopub.status.idle": "2023-10-13T07:04:00.716464Z",
     "shell.execute_reply": "2023-10-13T07:04:00.715343Z"
    },
    "papermill": {
     "duration": 0.420634,
     "end_time": "2023-10-13T07:04:00.718737",
     "exception": false,
     "start_time": "2023-10-13T07:04:00.298103",
     "status": "completed"
    },
    "tags": []
   },
   "outputs": [
    {
     "data": {
      "image/png": "[encoded data removed]",
      "text/plain": [
       "<Figure size 640x480 with 1 Axes>"
      ]
     },
     "metadata": {},
     "output_type": "display_data"
    }
   ],
   "source": [
    "import matplotlib.pyplot as plt\n",
    "plt.hist(sub['pred'], bins=10)\n",
    "plt.title('Histogram of preds',size=20)\n",
    "plt.show()"
   ]
  },
  {
   "cell_type": "code",
   "execution_count": null,
   "id": "a83fca5c",
   "metadata": {
    "papermill": {
     "duration": 0.086597,
     "end_time": "2023-10-13T07:04:00.892278",
     "exception": false,
     "start_time": "2023-10-13T07:04:00.805681",
     "status": "completed"
    },
    "tags": []
   },
   "outputs": [],
   "source": []
  }
 ],
 "metadata": {
  "kernelspec": {
   "display_name": "Python 3",
   "language": "python",
   "name": "python3"
  },
  "language_info": {
   "codemirror_mode": {
    "name": "ipython",
    "version": 3
   },
   "file_extension": ".py",
   "mimetype": "text/x-python",
   "name": "python",
   "nbconvert_exporter": "python",
   "pygments_lexer": "ipython3",
   "version": "3.10.12"
  },
  "papermill": {
   "default_parameters": {},
   "duration": 1133.020864,
   "end_time": "2023-10-13T07:04:06.624021",
   "environment_variables": {},
   "exception": null,
   "input_path": "__notebook__.ipynb",
   "output_path": "__notebook__.ipynb",
   "parameters": {},
   "start_time": "2023-10-13T06:45:13.603157",
   "version": "2.4.0"
  }
 },
 "nbformat": 4,
 "nbformat_minor": 5
}
