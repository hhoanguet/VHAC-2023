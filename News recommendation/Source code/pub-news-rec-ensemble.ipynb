{
 "cells": [
  {
   "cell_type": "code",
   "execution_count": 1,
   "id": "83d7e367",
   "metadata": {
    "_cell_guid": "b1076dfc-b9ad-4769-8c92-a6c4dae69d19",
    "_uuid": "8f2839f25d086af736a60e9eeb907d3b93b6e0e5",
    "execution": {
     "iopub.execute_input": "2023-10-13T00:42:31.754824Z",
     "iopub.status.busy": "2023-10-13T00:42:31.754503Z",
     "iopub.status.idle": "2023-10-13T00:42:33.534261Z",
     "shell.execute_reply": "2023-10-13T00:42:33.532321Z"
    },
    "papermill": {
     "duration": 1.787835,
     "end_time": "2023-10-13T00:42:33.537317",
     "exception": false,
     "start_time": "2023-10-13T00:42:31.749482",
     "status": "completed"
    },
    "tags": []
   },
   "outputs": [],
   "source": [
    "import numpy as np # linear algebra\n",
    "import pandas as pd # data processing, CSV file I/O (e.g. pd.read_csv)\n",
    "from sklearn.metrics import roc_auc_score"
   ]
  },
  {
   "cell_type": "code",
   "execution_count": 2,
   "id": "3aaa1722",
   "metadata": {
    "execution": {
     "iopub.execute_input": "2023-10-13T00:42:33.550269Z",
     "iopub.status.busy": "2023-10-13T00:42:33.549685Z",
     "iopub.status.idle": "2023-10-13T00:42:34.167923Z",
     "shell.execute_reply": "2023-10-13T00:42:34.166140Z"
    },
    "papermill": {
     "duration": 0.626032,
     "end_time": "2023-10-13T00:42:34.170188",
     "exception": false,
     "start_time": "2023-10-13T00:42:33.544156",
     "status": "completed"
    },
    "tags": []
   },
   "outputs": [],
   "source": [
    "sub1 = pd.read_csv(\"/kaggle/input/news-result/two_tower_valid.csv\")\n",
    "sub1.columns = ['dl', 'dl_label']\n",
    "\n",
    "sub2 = pd.read_csv(\"/kaggle/input/news-result/xgb_valid.csv\")\n",
    "sub2.columns = ['xgb', 'xgb_label']"
   ]
  },
  {
   "cell_type": "code",
   "execution_count": 3,
   "id": "3570cd29",
   "metadata": {
    "execution": {
     "iopub.execute_input": "2023-10-13T00:42:34.176783Z",
     "iopub.status.busy": "2023-10-13T00:42:34.176486Z",
     "iopub.status.idle": "2023-10-13T00:42:34.193702Z",
     "shell.execute_reply": "2023-10-13T00:42:34.192336Z"
    },
    "papermill": {
     "duration": 0.023331,
     "end_time": "2023-10-13T00:42:34.196292",
     "exception": false,
     "start_time": "2023-10-13T00:42:34.172961",
     "status": "completed"
    },
    "tags": []
   },
   "outputs": [
    {
     "data": {
      "text/plain": [
       "0"
      ]
     },
     "execution_count": 3,
     "metadata": {},
     "output_type": "execute_result"
    }
   ],
   "source": [
    "# Checking minor bugs\n",
    "(sub1['dl_label'] != sub2['xgb_label']).sum()"
   ]
  },
  {
   "cell_type": "code",
   "execution_count": 4,
   "id": "6de1925a",
   "metadata": {
    "execution": {
     "iopub.execute_input": "2023-10-13T00:42:34.203413Z",
     "iopub.status.busy": "2023-10-13T00:42:34.203104Z",
     "iopub.status.idle": "2023-10-13T00:42:34.211628Z",
     "shell.execute_reply": "2023-10-13T00:42:34.210223Z"
    },
    "papermill": {
     "duration": 0.014602,
     "end_time": "2023-10-13T00:42:34.213891",
     "exception": false,
     "start_time": "2023-10-13T00:42:34.199289",
     "status": "completed"
    },
    "tags": []
   },
   "outputs": [],
   "source": [
    "oof_df = pd.DataFrame({\n",
    "    'dl': sub1['dl'],\n",
    "    'xgb' : sub2['xgb'],\n",
    "})"
   ]
  },
  {
   "cell_type": "code",
   "execution_count": 5,
   "id": "d7a02e09",
   "metadata": {
    "execution": {
     "iopub.execute_input": "2023-10-13T00:42:34.221128Z",
     "iopub.status.busy": "2023-10-13T00:42:34.220179Z",
     "iopub.status.idle": "2023-10-13T00:42:34.236048Z",
     "shell.execute_reply": "2023-10-13T00:42:34.235254Z"
    },
    "papermill": {
     "duration": 0.020882,
     "end_time": "2023-10-13T00:42:34.237583",
     "exception": false,
     "start_time": "2023-10-13T00:42:34.216701",
     "status": "completed"
    },
    "tags": []
   },
   "outputs": [
    {
     "data": {
      "text/html": [
       "<div>\n",
       "<style scoped>\n",
       "    .dataframe tbody tr th:only-of-type {\n",
       "        vertical-align: middle;\n",
       "    }\n",
       "\n",
       "    .dataframe tbody tr th {\n",
       "        vertical-align: top;\n",
       "    }\n",
       "\n",
       "    .dataframe thead th {\n",
       "        text-align: right;\n",
       "    }\n",
       "</style>\n",
       "<table border=\"1\" class=\"dataframe\">\n",
       "  <thead>\n",
       "    <tr style=\"text-align: right;\">\n",
       "      <th></th>\n",
       "      <th>dl</th>\n",
       "      <th>xgb</th>\n",
       "    </tr>\n",
       "  </thead>\n",
       "  <tbody>\n",
       "    <tr>\n",
       "      <th>0</th>\n",
       "      <td>0.285397</td>\n",
       "      <td>0.209370</td>\n",
       "    </tr>\n",
       "    <tr>\n",
       "      <th>1</th>\n",
       "      <td>0.000006</td>\n",
       "      <td>0.000056</td>\n",
       "    </tr>\n",
       "    <tr>\n",
       "      <th>2</th>\n",
       "      <td>0.972774</td>\n",
       "      <td>0.983713</td>\n",
       "    </tr>\n",
       "    <tr>\n",
       "      <th>3</th>\n",
       "      <td>0.053409</td>\n",
       "      <td>0.027575</td>\n",
       "    </tr>\n",
       "    <tr>\n",
       "      <th>4</th>\n",
       "      <td>0.001673</td>\n",
       "      <td>0.682318</td>\n",
       "    </tr>\n",
       "    <tr>\n",
       "      <th>...</th>\n",
       "      <td>...</td>\n",
       "      <td>...</td>\n",
       "    </tr>\n",
       "    <tr>\n",
       "      <th>1168002</th>\n",
       "      <td>0.000006</td>\n",
       "      <td>0.000136</td>\n",
       "    </tr>\n",
       "    <tr>\n",
       "      <th>1168003</th>\n",
       "      <td>0.972384</td>\n",
       "      <td>0.987512</td>\n",
       "    </tr>\n",
       "    <tr>\n",
       "      <th>1168004</th>\n",
       "      <td>0.018462</td>\n",
       "      <td>0.041691</td>\n",
       "    </tr>\n",
       "    <tr>\n",
       "      <th>1168005</th>\n",
       "      <td>0.000123</td>\n",
       "      <td>0.002150</td>\n",
       "    </tr>\n",
       "    <tr>\n",
       "      <th>1168006</th>\n",
       "      <td>0.000049</td>\n",
       "      <td>0.008729</td>\n",
       "    </tr>\n",
       "  </tbody>\n",
       "</table>\n",
       "<p>1168007 rows × 2 columns</p>\n",
       "</div>"
      ],
      "text/plain": [
       "               dl       xgb\n",
       "0        0.285397  0.209370\n",
       "1        0.000006  0.000056\n",
       "2        0.972774  0.983713\n",
       "3        0.053409  0.027575\n",
       "4        0.001673  0.682318\n",
       "...           ...       ...\n",
       "1168002  0.000006  0.000136\n",
       "1168003  0.972384  0.987512\n",
       "1168004  0.018462  0.041691\n",
       "1168005  0.000123  0.002150\n",
       "1168006  0.000049  0.008729\n",
       "\n",
       "[1168007 rows x 2 columns]"
      ]
     },
     "execution_count": 5,
     "metadata": {},
     "output_type": "execute_result"
    }
   ],
   "source": [
    "oof_df"
   ]
  },
  {
   "cell_type": "code",
   "execution_count": 6,
   "id": "b4953fa6",
   "metadata": {
    "execution": {
     "iopub.execute_input": "2023-10-13T00:42:34.245310Z",
     "iopub.status.busy": "2023-10-13T00:42:34.244798Z",
     "iopub.status.idle": "2023-10-13T00:42:34.274301Z",
     "shell.execute_reply": "2023-10-13T00:42:34.273408Z"
    },
    "papermill": {
     "duration": 0.035397,
     "end_time": "2023-10-13T00:42:34.275975",
     "exception": false,
     "start_time": "2023-10-13T00:42:34.240578",
     "status": "completed"
    },
    "tags": []
   },
   "outputs": [
    {
     "data": {
      "text/plain": [
       "0.978392985190617"
      ]
     },
     "execution_count": 6,
     "metadata": {},
     "output_type": "execute_result"
    }
   ],
   "source": [
    "oof_df['dl'].corr(oof_df['xgb'])"
   ]
  },
  {
   "cell_type": "code",
   "execution_count": 7,
   "id": "2bec36f5",
   "metadata": {
    "execution": {
     "iopub.execute_input": "2023-10-13T00:42:34.283291Z",
     "iopub.status.busy": "2023-10-13T00:42:34.283006Z",
     "iopub.status.idle": "2023-10-13T00:42:34.286689Z",
     "shell.execute_reply": "2023-10-13T00:42:34.285916Z"
    },
    "papermill": {
     "duration": 0.009023,
     "end_time": "2023-10-13T00:42:34.288128",
     "exception": false,
     "start_time": "2023-10-13T00:42:34.279105",
     "status": "completed"
    },
    "tags": []
   },
   "outputs": [],
   "source": [
    "### Power averaging\n",
    "# power = 2\n",
    "# preds['final_pred'] = (preds['dl'] ** power + preds['xgb'] ** power) / 2\n",
    "\n",
    "### Simple averaging\n",
    "# preds['final_pred'] = (preds['dl'] + preds['xgb']) / 2"
   ]
  },
  {
   "cell_type": "code",
   "execution_count": 8,
   "id": "066dab14",
   "metadata": {
    "execution": {
     "iopub.execute_input": "2023-10-13T00:42:34.295358Z",
     "iopub.status.busy": "2023-10-13T00:42:34.295073Z",
     "iopub.status.idle": "2023-10-13T00:42:35.080591Z",
     "shell.execute_reply": "2023-10-13T00:42:35.078394Z"
    },
    "papermill": {
     "duration": 0.792306,
     "end_time": "2023-10-13T00:42:35.083436",
     "exception": false,
     "start_time": "2023-10-13T00:42:34.291130",
     "status": "completed"
    },
    "tags": []
   },
   "outputs": [
    {
     "data": {
      "text/plain": [
       "{'dl': 0.988761471997079, 'xgb': 0.9882827450980752}"
      ]
     },
     "execution_count": 8,
     "metadata": {},
     "output_type": "execute_result"
    }
   ],
   "source": [
    "# Evaluate oof preds\n",
    "scores = {}\n",
    "y = sub1['dl_label']\n",
    "for col in oof_df.columns:\n",
    "    scores[col] = roc_auc_score(y, oof_df[col])\n",
    "\n",
    "# Sort scores\n",
    "scores = {k: v for k, v in sorted(scores.items(), key=lambda item: item[1], reverse=True)}\n",
    "\n",
    "# Sort oof_df and test_preds\n",
    "oof_df = oof_df[list(scores.keys())]\n",
    "# test_preds = test_preds[list(scores.keys())]\n",
    "\n",
    "scores"
   ]
  },
  {
   "cell_type": "code",
   "execution_count": 9,
   "id": "155e9027",
   "metadata": {
    "execution": {
     "iopub.execute_input": "2023-10-13T00:42:35.091779Z",
     "iopub.status.busy": "2023-10-13T00:42:35.091461Z",
     "iopub.status.idle": "2023-10-13T00:42:56.661338Z",
     "shell.execute_reply": "2023-10-13T00:42:56.658963Z"
    },
    "papermill": {
     "duration": 21.576436,
     "end_time": "2023-10-13T00:42:56.663723",
     "exception": false,
     "start_time": "2023-10-13T00:42:35.087287",
     "status": "completed"
    },
    "tags": []
   },
   "outputs": [
    {
     "name": "stdout",
     "output_type": "stream",
     "text": [
      "Iteration: 1, Model added: xgb, Best weight: 0.37, Best AUC: 0.98946\n"
     ]
    },
    {
     "name": "stderr",
     "output_type": "stream",
     "text": [
      "/tmp/ipykernel_21/1443119745.py:26: SettingWithCopyWarning: \n",
      "A value is trying to be set on a copy of a slice from a DataFrame\n",
      "\n",
      "See the caveats in the documentation: https://pandas.pydata.org/pandas-docs/stable/user_guide/indexing.html#returning-a-view-versus-a-copy\n",
      "  MODELS.drop(k_best, axis=1, inplace=True)\n"
     ]
    }
   ],
   "source": [
    "# Initialise\n",
    "STOP = False\n",
    "current_best_ensemble = oof_df.iloc[:,0]\n",
    "# current_best_test_preds = test_preds.iloc[:,0]\n",
    "MODELS = oof_df.iloc[:,1:]\n",
    "weight_range = np.arange(0.01,0.51,0.01)   # or with negative weights: np.arange(-0.5,0.51,0.01)\n",
    "history = [roc_auc_score(y, current_best_ensemble)]\n",
    "i=0\n",
    "\n",
    "# Hill climbing\n",
    "while not STOP:\n",
    "    i+=1\n",
    "    potential_new_best_cv_score = roc_auc_score(y, current_best_ensemble)\n",
    "    k_best, wgt_best = None, None\n",
    "    for k in MODELS: # column name\n",
    "        for wgt in weight_range:\n",
    "            potential_ensemble = (1-wgt) * current_best_ensemble + wgt * MODELS[k]\n",
    "            cv_score = roc_auc_score(y, potential_ensemble)\n",
    "            if cv_score > potential_new_best_cv_score:\n",
    "                potential_new_best_cv_score = cv_score\n",
    "                k_best, wgt_best = k, wgt\n",
    "            \n",
    "    if k_best is not None:\n",
    "        current_best_ensemble = (1-wgt_best) * current_best_ensemble + wgt_best * MODELS[k_best]\n",
    "#         current_best_test_preds = (1-wgt_best) * current_best_test_preds + wgt_best * test_preds[k_best]\n",
    "        MODELS.drop(k_best, axis=1, inplace=True)\n",
    "        if MODELS.shape[1]==0:\n",
    "            STOP = True\n",
    "        print(f'Iteration: {i}, Model added: {k_best}, Best weight: {wgt_best:.2f}, Best AUC: {potential_new_best_cv_score:.5f}')\n",
    "        history.append(potential_new_best_cv_score)\n",
    "    else:\n",
    "        STOP = True"
   ]
  },
  {
   "cell_type": "code",
   "execution_count": 10,
   "id": "ee893e2a",
   "metadata": {
    "execution": {
     "iopub.execute_input": "2023-10-13T00:42:56.673290Z",
     "iopub.status.busy": "2023-10-13T00:42:56.672959Z",
     "iopub.status.idle": "2023-10-13T00:42:57.508648Z",
     "shell.execute_reply": "2023-10-13T00:42:57.506629Z"
    },
    "papermill": {
     "duration": 0.844086,
     "end_time": "2023-10-13T00:42:57.511701",
     "exception": false,
     "start_time": "2023-10-13T00:42:56.667615",
     "status": "completed"
    },
    "tags": []
   },
   "outputs": [],
   "source": [
    "test_pred_dl = pd.read_csv('/kaggle/input/news-result/two_tower_test.csv')\n",
    "test_pred_dl.columns = ['pred_dl', 'label']\n",
    "\n",
    "test_pred_xgb = pd.read_csv('/kaggle/input/news-result/xgb_test.csv')\n",
    "test_pred_xgb.columns = ['pred_xgb', 'label']\n",
    "\n",
    "test_preds = pd.DataFrame({\n",
    "    'dl': test_pred_dl['pred_dl'],\n",
    "    'xgb' : test_pred_xgb['pred_xgb']\n",
    "})"
   ]
  },
  {
   "cell_type": "code",
   "execution_count": 11,
   "id": "9cad5882",
   "metadata": {
    "execution": {
     "iopub.execute_input": "2023-10-13T00:42:57.521093Z",
     "iopub.status.busy": "2023-10-13T00:42:57.520725Z",
     "iopub.status.idle": "2023-10-13T00:42:57.541326Z",
     "shell.execute_reply": "2023-10-13T00:42:57.539440Z"
    },
    "papermill": {
     "duration": 0.028446,
     "end_time": "2023-10-13T00:42:57.544186",
     "exception": false,
     "start_time": "2023-10-13T00:42:57.515740",
     "status": "completed"
    },
    "tags": []
   },
   "outputs": [],
   "source": [
    "test_preds['final_pred'] = (test_preds['dl'] * (1-wgt_best) + test_preds['xgb'] * wgt_best)"
   ]
  },
  {
   "cell_type": "code",
   "execution_count": 12,
   "id": "fb369db5",
   "metadata": {
    "execution": {
     "iopub.execute_input": "2023-10-13T00:42:57.552660Z",
     "iopub.status.busy": "2023-10-13T00:42:57.552323Z",
     "iopub.status.idle": "2023-10-13T00:42:57.565809Z",
     "shell.execute_reply": "2023-10-13T00:42:57.564056Z"
    },
    "papermill": {
     "duration": 0.02081,
     "end_time": "2023-10-13T00:42:57.569003",
     "exception": false,
     "start_time": "2023-10-13T00:42:57.548193",
     "status": "completed"
    },
    "tags": []
   },
   "outputs": [
    {
     "data": {
      "text/html": [
       "<div>\n",
       "<style scoped>\n",
       "    .dataframe tbody tr th:only-of-type {\n",
       "        vertical-align: middle;\n",
       "    }\n",
       "\n",
       "    .dataframe tbody tr th {\n",
       "        vertical-align: top;\n",
       "    }\n",
       "\n",
       "    .dataframe thead th {\n",
       "        text-align: right;\n",
       "    }\n",
       "</style>\n",
       "<table border=\"1\" class=\"dataframe\">\n",
       "  <thead>\n",
       "    <tr style=\"text-align: right;\">\n",
       "      <th></th>\n",
       "      <th>dl</th>\n",
       "      <th>xgb</th>\n",
       "      <th>final_pred</th>\n",
       "    </tr>\n",
       "  </thead>\n",
       "  <tbody>\n",
       "    <tr>\n",
       "      <th>0</th>\n",
       "      <td>0.964575</td>\n",
       "      <td>0.998601</td>\n",
       "      <td>0.977165</td>\n",
       "    </tr>\n",
       "    <tr>\n",
       "      <th>1</th>\n",
       "      <td>0.999998</td>\n",
       "      <td>0.999376</td>\n",
       "      <td>0.999768</td>\n",
       "    </tr>\n",
       "    <tr>\n",
       "      <th>2</th>\n",
       "      <td>0.000471</td>\n",
       "      <td>0.008775</td>\n",
       "      <td>0.003543</td>\n",
       "    </tr>\n",
       "    <tr>\n",
       "      <th>3</th>\n",
       "      <td>0.056739</td>\n",
       "      <td>0.071629</td>\n",
       "      <td>0.062248</td>\n",
       "    </tr>\n",
       "    <tr>\n",
       "      <th>4</th>\n",
       "      <td>0.895213</td>\n",
       "      <td>0.541142</td>\n",
       "      <td>0.764207</td>\n",
       "    </tr>\n",
       "    <tr>\n",
       "      <th>...</th>\n",
       "      <td>...</td>\n",
       "      <td>...</td>\n",
       "      <td>...</td>\n",
       "    </tr>\n",
       "    <tr>\n",
       "      <th>1728013</th>\n",
       "      <td>0.919966</td>\n",
       "      <td>0.969256</td>\n",
       "      <td>0.938203</td>\n",
       "    </tr>\n",
       "    <tr>\n",
       "      <th>1728014</th>\n",
       "      <td>0.000209</td>\n",
       "      <td>0.010082</td>\n",
       "      <td>0.003862</td>\n",
       "    </tr>\n",
       "    <tr>\n",
       "      <th>1728015</th>\n",
       "      <td>0.001585</td>\n",
       "      <td>0.014694</td>\n",
       "      <td>0.006435</td>\n",
       "    </tr>\n",
       "    <tr>\n",
       "      <th>1728016</th>\n",
       "      <td>0.049419</td>\n",
       "      <td>0.155538</td>\n",
       "      <td>0.088683</td>\n",
       "    </tr>\n",
       "    <tr>\n",
       "      <th>1728017</th>\n",
       "      <td>0.052933</td>\n",
       "      <td>0.166691</td>\n",
       "      <td>0.095023</td>\n",
       "    </tr>\n",
       "  </tbody>\n",
       "</table>\n",
       "<p>1728018 rows × 3 columns</p>\n",
       "</div>"
      ],
      "text/plain": [
       "               dl       xgb  final_pred\n",
       "0        0.964575  0.998601    0.977165\n",
       "1        0.999998  0.999376    0.999768\n",
       "2        0.000471  0.008775    0.003543\n",
       "3        0.056739  0.071629    0.062248\n",
       "4        0.895213  0.541142    0.764207\n",
       "...           ...       ...         ...\n",
       "1728013  0.919966  0.969256    0.938203\n",
       "1728014  0.000209  0.010082    0.003862\n",
       "1728015  0.001585  0.014694    0.006435\n",
       "1728016  0.049419  0.155538    0.088683\n",
       "1728017  0.052933  0.166691    0.095023\n",
       "\n",
       "[1728018 rows x 3 columns]"
      ]
     },
     "execution_count": 12,
     "metadata": {},
     "output_type": "execute_result"
    }
   ],
   "source": [
    "test_preds"
   ]
  },
  {
   "cell_type": "code",
   "execution_count": 13,
   "id": "2c956235",
   "metadata": {
    "execution": {
     "iopub.execute_input": "2023-10-13T00:42:57.577365Z",
     "iopub.status.busy": "2023-10-13T00:42:57.577020Z",
     "iopub.status.idle": "2023-10-13T00:43:02.704773Z",
     "shell.execute_reply": "2023-10-13T00:43:02.702750Z"
    },
    "papermill": {
     "duration": 5.134976,
     "end_time": "2023-10-13T00:43:02.707584",
     "exception": false,
     "start_time": "2023-10-13T00:42:57.572608",
     "status": "completed"
    },
    "tags": []
   },
   "outputs": [],
   "source": [
    "sub = pd.DataFrame({'pred' : test_preds['final_pred'].values})\n",
    "compression_opts = dict(method='zip', archive_name='results.csv')  \n",
    "sub.to_csv('results.zip', header=False, index=False, compression=compression_opts)"
   ]
  },
  {
   "cell_type": "code",
   "execution_count": 14,
   "id": "febce683",
   "metadata": {
    "execution": {
     "iopub.execute_input": "2023-10-13T00:43:02.716645Z",
     "iopub.status.busy": "2023-10-13T00:43:02.716333Z",
     "iopub.status.idle": "2023-10-13T00:43:02.730023Z",
     "shell.execute_reply": "2023-10-13T00:43:02.728752Z"
    },
    "papermill": {
     "duration": 0.020741,
     "end_time": "2023-10-13T00:43:02.732257",
     "exception": false,
     "start_time": "2023-10-13T00:43:02.711516",
     "status": "completed"
    },
    "tags": []
   },
   "outputs": [
    {
     "data": {
      "text/html": [
       "<div>\n",
       "<style scoped>\n",
       "    .dataframe tbody tr th:only-of-type {\n",
       "        vertical-align: middle;\n",
       "    }\n",
       "\n",
       "    .dataframe tbody tr th {\n",
       "        vertical-align: top;\n",
       "    }\n",
       "\n",
       "    .dataframe thead th {\n",
       "        text-align: right;\n",
       "    }\n",
       "</style>\n",
       "<table border=\"1\" class=\"dataframe\">\n",
       "  <thead>\n",
       "    <tr style=\"text-align: right;\">\n",
       "      <th></th>\n",
       "      <th>pred</th>\n",
       "    </tr>\n",
       "  </thead>\n",
       "  <tbody>\n",
       "    <tr>\n",
       "      <th>0</th>\n",
       "      <td>0.977165</td>\n",
       "    </tr>\n",
       "    <tr>\n",
       "      <th>1</th>\n",
       "      <td>0.999768</td>\n",
       "    </tr>\n",
       "    <tr>\n",
       "      <th>2</th>\n",
       "      <td>0.003543</td>\n",
       "    </tr>\n",
       "    <tr>\n",
       "      <th>3</th>\n",
       "      <td>0.062248</td>\n",
       "    </tr>\n",
       "    <tr>\n",
       "      <th>4</th>\n",
       "      <td>0.764207</td>\n",
       "    </tr>\n",
       "    <tr>\n",
       "      <th>...</th>\n",
       "      <td>...</td>\n",
       "    </tr>\n",
       "    <tr>\n",
       "      <th>1728013</th>\n",
       "      <td>0.938203</td>\n",
       "    </tr>\n",
       "    <tr>\n",
       "      <th>1728014</th>\n",
       "      <td>0.003862</td>\n",
       "    </tr>\n",
       "    <tr>\n",
       "      <th>1728015</th>\n",
       "      <td>0.006435</td>\n",
       "    </tr>\n",
       "    <tr>\n",
       "      <th>1728016</th>\n",
       "      <td>0.088683</td>\n",
       "    </tr>\n",
       "    <tr>\n",
       "      <th>1728017</th>\n",
       "      <td>0.095023</td>\n",
       "    </tr>\n",
       "  </tbody>\n",
       "</table>\n",
       "<p>1728018 rows × 1 columns</p>\n",
       "</div>"
      ],
      "text/plain": [
       "             pred\n",
       "0        0.977165\n",
       "1        0.999768\n",
       "2        0.003543\n",
       "3        0.062248\n",
       "4        0.764207\n",
       "...           ...\n",
       "1728013  0.938203\n",
       "1728014  0.003862\n",
       "1728015  0.006435\n",
       "1728016  0.088683\n",
       "1728017  0.095023\n",
       "\n",
       "[1728018 rows x 1 columns]"
      ]
     },
     "execution_count": 14,
     "metadata": {},
     "output_type": "execute_result"
    }
   ],
   "source": [
    "sub"
   ]
  },
  {
   "cell_type": "code",
   "execution_count": null,
   "id": "21839773",
   "metadata": {
    "papermill": {
     "duration": 0.004248,
     "end_time": "2023-10-13T00:43:02.741066",
     "exception": false,
     "start_time": "2023-10-13T00:43:02.736818",
     "status": "completed"
    },
    "tags": []
   },
   "outputs": [],
   "source": []
  }
 ],
 "metadata": {
  "kernelspec": {
   "display_name": "Python 3",
   "language": "python",
   "name": "python3"
  },
  "language_info": {
   "codemirror_mode": {
    "name": "ipython",
    "version": 3
   },
   "file_extension": ".py",
   "mimetype": "text/x-python",
   "name": "python",
   "nbconvert_exporter": "python",
   "pygments_lexer": "ipython3",
   "version": "3.10.12"
  },
  "papermill": {
   "default_parameters": {},
   "duration": 34.398697,
   "end_time": "2023-10-13T00:43:03.367644",
   "environment_variables": {},
   "exception": null,
   "input_path": "__notebook__.ipynb",
   "output_path": "__notebook__.ipynb",
   "parameters": {},
   "start_time": "2023-10-13T00:42:28.968947",
   "version": "2.4.0"
  }
 },
 "nbformat": 4,
 "nbformat_minor": 5
}
